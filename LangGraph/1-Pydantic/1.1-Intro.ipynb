{
 "cells": [
  {
   "cell_type": "markdown",
   "id": "0ad1880e",
   "metadata": {},
   "source": [
    "### Pydantic Basics: Creating and Using Models\n",
    "\n",
    "Pydantic models are the foundation of Data Validation in Python. They use Python type annotations to define the structure and validate data at runtime.\n",
    " \n",
    "Here's a detailed exploration of basic model creation with several examples. "
   ]
  },
  {
   "cell_type": "code",
   "execution_count": 3,
   "id": "fdbbd1a6",
   "metadata": {},
   "outputs": [],
   "source": [
    "from pydantic import BaseModel"
   ]
  },
  {
   "cell_type": "code",
   "execution_count": 8,
   "id": "3eea8c9d",
   "metadata": {},
   "outputs": [
    {
     "name": "stdout",
     "output_type": "stream",
     "text": [
      "Person(name='Anna', age=25, city='Bangalore')\n"
     ]
    }
   ],
   "source": [
    "from dataclasses import dataclass\n",
    "\n",
    "@dataclass\n",
    "class Person():\n",
    "    name: str\n",
    "    age: int\n",
    "    city: str\n",
    "\n",
    "person = Person(name = \"Anna\", age = 25, city = \"Bangalore\")\n",
    "print(person)\n"
   ]
  },
  {
   "cell_type": "code",
   "execution_count": 11,
   "id": "1feca9fc",
   "metadata": {},
   "outputs": [],
   "source": [
    "class Person(BaseModel):\n",
    "    name: str\n",
    "    age: int\n",
    "    city: str\n",
    "\n",
    "person = Person(name = \"Anna\", age = 25, city = \"Bangalore\")"
   ]
  },
  {
   "cell_type": "code",
   "execution_count": 12,
   "id": "8b95e55f",
   "metadata": {},
   "outputs": [
    {
     "name": "stdout",
     "output_type": "stream",
     "text": [
      "name='Anna' age=25 city='Bangalore'\n"
     ]
    }
   ],
   "source": [
    "print(person)"
   ]
  },
  {
   "cell_type": "code",
   "execution_count": null,
   "id": "48a4ca95",
   "metadata": {},
   "outputs": [
    {
     "ename": "ValidationError",
     "evalue": "1 validation error for Person\ncity\n  Input should be a valid string [type=string_type, input_value=12, input_type=int]\n    For further information visit https://errors.pydantic.dev/2.8/v/string_type",
     "output_type": "error",
     "traceback": [
      "\u001b[1;31m---------------------------------------------------------------------------\u001b[0m",
      "\u001b[1;31mValidationError\u001b[0m                           Traceback (most recent call last)",
      "Cell \u001b[1;32mIn[15], line 1\u001b[0m\n\u001b[1;32m----> 1\u001b[0m person2 \u001b[38;5;241m=\u001b[39m Person(name \u001b[38;5;241m=\u001b[39m \u001b[38;5;124m\"\u001b[39m\u001b[38;5;124mAnna\u001b[39m\u001b[38;5;124m\"\u001b[39m, age \u001b[38;5;241m=\u001b[39m \u001b[38;5;241m25\u001b[39m, city \u001b[38;5;241m=\u001b[39m \u001b[38;5;241m12\u001b[39m)\n",
      "File \u001b[1;32mc:\\Users\\Shaswati\\anaconda3\\Lib\\site-packages\\pydantic\\main.py:193\u001b[0m, in \u001b[0;36mBaseModel.__init__\u001b[1;34m(self, **data)\u001b[0m\n\u001b[0;32m    191\u001b[0m \u001b[38;5;66;03m# `__tracebackhide__` tells pytest and some other tools to omit this function from tracebacks\u001b[39;00m\n\u001b[0;32m    192\u001b[0m __tracebackhide__ \u001b[38;5;241m=\u001b[39m \u001b[38;5;28;01mTrue\u001b[39;00m\n\u001b[1;32m--> 193\u001b[0m \u001b[38;5;28mself\u001b[39m\u001b[38;5;241m.\u001b[39m__pydantic_validator__\u001b[38;5;241m.\u001b[39mvalidate_python(data, self_instance\u001b[38;5;241m=\u001b[39m\u001b[38;5;28mself\u001b[39m)\n",
      "\u001b[1;31mValidationError\u001b[0m: 1 validation error for Person\ncity\n  Input should be a valid string [type=string_type, input_value=12, input_type=int]\n    For further information visit https://errors.pydantic.dev/2.8/v/string_type"
     ]
    }
   ],
   "source": [
    "# person2 = Person(name = \"Anna\", age = 25, city = 12)\n",
    "\n",
    "# Input should be a valid string [type=string_type, input_value=12, input_type=int]"
   ]
  },
  {
   "cell_type": "code",
   "execution_count": 18,
   "id": "303cc656",
   "metadata": {},
   "outputs": [
    {
     "name": "stdout",
     "output_type": "stream",
     "text": [
      "name='Anna' age=25 city='Blr'\n"
     ]
    }
   ],
   "source": [
    "person2 = Person(name = \"Anna\", age = 25, city = \"Blr\")\n",
    "print(person2)"
   ]
  },
  {
   "cell_type": "markdown",
   "id": "508c54ba",
   "metadata": {},
   "source": [
    "### Model with Optional Fields"
   ]
  },
  {
   "cell_type": "code",
   "execution_count": 19,
   "id": "332cf0a2",
   "metadata": {},
   "outputs": [],
   "source": [
    "from typing import Optional"
   ]
  },
  {
   "cell_type": "code",
   "execution_count": 20,
   "id": "fd4b90db",
   "metadata": {},
   "outputs": [],
   "source": [
    "class Employee(BaseModel):\n",
    "    id: int\n",
    "    name: str\n",
    "    department: str\n",
    "    salary: Optional[float] = None\n",
    "    is_active: Optional[bool] = True"
   ]
  },
  {
   "cell_type": "code",
   "execution_count": 22,
   "id": "e9df2ed0",
   "metadata": {},
   "outputs": [],
   "source": [
    "employee = Employee(id = 2176, name = \"Anna\", department = \"Development\", salary = 69999.99)"
   ]
  },
  {
   "cell_type": "code",
   "execution_count": 23,
   "id": "5d1af211",
   "metadata": {},
   "outputs": [
    {
     "name": "stdout",
     "output_type": "stream",
     "text": [
      "id=2176 name='Anna' department='Development' salary=69999.99 is_active=True\n"
     ]
    }
   ],
   "source": [
    "print(employee)"
   ]
  },
  {
   "cell_type": "code",
   "execution_count": 24,
   "id": "054f502e",
   "metadata": {},
   "outputs": [
    {
     "data": {
      "text/plain": [
       "Employee(id=2176, name='Anna', department='Development', salary=69999.99, is_active=True)"
      ]
     },
     "execution_count": 24,
     "metadata": {},
     "output_type": "execute_result"
    }
   ],
   "source": [
    "employee"
   ]
  },
  {
   "cell_type": "markdown",
   "id": "288fefac",
   "metadata": {},
   "source": [
    "Definition\n",
    "- Optional[type]: Indicates the field can be None\n",
    "- Default Value (= None or = True): Makes the field Optional\n",
    "- Required fields must still be provided\n",
    "- Pydantic validates types for Optional fields even when values are provided"
   ]
  },
  {
   "cell_type": "code",
   "execution_count": null,
   "id": "174491fe",
   "metadata": {},
   "outputs": [],
   "source": []
  }
 ],
 "metadata": {
  "kernelspec": {
   "display_name": "base",
   "language": "python",
   "name": "python3"
  },
  "language_info": {
   "codemirror_mode": {
    "name": "ipython",
    "version": 3
   },
   "file_extension": ".py",
   "mimetype": "text/x-python",
   "name": "python",
   "nbconvert_exporter": "python",
   "pygments_lexer": "ipython3",
   "version": "3.12.7"
  }
 },
 "nbformat": 4,
 "nbformat_minor": 5
}
