{
 "cells": [
  {
   "cell_type": "markdown",
   "id": "69371556",
   "metadata": {},
   "source": [
    "### Ollama\n",
    "Get up and running with large language models! [GitHub](https://github.com/ollama/ollama)\n",
    "\n",
    "Ollama supports embedding models, making it possible to build RAG applications that combine text prompts with existing documents or other data."
   ]
  },
  {
   "cell_type": "code",
   "execution_count": null,
   "id": "712895ea",
   "metadata": {},
   "outputs": [],
   "source": []
  }
 ],
 "metadata": {
  "kernelspec": {
   "display_name": ".venv",
   "language": "python",
   "name": "python3"
  },
  "language_info": {
   "name": "python",
   "version": "3.12.7"
  }
 },
 "nbformat": 4,
 "nbformat_minor": 5
}
