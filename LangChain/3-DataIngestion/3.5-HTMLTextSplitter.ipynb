{
 "cells": [
  {
   "cell_type": "markdown",
   "id": "0630c183",
   "metadata": {},
   "source": [
    "### HTML Header Text Splitter\n",
    "\n",
    "HTMLHeaderTextSplitter is a \"structure-aware\" chunker that splits the text at the HTML element level and adds metadata for each header \"relevant\" to any given chunk. \n",
    "\n",
    "It can return chunks element by element or combine elements with the same metadata, with the objectives of:\n",
    "\n",
    "- keeping related text grouped (more or less semantically)\n",
    "- preserving context rich information encoded in document structures \n",
    "\n",
    "It can be used with other text splitters as a part of chunking pipeline"
   ]
  },
  {
   "cell_type": "code",
   "execution_count": 5,
   "id": "7c8ba656",
   "metadata": {},
   "outputs": [],
   "source": [
    "from langchain_text_splitters import HTMLHeaderTextSplitter\n",
    "\n",
    "html_string = \"\"\"\n",
    "<!doctype html>\n",
    "<html lang=\"en\">\n",
    "  <head>\n",
    "    <meta charset=\"UTF-8\" />\n",
    "    <link rel=\"icon\" type=\"image/svg+xml\" href=\"/vite.svg\" />\n",
    "    <meta name=\"viewport\" content=\"width=device-width, initial-scale=1.0\" />\n",
    "    <title>DigitalNext</title>\n",
    "  </head>\n",
    "  <body>\n",
    "    <div id=\"app\">\n",
    "        <h1>text in header 1</h1>\n",
    "        <h2>text in header 2</h2>\n",
    "        <h3>text in header 3</h3>\n",
    "    </div>\n",
    "    \n",
    "  </body>\n",
    "</html>\n",
    "\n",
    "\"\"\""
   ]
  },
  {
   "cell_type": "code",
   "execution_count": 7,
   "id": "654cabaf",
   "metadata": {},
   "outputs": [
    {
     "data": {
      "text/plain": [
       "[Document(metadata={'Header 1': 'text in header 1'}, page_content='text in header 1'),\n",
       " Document(metadata={'Header 1': 'text in header 1', 'Header 2': 'text in header 2'}, page_content='text in header 2'),\n",
       " Document(metadata={'Header 1': 'text in header 1', 'Header 2': 'text in header 2'}, page_content='text in header 3')]"
      ]
     },
     "execution_count": 7,
     "metadata": {},
     "output_type": "execute_result"
    }
   ],
   "source": [
    "headers_to_split = [\n",
    "    (\"h1\", \"Header 1\"),\n",
    "    (\"h2\", \"Header 2\")\n",
    "]\n",
    "\n",
    "html_splitter = HTMLHeaderTextSplitter(headers_to_split)\n",
    "html_header_splits = html_splitter.split_text(html_string)\n",
    "\n",
    "html_header_splits"
   ]
  },
  {
   "cell_type": "code",
   "execution_count": 8,
   "id": "e0411755",
   "metadata": {},
   "outputs": [
    {
     "data": {
      "text/plain": [
       "Document(metadata={}, page_content='!function(){function t(t){document.documentElement.setAttribute(\"data-theme\",t)}var e=function(){try{return new URLSearchParams(window.location.search).get(\"docusaurus-theme\")}catch(t){}}()||function(){try{return window.localStorage.getItem(\"theme\")}catch(t){}}();null!==e?t(e):window.matchMedia(\"(prefers-color-scheme: dark)\").matches?t(\"dark\"):(window.matchMedia(\"(prefers-color-scheme: light)\").matches,t(\"light\"))}(),function(){try{const n=new URLSearchParams(window.location.search).entries();for(var[t,e]of n)if(t.startsWith(\"docusaurus-data-\")){var a=t.replace(\"docusaurus-data-\",\"data-\");document.documentElement.setAttribute(a,e)}}catch(t){}}(),document.documentElement.setAttribute(\"data-announcement-bar-initially-dismissed\",function(){try{return\"true\"===localStorage.getItem(\"docusaurus.announcement.dismiss\")}catch(t){}return!1}())  \\nSkip to main content  \\nOur course is now available on LangChain Academy!  \\nBuilding Ambient Agents with LangGraph  \\nIntegrations  \\nAPI Reference  \\nMore  \\nContributing  \\nPeople  \\nError reference  \\nLangSmith  \\nLangGraph  \\nLangChain Hub  \\nLangChain JS/TS  \\nv0.3  \\nv0.3  \\nv0.2  \\nv0.1  \\n💬  \\nSearch  \\nProviders  \\nAnthropic  \\nAWS  \\nGoogle  \\nHugging Face  \\nMicrosoft  \\nOpenAI  \\nMore  \\nProviders  \\nAbso  \\nAcreom  \\nActiveloop Deep Lake  \\nADS4GPTs  \\nAerospike  \\nAgentQL  \\nAI21 Labs  \\nAim  \\nAINetwork  \\nAirbyte  \\nAirtable  \\nAlchemy  \\nAleph Alpha  \\nAlibaba Cloud  \\nAnalyticDB  \\nAnnoy  \\nAnthropic  \\nAnyscale  \\nApache Software Foundation  \\nApache Doris  \\nApify  \\nApple  \\nArangoDB  \\nArcee  \\nArcGIS  \\nArgilla  \\nArize  \\nArthur  \\nArxiv  \\nAscend  \\nAskNews  \\nAssemblyAI  \\nAstra DB  \\nAtlas  \\nAwaDB  \\nAWS  \\nAZLyrics  \\nAzure AI  \\nBAAI  \\nBagel  \\nBagelDB  \\nBaichuan  \\nBaidu  \\nBanana  \\nBaseten  \\nBeam  \\nBeautiful Soup  \\nBibTeX  \\nBiliBili  \\nBittensor  \\nBlackboard  \\nbookend.ai  \\nBox  \\nBrave Search  \\nBreebs (Open Knowledge)  \\nBright Data  \\nBrowserbase  \\nBrowserless  \\nByteDance  \\nCassandra  \\nCerebras  \\nCerebriumAI  \\nChaindesk  \\nChroma  \\nClarifai  \\nClearML  \\nClickHouse  \\nClickUp  \\nCloudflare  \\nClova  \\nCnosDB  \\nCognee  \\nCogniSwitch  \\nCohere  \\nCollege Confidential  \\nComet  \\nConfident AI  \\nConfluence  \\nConnery  \\nContext  \\nContextual AI  \\nCouchbase  \\nCoze  \\nCrateDB  \\nC Transformers  \\nCTranslate2  \\nCube  \\nDappier  \\nDashVector  \\nDatabricks  \\nDatadog Tracing  \\nDatadog Logs  \\nDataForSEO  \\nDataherald  \\nDedoc  \\nDeepInfra  \\nDeeplake  \\nDeepSeek  \\nDeepSparse  \\nDell  \\nDiffbot  \\nDingoDB  \\nDiscord  \\nDiscord (community loader)  \\nDocArray  \\nDocling  \\nDoctran  \\nDocugami  \\nDocusaurus  \\nDria  \\nDropbox  \\nDuckDB  \\nDuckDuckGo Search  \\nE2B  \\nEden AI  \\nElasticsearch  \\nElevenLabs  \\nEmbedchain  \\nEpsilla  \\nEtherscan  \\nEverly AI  \\nEverNote  \\nExa  \\nFacebook - Meta  \\nFalkorDB  \\nFauna  \\nFeatherless AI  \\nFiddler  \\nFigma  \\nFireCrawl  \\nFireworks AI  \\nFlyte  \\nFMP Data (Financial Data Prep)  \\nForefront AI  \\nFriendli AI  \\nSmabbler  \\nGel  \\nGeopandas  \\nGit  \\nGitBook  \\nGitHub  \\nGitLab  \\nGOAT  \\nGolden  \\nGoodfire  \\nGoogle  \\nSerper - Google Search API  \\nGooseAI  \\nGPT4All  \\nGradient  \\nGraph RAG  \\nGraphsignal  \\nGreenNode  \\nGrobid  \\nGroq  \\nGutenberg  \\nHacker News  \\nHazy Research  \\nHelicone  \\nHologres  \\nHTML to text  \\nHuawei  \\nHugging Face  \\nHyperbrowser  \\nIBM  \\nIEIT Systems  \\niFixit  \\niFlytek  \\nIMSDb  \\nInfinispan VS  \\nInfinity  \\nInfino  \\nIntel  \\nIugu  \\nJaguar  \\nJavelin AI Gateway  \\nJenkins  \\nJina AI  \\nJohnsnowlabs  \\nJoplin  \\nKDB.AI  \\nKinetica  \\nKoboldAI  \\nKonko  \\nKoNLPY  \\nKùzu  \\nLabel Studio  \\nlakeFS  \\nLanceDB  \\nLangChain Decorators ✨  \\nLangFair: Use-Case Level LLM Bias and Fairness Assessments  \\nLangfuse 🪢  \\nLantern  \\nLindorm  \\nLinkup  \\nLiteLLM  \\nLlamaIndex  \\nLlama.cpp  \\nLlamaEdge  \\nllamafile  \\nLLMonitor  \\nLocalAI  \\nLog10  \\nMariaDB  \\nMariTalk  \\nMarqo  \\nMediaWikiDump  \\nMeilisearch  \\nMemcached  \\nMemgraph  \\nMetal  \\nMicrosoft  \\nMilvus  \\nMindsDB  \\nMinimax  \\nMistralAI  \\nMLflow AI Gateway for LLMs  \\nMLflow  \\nMLX  \\nModal  \\nModelScope  \\nModern Treasury  \\nMomento  \\nMongoDB  \\nMongoDB Atlas  \\nMotherduck  \\nMotörhead  \\nMyScale  \\nNAVER  \\nNebius  \\nNeo4j  \\nNetmind  \\nNimble  \\nNLPCloud  \\nNomic  \\nNotion DB  \\nNuclia  \\nNVIDIA  \\nObsidian  \\nOceanBase  \\nOracle Cloud Infrastructure (OCI)  \\nOctoAI  \\nOllama  \\nOntotext GraphDB  \\nOpenAI  \\nOpenGradient  \\nOpenLLM  \\nOpenSearch  \\nOpenWeatherMap  \\nOracleAI Vector Search  \\nOutline  \\nOutlines  \\nOxylabs  \\nPandas  \\nPaymanAI  \\nPebblo  \\nPermit  \\nPerplexity  \\nPetals  \\nPostgres Embedding  \\nPGVector  \\nPinecone  \\nPipelineAI  \\nPipeshift  \\nPortkey  \\nPredibase  \\nPrediction Guard  \\nPremAI  \\nSWI-Prolog  \\nPromptLayer  \\nPsychic  \\nPubMed  \\nPullMd Loader  \\nPygmalionAI  \\nPyMuPDF4LLM  \\nQdrant  \\nRAGatouille  \\nrank_bm25  \\nRay Serve  \\nRebuff  \\nReddit  \\nRedis  \\nRemembrall  \\nReplicate  \\nRoam  \\nSema4 (fka Robocorp)  \\nRockset  \\nRunhouse  \\nRunpod  \\nRWKV-4  \\nSalesforce  \\nSambaNova  \\nSAP  \\nScrapeGraph AI  \\nSearchApi  \\nSearxNG Search API  \\nSemaDB  \\nSerpAPI  \\nShale Protocol  \\nSingleStore Integration  \\nscikit-learn  \\nSlack  \\nSnowflake  \\nspaCy  \\nSpark  \\nSparkLLM  \\nSpreedly  \\nSQLite  \\nStack Exchange  \\nStarRocks  \\nStochasticAI  \\nStreamlit  \\nStripe  \\nSupabase (Postgres)  \\nSurrealDB  \\nNebula  \\nTableau  \\nTaiga  \\nTair  \\nTavily  \\nTelegram  \\nTencent  \\nTensorFlow Datasets  \\nTensorlake  \\nTiDB  \\nTigerGraph  \\nTigris  \\nTilores  \\nTogether AI  \\n2Markdown  \\nTranswarp  \\nTrello  \\nTrubrics  \\nTruLens  \\nTwitter  \\nTypesense  \\nUnstructured  \\nUpstage  \\nupstash  \\nUpTrain  \\nUSearch  \\nValthera  \\nValyu Deep Search  \\nVDMS  \\nVearch  \\nVectara  \\nVectorize  \\nVespa  \\nvlite  \\nVoyageAI  \\nWeights & Biases  \\nWeights & Biases tracing  \\nWeights & Biases tracking  \\nWeather  \\nWeaviate  \\nWhatsApp  \\nWhyLabs  \\nWikipedia  \\nWolfram Alpha  \\nWriter, Inc.  \\nxAI  \\nXata  \\nXorbits Inference (Xinference)  \\nYahoo  \\nYandex  \\nYDB  \\nYeager.ai  \\nYellowbrick  \\n01.AI  \\nYou  \\nYouTube  \\nZep  \\nZhipu AI  \\nZilliz  \\nZotero  \\nComponents  \\nChat models  \\nChat models  \\nAbso  \\nAI21 Labs  \\nAlibaba Cloud PAI EAS  \\nAnthropic  \\n[Deprecated] Experimental Anthropic Tools Wrapper  \\nAnyscale  \\nAzureAIChatCompletionsModel  \\nAzure OpenAI  \\nAzure ML Endpoint  \\nBaichuan Chat  \\nBaidu Qianfan  \\nAWS Bedrock  \\nCerebras  \\nCloudflareWorkersAI  \\nCohere  \\nContextualAI  \\nCoze Chat  \\nDappier AI  \\nDatabricks  \\nDeepInfra  \\nDeepSeek  \\nEden AI  \\nErnie Bot Chat  \\nEverlyAI  \\nFeatherless AI  \\nFireworks  \\nChatFriendli  \\nGoodfire  \\nGoogle Gemini  \\nGoogle Cloud Vertex AI  \\nGPTRouter  \\nGreenNode  \\nGroq  \\nChatHuggingFace  \\nIBM watsonx.ai  \\nJinaChat  \\nKinetica  \\nKonko  \\nLiteLLM  \\nLlama 2 Chat  \\nLlama API  \\nLlamaEdge  \\nLlama.cpp  \\nmaritalk  \\nMiniMax  \\nMistralAI  \\nMLX  \\nModelScope  \\nMoonshot  \\nNaver  \\nNebius  \\nNetmind  \\nNVIDIA AI Endpoints  \\nChatOCIModelDeployment  \\nOCIGenAI  \\nChatOctoAI  \\nOllama  \\nOpenAI  \\nOutlines  \\nPerplexity  \\nPipeshift  \\nChatPredictionGuard  \\nPremAI  \\nPromptLayer ChatOpenAI  \\nQwen QwQ  \\nReka  \\nRunPod Chat Model  \\nSambaNovaCloud  \\nSambaStudio  \\nChatSeekrFlow  \\nSnowflake Cortex  \\nsolar  \\nSparkLLM Chat  \\nNebula (Symbl.ai)  \\nTencent Hunyuan  \\nTogether  \\nTongyi Qwen  \\nUpstage  \\nvectara  \\nvLLM Chat  \\nVolc Engine Maas  \\nChat Writer  \\nxAI  \\nXinference  \\nYandexGPT  \\nChatYI  \\nYuan2.0  \\nZHIPU AI  \\nRetrievers  \\nRetrievers  \\nActiveloop Deep Memory  \\nAmazon Kendra  \\nArcee  \\nArxiv  \\nAskNews  \\nAzure AI Search  \\nBedrock (Knowledge Bases)  \\nBM25  \\nBox  \\nBREEBS (Open Knowledge)  \\nChaindesk  \\nChatGPT plugin  \\nCognee  \\nCohere reranker  \\nCohere RAG  \\nContextual AI Reranker  \\nDappier  \\nDocArray  \\nDria  \\nElasticSearch BM25  \\nElasticsearch  \\nEmbedchain  \\nFlashRank reranker  \\nFleet AI Context  \\nGalaxia  \\nGoogle Drive  \\nGoogle Vertex AI Search  \\nGraph RAG  \\nGreenNode  \\nIBM watsonx.ai  \\nJaguarDB Vector Database  \\nKay.ai  \\nKinetica Vectorstore based Retriever  \\nkNN  \\nLinkupSearchRetriever  \\nLLMLingua Document Compressor  \\nLOTR (Merger Retriever)  \\nMetal  \\nNanoPQ (Product Quantization)  \\nNebius  \\nneedle  \\nNimble  \\nOutline  \\nPermit  \\nPinecone Hybrid Search  \\nPinecone Rerank  \\nPubMed  \\nQdrant Sparse Vector  \\nRAGatouille  \\nRePhraseQuery  \\nRememberizer  \\nSEC filing  \\nSelf-querying retrievers  \\nSVM  \\nTavilySearchAPI  \\nTF-IDF  \\n**NeuralDB**  \\nValyuContext  \\nVectorize  \\nVespa  \\nWikipedia  \\nYou.com  \\nZep Cloud  \\nZep Open Source  \\nZilliz Cloud Pipeline  \\nZotero  \\nTools/Toolkits  \\nTools  \\nADS4GPTs  \\nAgentQL  \\nAINetwork Toolkit  \\nAlpha Vantage  \\nAmadeus Toolkit  \\nApify Actor  \\nArXiv  \\nAskNews  \\nAWS Lambda  \\nAzure AI Services Toolkit  \\nAzure Cognitive Services Toolkit  \\nAzure Container Apps dynamic sessions  \\nShell (bash)  \\nBearly Code Interpreter  \\nBing Search  \\nBrave Search  \\nBrightDataWebScraperAPI  \\nBrightDataSERP  \\nBrightDataUnlocker  \\nCassandra Database Toolkit  \\nCDP  \\nChatGPT Plugins  \\nClickUp Toolkit  \\nCogniswitch Toolkit  \\nCompass DeFi Toolkit  \\nConnery Toolkit and Tools  \\nDall-E Image Generator  \\nDappier  \\nDatabricks Unity Catalog (UC)  \\nDataForSEO  \\nDataherald  \\nDuckDuckGo Search  \\nDiscord  \\nE2B Data Analysis  \\nEden AI  \\nElevenLabs Text2Speech  \\nExa Search  \\nFile System  \\nFinancialDatasets Toolkit  \\nFMP Data  \\nGithub Toolkit  \\nGitlab Toolkit  \\nGmail Toolkit  \\nGOAT  \\nGolden Query  \\nGoogle Books  \\nGoogle Calendar Toolkit  \\nGoogle Cloud Text-to-Speech  \\nGoogle Drive  \\nGoogle Finance  \\nGoogle Imagen  \\nGoogle Jobs  \\nGoogle Lens  \\nGoogle Places  \\nGoogle Scholar  \\nGoogle Search  \\nGoogle Serper  \\nGoogle Trends  \\nGradio  \\nGraphQL  \\nHuggingFace Hub Tools  \\nHuman as a tool  \\nHyperbrowser Browser Agent Tools  \\nHyperbrowser Web Scraping Tools  \\nIBM watsonx.ai  \\nIFTTT WebHooks  \\nInfobip  \\nIonic Shopping Tool  \\nJenkins  \\nJina Search  \\nJira Toolkit  \\nJSON Toolkit  \\nLemon Agent  \\nLinkupSearchTool  \\nMemgraph  \\nMemorize  \\nMojeek Search  \\nMultiOn Toolkit  \\nNASA Toolkit  \\nNaver Search  \\nNuclia Understanding  \\nNVIDIA Riva: ASR and TTS  \\nOffice365 Toolkit  \\nOpenAPI Toolkit  \\nNatural Language API Toolkits  \\nOpenGradient  \\nOpenWeatherMap  \\nOracle AI Vector Search: Generate Summary  \\nOxylabs  \\nPandas Dataframe  \\nPassio NutritionAI  \\nPaymanAI  \\nPermit  \\nPlayWright Browser Toolkit  \\nPolygon IO Toolkit and Tools  \\nPowerBI Toolkit  \\nProlog  \\nPubMed  \\nPython REPL  \\nReddit Search  \\nRequests Toolkit  \\nRiza Code Interpreter  \\nRobocorp Toolkit  \\nSalesforce  \\nSceneXplain  \\nScrapeGraph  \\nSearchApi  \\nSearxNG Search  \\nSemantic Scholar API Tool  \\nSerpAPI  \\nSlack Toolkit  \\nSpark SQL Toolkit  \\nSQLDatabase Toolkit  \\nStackExchange  \\nSteam Toolkit  \\nStripe  \\nTableau  \\nTaiga  \\nTavily Extract  \\nTavily Search  \\nTilores  \\nTwilio  \\nUpstage  \\nValthera  \\nValyuContext  \\nVectara  \\nWikidata  \\nWikipedia  \\nWolfram Alpha  \\nWriter Tools  \\nYahoo Finance News  \\nYou.com Search  \\nYouTube  \\nZapier Natural Language Actions  \\nZenGuard AI  \\nDocument loaders  \\nDocument loaders  \\nacreom  \\nAgentQLLoader  \\nAirbyteLoader  \\nAirbyte CDK (Deprecated)  \\nAirbyte Gong (Deprecated)  \\nAirbyte Hubspot (Deprecated)  \\nAirbyte JSON (Deprecated)  \\nAirbyte Salesforce (Deprecated)  \\nAirbyte Shopify (Deprecated)  \\nAirbyte Stripe (Deprecated)  \\nAirbyte Typeform (Deprecated)  \\nAirbyte Zendesk Support (Deprecated)  \\nAirtable  \\nAlibaba Cloud MaxCompute  \\nAmazon Textract  \\nApify Dataset  \\nArcGIS  \\nArxivLoader  \\nAssemblyAI Audio Transcripts  \\nAstraDB  \\nAsync Chromium  \\nAsyncHtml  \\nAthena  \\nAWS S3 Directory  \\nAWS S3 File  \\nAZLyrics  \\nAzure AI Data  \\nAzure Blob Storage Container  \\nAzure Blob Storage File  \\nAzure AI Document Intelligence  \\nBibTeX  \\nBiliBili  \\nBlackboard  \\nBlockchain  \\nBox  \\nBrave Search  \\nBrowserbase  \\nBrowserless  \\nBSHTMLLoader  \\nCassandra  \\nChatGPT Data  \\nCollege Confidential  \\nConcurrent Loader  \\nConfluence  \\nCoNLL-U  \\nCopy Paste  \\nCouchbase  \\nCSV  \\nCube Semantic Layer  \\nDatadog Logs  \\nDedoc  \\nDiffbot  \\nDiscord  \\nDocling  \\nDocugami  \\nDocusaurus  \\nDropbox  \\nDuckDB  \\nEmail  \\nEPub  \\nEtherscan  \\nEverNote  \\nexample_data  \\nFacebook Chat  \\nFauna  \\nFigma  \\nFireCrawl  \\nGeopandas  \\nGit  \\nGitBook  \\nGitHub  \\nGlue Catalog  \\nGoogle AlloyDB for PostgreSQL  \\nGoogle BigQuery  \\nGoogle Bigtable  \\nGoogle Cloud SQL for SQL server  \\nGoogle Cloud SQL for MySQL  \\nGoogle Cloud SQL for PostgreSQL  \\nGoogle Cloud Storage Directory  \\nGoogle Cloud Storage File  \\nGoogle Firestore in Datastore Mode  \\nGoogle Drive  \\nGoogle El Carro for Oracle Workloads  \\nGoogle Firestore (Native Mode)  \\nGoogle Memorystore for Redis  \\nGoogle Spanner  \\nGoogle Speech-to-Text Audio Transcripts  \\nGrobid  \\nGutenberg  \\nHacker News  \\nHuawei OBS Directory  \\nHuawei OBS File  \\nHuggingFace dataset  \\nHyperbrowserLoader  \\niFixit  \\nImages  \\nImage captions  \\nIMSDb  \\nIugu  \\nJoplin  \\nJSONLoader  \\nJupyter Notebook  \\nKinetica  \\nlakeFS  \\nLangSmith  \\nLarkSuite (FeiShu)  \\nLLM Sherpa  \\nMastodon  \\nMathPixPDFLoader  \\nMediaWiki Dump  \\nMerge Documents Loader  \\nmhtml  \\nMicrosoft Excel  \\nMicrosoft OneDrive  \\nMicrosoft OneNote  \\nMicrosoft PowerPoint  \\nMicrosoft SharePoint  \\nMicrosoft Word  \\nNear Blockchain  \\nModern Treasury  \\nMongoDB  \\nNeedle Document Loader  \\nNews URL  \\nNotion DB 2/2  \\nNuclia  \\nObsidian  \\nOpen Document Format (ODT)  \\nOpen City Data  \\nOracle Autonomous Database  \\nOracle AI Vector Search: Document Processing  \\nOrg-mode  \\nOutline Document Loader  \\nPandas DataFrame  \\nparsers  \\nPDFMinerLoader  \\nPDFPlumber  \\nPebblo Safe DocumentLoader  \\nPolars DataFrame  \\nDell PowerScale Document Loader  \\nPsychic  \\nPubMed  \\nPullMdLoader  \\nPyMuPDFLoader  \\nPyMuPDF4LLM  \\nPyPDFDirectoryLoader  \\nPyPDFium2Loader  \\nPyPDFLoader  \\nPySpark  \\nQuip  \\nReadTheDocs Documentation  \\nRecursive URL  \\nReddit  \\nRoam  \\nRockset  \\nrspace  \\nRSS Feeds  \\nRST  \\nscrapfly  \\nScrapingAnt  \\nSingleStore  \\nSitemap  \\nSlack  \\nSnowflake  \\nSource Code  \\nSpider  \\nSpreedly  \\nStripe  \\nSubtitle  \\nSurrealDB  \\nTelegram  \\nTencent COS Directory  \\nTencent COS File  \\nTensorFlow Datasets  \\nTiDB  \\n2Markdown  \\nTOML  \\nTrello  \\nTSV  \\nTwitter  \\nUnstructured  \\nUnstructuredMarkdownLoader  \\nUnstructuredPDFLoader  \\nUpstage  \\nURL  \\nVsdx  \\nWeather  \\nWebBaseLoader  \\nWhatsApp Chat  \\nWikipedia  \\nUnstructuredXMLLoader  \\nXorbits Pandas DataFrame  \\nYouTube audio  \\nYouTube transcripts  \\nYoutubeLoaderDL  \\nYuque  \\nZeroxPDFLoader  \\nVector stores  \\nVector stores  \\nActiveloop Deep Lake  \\nAerospike  \\nAlibaba Cloud OpenSearch  \\nAnalyticDB  \\nAnnoy  \\nApache Doris  \\nApertureDB  \\nAstra DB Vector Store  \\nAtlas  \\nAwaDB  \\nAzure Cosmos DB Mongo vCore  \\nAzure Cosmos DB No SQL  \\nAzure AI Search  \\nBagel  \\nBagelDB  \\nBaidu Cloud ElasticSearch VectorSearch  \\nBaidu VectorDB  \\nApache Cassandra  \\nChroma  \\nClarifai  \\nClickHouse  \\nCloudflareVectorize  \\nCouchbase  \\nDashVector  \\nDatabricks  \\nIBM Db2 Vector Store and Vector Search  \\nDingoDB  \\nDocArray HnswSearch  \\nDocArray InMemorySearch  \\nAmazon Document DB  \\nDuckDB  \\nChina Mobile ECloud ElasticSearch VectorSearch  \\nElasticsearch  \\nEpsilla  \\nFaiss  \\nFaiss (Async)  \\nFalkorDBVectorStore  \\nGel  \\nGoogle AlloyDB for PostgreSQL  \\nGoogle BigQuery Vector Search  \\nGoogle Cloud SQL for MySQL  \\nGoogle Cloud SQL for PostgreSQL  \\nFirestore  \\nGoogle Memorystore for Redis  \\nGoogle Spanner  \\nGoogle Vertex AI Feature Store  \\nGoogle Vertex AI Vector Search  \\nHippo  \\nHologres  \\nInfinispan  \\nJaguar Vector Database  \\nKDB.AI  \\nKinetica  \\nLanceDB  \\nLantern  \\nLindorm  \\nLLMRails  \\nManticoreSearch VectorStore  \\nMariaDB  \\nMarqo  \\nMeilisearch  \\nAmazon MemoryDB  \\nMilvus  \\nMomento Vector Index (MVI)  \\nMongoDB Atlas  \\nMyScale  \\nNeo4j Vector Index  \\nNucliaDB  \\nOceanbase  \\nopenGauss  \\nOpenSearch  \\nOracle AI Vector Search: Vector Store  \\nPathway  \\nPostgres Embedding  \\nPGVecto.rs  \\nPGVector  \\nPGVectorStore  \\nPinecone  \\nPinecone (sparse)  \\nQdrant  \\nRedis  \\nRelyt  \\nRockset  \\nSAP HANA Cloud Vector Engine  \\nScaNN  \\nSemaDB  \\nSingleStore  \\nscikit-learn  \\nSQLiteVec  \\nSQLite-VSS  \\nSQLServer  \\nStarRocks  \\nSupabase (Postgres)  \\nSurrealDBVectorStore  \\nTablestore  \\nTair  \\nTencent Cloud VectorDB  \\nThirdAI NeuralDB  \\nTiDB Vector  \\nTigris  \\nTileDB  \\nTimescale Vector (Postgres)  \\nTypesense  \\nUpstash Vector  \\nUSearch  \\nVald  \\nVDMS  \\nVearch  \\nVectara  \\nVespa  \\nviking DB  \\nvlite  \\nWeaviate  \\nXata  \\nYDB  \\nYellowbrick  \\nZep  \\nZep Cloud  \\nZilliz  \\nEmbedding models  \\nEmbedding models  \\nAleph Alpha  \\nAnyscale  \\nascend  \\nAwaDB  \\nAzureOpenAI  \\nBaichuan Text Embeddings  \\nBaidu Qianfan  \\nBedrock  \\nBGE on Hugging Face  \\nBookend AI  \\nClarifai  \\nCloudflare Workers AI  \\nClova Embeddings  \\nCohere  \\nDashScope  \\nDatabricks  \\nDeepInfra  \\nEDEN AI  \\nElasticsearch  \\nEmbaas  \\nERNIE  \\nFake Embeddings  \\nFastEmbed by Qdrant  \\nFireworks  \\nGoogle Gemini  \\nGoogle Vertex AI  \\nGPT4All  \\nGradient  \\nGreenNode  \\nHugging Face  \\nIBM watsonx.ai  \\nInfinity  \\nInstruct Embeddings on Hugging Face  \\nIPEX-LLM: Local BGE Embeddings on Intel CPU  \\nIPEX-LLM: Local BGE Embeddings on Intel GPU  \\nIntel® Extension for Transformers Quantized Text Embeddings  \\nJina  \\nJohn Snow Labs  \\nLASER Language-Agnostic SEntence Representations Embeddings by Meta AI  \\nLindorm  \\nLlama.cpp  \\nllamafile  \\nLLMRails  \\nLocalAI  \\nMiniMax  \\nMistralAI  \\nmodel2vec  \\nModelScope  \\nMosaicML  \\nNaver  \\nNebius  \\nNetmind  \\nNLP Cloud  \\nNomic  \\nNVIDIA NIMs  \\nOracle Cloud Infrastructure Generative AI  \\nOllama  \\nOpenClip  \\nOpenAI  \\nOpenVINO  \\nEmbedding Documents using Optimized and Quantized Embedders  \\nOracle AI Vector Search: Generate Embeddings  \\nOVHcloud  \\nPinecone Embeddings  \\nPredictionGuardEmbeddings  \\nPremAI  \\nSageMaker  \\nSambaNovaCloud  \\nSambaStudio  \\nSelf Hosted  \\nSentence Transformers on Hugging Face  \\nSolar  \\nSpaCy  \\nSparkLLM Text Embeddings  \\nTensorFlow Hub  \\nText Embeddings Inference  \\nTextEmbed - Embedding Inference Server  \\nTitan Takeoff  \\nTogether AI  \\nUpstage  \\nVolc Engine  \\nVoyage AI  \\nXorbits inference (Xinference)  \\nYandexGPT  \\nZhipuAI  \\nOther  \\nComponents  \\nDocument loaders  \\nOn this page')"
      ]
     },
     "execution_count": 8,
     "metadata": {},
     "output_type": "execute_result"
    }
   ],
   "source": [
    "url = \"https://python.langchain.com/docs/integrations/document_loaders/\"\n",
    "\n",
    "\n",
    "headers_to_split = [\n",
    "    (\"h1\", \"Header 1\"),\n",
    "    (\"h2\", \"Header 2\")\n",
    "]\n",
    "\n",
    "html_splitter = HTMLHeaderTextSplitter(headers_to_split)\n",
    "html_header_splits = html_splitter.split_text_from_url(url)\n",
    "\n",
    "html_header_splits[0]"
   ]
  },
  {
   "cell_type": "code",
   "execution_count": 9,
   "id": "f4c6d53b",
   "metadata": {},
   "outputs": [
    {
     "data": {
      "text/plain": [
       "Document(metadata={}, page_content='DocumentLoaders load data into the standard LangChain Document format.  \\nEach DocumentLoader has its own specific parameters, but they can all be invoked in the same way with the .load method.\\nAn example use case is as follows:  \\nfrom  \\nlangchain_community  \\n.  \\ndocument_loaders  \\n.  \\ncsv_loader  \\nimport  \\nCSVLoader  \\nloader  \\n=  \\nCSVLoader  \\n(  \\n.  \\n.  \\n.  \\n# <-- Integration specific parameters here  \\n)  \\ndata  \\n=  \\nloader  \\n.  \\nload  \\n(  \\n)')"
      ]
     },
     "execution_count": 9,
     "metadata": {},
     "output_type": "execute_result"
    }
   ],
   "source": [
    "html_header_splits[2]"
   ]
  }
 ],
 "metadata": {
  "kernelspec": {
   "display_name": ".venv",
   "language": "python",
   "name": "python3"
  },
  "language_info": {
   "codemirror_mode": {
    "name": "ipython",
    "version": 3
   },
   "file_extension": ".py",
   "mimetype": "text/x-python",
   "name": "python",
   "nbconvert_exporter": "python",
   "pygments_lexer": "ipython3",
   "version": "3.12.7"
  }
 },
 "nbformat": 4,
 "nbformat_minor": 5
}
