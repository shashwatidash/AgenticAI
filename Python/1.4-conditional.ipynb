{
 "cells": [
  {
   "cell_type": "markdown",
   "id": "a1585148",
   "metadata": {},
   "source": [
    "### Overview\n",
    "\n",
    "Conditional Statements (if, elif, else)\n",
    "\n",
    "- if Statement\n",
    "- elif Statement\n",
    "- else Statement\n",
    "- Nested Conditional Statement\n",
    "- Common Errors "
   ]
  },
  {
   "cell_type": "code",
   "execution_count": 2,
   "id": "6bf5d32c",
   "metadata": {},
   "outputs": [
    {
     "name": "stdout",
     "output_type": "stream",
     "text": [
      "You're allowed to vote in elections\n"
     ]
    }
   ],
   "source": [
    "age = 19\n",
    "if (age >= 18):\n",
    "    print('You\\'re allowed to vote in elections')\n",
    "elif (age > 70):\n",
    "    print('Your Voter ID is expired')\n",
    "else:\n",
    "    print('Sorry, you can\\'t vote')\n"
   ]
  },
  {
   "cell_type": "code",
   "execution_count": 7,
   "id": "dddd45cf",
   "metadata": {},
   "outputs": [
    {
     "name": "stdout",
     "output_type": "stream",
     "text": [
      "This is a negative \n",
      "even number!\n"
     ]
    }
   ],
   "source": [
    "# nested conditional\n",
    "\n",
    "num = int(input('Enter a number: '))\n",
    "if (num % 2 == 0):\n",
    "    if (num < 0):\n",
    "        print('This is a negative ')\n",
    "    else:\n",
    "        print('This is a positive ')\n",
    "    print('even number!')\n",
    "else:\n",
    "    if (num < 0):\n",
    "        print('This is a negative ')\n",
    "    else:\n",
    "        print('This is a positive ')\n",
    "    print('odd number!')"
   ]
  },
  {
   "cell_type": "code",
   "execution_count": 14,
   "id": "1f074227",
   "metadata": {},
   "outputs": [
    {
     "name": "stdout",
     "output_type": "stream",
     "text": [
      "2025  is not a leap year\n"
     ]
    }
   ],
   "source": [
    "# leap year conditional\n",
    "\n",
    "year = int(input('Enter a year: '))\n",
    "if (year % 4 == 0):\n",
    "    if (year % 100 == 0):\n",
    "        if (year % 400 == 0):\n",
    "            print(year, ' is a leap year')\n",
    "        else:\n",
    "            print(year, ' is not a leap year')\n",
    "    else:\n",
    "        print(year, ' is a leap year')\n",
    "else:\n",
    "    print(year, ' is not a leap year')"
   ]
  }
 ],
 "metadata": {
  "kernelspec": {
   "display_name": "Python 3",
   "language": "python",
   "name": "python3"
  },
  "language_info": {
   "codemirror_mode": {
    "name": "ipython",
    "version": 3
   },
   "file_extension": ".py",
   "mimetype": "text/x-python",
   "name": "python",
   "nbconvert_exporter": "python",
   "pygments_lexer": "ipython3",
   "version": "3.12.0"
  }
 },
 "nbformat": 4,
 "nbformat_minor": 5
}
