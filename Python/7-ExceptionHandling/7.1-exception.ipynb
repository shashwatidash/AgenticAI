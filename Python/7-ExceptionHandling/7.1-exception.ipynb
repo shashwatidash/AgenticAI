{
 "cells": [
  {
   "cell_type": "markdown",
   "id": "f90aba11",
   "metadata": {},
   "source": [
    "### Understanding Exceptions\n",
    "\n",
    "Exception handling in Python allows you to handle errors gracefully and take corrective actions without stopping the execution of the program.\n",
    "\n",
    "### What are Exceptions?\n",
    "Exceptions are events that disrupt the normal flow of a program. In Python, errors detected during program execution are called exception.\n",
    "Common exceptions include:\n",
    "- ZeroDivisionError: dividing by zero\n",
    "- OverflowError, MemoryError\n",
    "- TypeError: passing arguments of the wrong type\n",
    "- FileNotFoundError: file not found\n",
    "- ValueError: invalid value"
   ]
  },
  {
   "cell_type": "code",
   "execution_count": 2,
   "id": "c9a2032c",
   "metadata": {},
   "outputs": [
    {
     "data": {
      "text/plain": [
       "\"\\nNameError: name 'b' is not defined\\n\""
      ]
     },
     "execution_count": 2,
     "metadata": {},
     "output_type": "execute_result"
    }
   ],
   "source": [
    "'''\n",
    "NameError: name 'b' is not defined\n",
    "'''\n",
    "# a = b\n"
   ]
  },
  {
   "cell_type": "code",
   "execution_count": 4,
   "id": "15ea52ba",
   "metadata": {},
   "outputs": [
    {
     "name": "stdout",
     "output_type": "stream",
     "text": [
      "variable is not defined\n"
     ]
    }
   ],
   "source": [
    "# handling\n",
    "\n",
    "try:\n",
    "    a = b\n",
    "except:\n",
    "    print('variable is not defined')"
   ]
  },
  {
   "cell_type": "code",
   "execution_count": 5,
   "id": "a73990ab",
   "metadata": {},
   "outputs": [
    {
     "name": "stdout",
     "output_type": "stream",
     "text": [
      "name 'b' is not defined\n"
     ]
    }
   ],
   "source": [
    "try:\n",
    "    a = b\n",
    "except NameError as ex:\n",
    "    print(ex)"
   ]
  },
  {
   "cell_type": "code",
   "execution_count": 6,
   "id": "7d6ba94d",
   "metadata": {},
   "outputs": [
    {
     "name": "stdout",
     "output_type": "stream",
     "text": [
      "division by zero\n"
     ]
    }
   ],
   "source": [
    "try:\n",
    "    result = 1 / 0\n",
    "except ZeroDivisionError as ex:\n",
    "    print(ex)"
   ]
  },
  {
   "cell_type": "code",
   "execution_count": 9,
   "id": "522f902c",
   "metadata": {},
   "outputs": [
    {
     "name": "stdout",
     "output_type": "stream",
     "text": [
      "Caught as Exception\n",
      "name 'b' is not defined\n"
     ]
    }
   ],
   "source": [
    "try:\n",
    "    a = 1 / b\n",
    "except RuntimeError as ex:\n",
    "    print('Caught as RuntimeError')\n",
    "    print(ex)\n",
    "except Exception as ex:\n",
    "    print('Caught as Exception')\n",
    "    print(ex)"
   ]
  },
  {
   "cell_type": "code",
   "execution_count": 13,
   "id": "a37b59e6",
   "metadata": {},
   "outputs": [
    {
     "name": "stdout",
     "output_type": "stream",
     "text": [
      "This is not a valid number\n"
     ]
    }
   ],
   "source": [
    "try:\n",
    "    num = int(input('Enter a value: '))\n",
    "    res = 10 / num\n",
    "    print(res)\n",
    "except ValueError as ex:\n",
    "    print('This is not a valid number')\n",
    "except ZeroDivisionError as ex:\n",
    "    print('Enter nuber greater than 0')\n"
   ]
  },
  {
   "cell_type": "code",
   "execution_count": 15,
   "id": "4be04fa5",
   "metadata": {},
   "outputs": [
    {
     "name": "stdout",
     "output_type": "stream",
     "text": [
      "Program executed successfully with res value 0.6666666666666666\n"
     ]
    }
   ],
   "source": [
    "# try, except and else\n",
    "\n",
    "try:\n",
    "    num = int(input('Enter a number'))\n",
    "    res = 10 / num\n",
    "except ValueError as ex:\n",
    "    print('This is not a valid number')\n",
    "except ZeroDivisionError as ex:\n",
    "    print('Enter nuber greater than 0')\n",
    "else:\n",
    "    print(f'Program executed successfully with res value {res}')"
   ]
  },
  {
   "cell_type": "code",
   "execution_count": 16,
   "id": "426b2bcf",
   "metadata": {},
   "outputs": [
    {
     "name": "stdout",
     "output_type": "stream",
     "text": [
      "This is not a valid number\n",
      "End of program\n"
     ]
    }
   ],
   "source": [
    "# try, except, else and finally\n",
    "try:\n",
    "    num = int(input('Enter a number'))\n",
    "    res = 10 / num\n",
    "except ValueError as ex:\n",
    "    print('This is not a valid number')\n",
    "except ZeroDivisionError as ex:\n",
    "    print('Enter nuber greater than 0')\n",
    "else:\n",
    "    print(f'Program executed successfully with res value {res}')\n",
    "finally:\n",
    "    print('End of program')"
   ]
  },
  {
   "cell_type": "code",
   "execution_count": 27,
   "id": "46f67f58",
   "metadata": {},
   "outputs": [
    {
     "name": "stdout",
     "output_type": "stream",
     "text": [
      "Agentic AI operates through a complex network of autonomous software components known as \"agents\" that draw from massive amounts of data and learn from user behavior to improve over time. \n",
      "Each agent is designed with specific goals and abilities, working in harmony to tackle complex tasks. \n",
      "This innovative approach to agentic AI relies on a blend of advanced technologies such as machine learning, NLP, and knowledge representation that helps agents learn, communicate, and reason effectively.\n",
      "\n",
      "Agentic AI uses self-contained agents - AI models that autonomously complete tasks and manage workflows using machine learning, algorithms, and predictive analytics to make real-time decisions.\n",
      "It follows a five-step process to solve complex problems:\n",
      " 1. Perceive\n",
      " 2. Reason\n",
      " 3. Act\n",
      " 4. Learn\n",
      " 5. Collaborate\n",
      "End of program\n"
     ]
    }
   ],
   "source": [
    "try:\n",
    "    file = open('./../6-FileHandling/example.txt', 'r')\n",
    "    content = file.read()\n",
    "except FileNotFoundError as ex:\n",
    "    print(ex)\n",
    "else:\n",
    "    print(content)\n",
    "finally:\n",
    "    if 'file' in locals() or file.closed():\n",
    "        file.close()\n",
    "    print('End of program')"
   ]
  },
  {
   "cell_type": "code",
   "execution_count": 29,
   "id": "aba0a54a",
   "metadata": {},
   "outputs": [
    {
     "name": "stdout",
     "output_type": "stream",
     "text": [
      "True\n"
     ]
    }
   ],
   "source": [
    "if 'file' in locals():\n",
    "    print(True)\n",
    "else:\n",
    "    print(False)"
   ]
  },
  {
   "cell_type": "code",
   "execution_count": null,
   "id": "765fcee7",
   "metadata": {},
   "outputs": [],
   "source": []
  }
 ],
 "metadata": {
  "kernelspec": {
   "display_name": "venv",
   "language": "python",
   "name": "python3"
  },
  "language_info": {
   "codemirror_mode": {
    "name": "ipython",
    "version": 3
   },
   "file_extension": ".py",
   "mimetype": "text/x-python",
   "name": "python",
   "nbconvert_exporter": "python",
   "pygments_lexer": "ipython3",
   "version": "3.12.7"
  }
 },
 "nbformat": 4,
 "nbformat_minor": 5
}
