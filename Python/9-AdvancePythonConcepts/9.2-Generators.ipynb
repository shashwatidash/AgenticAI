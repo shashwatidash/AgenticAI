{
 "cells": [
  {
   "cell_type": "markdown",
   "id": "79abd59d",
   "metadata": {},
   "source": [
    "### Generators\n",
    "\n",
    "Generators are a simpler way to create iterators. They use the **yield** keyword to produce a series of values lazily - which means they generate values on the fly and do not story them in memory.\n",
    "\n",
    "It is a subclass of iterators."
   ]
  },
  {
   "cell_type": "code",
   "execution_count": 3,
   "id": "64877aa1",
   "metadata": {},
   "outputs": [],
   "source": [
    "def square(n):\n",
    "    for i in range(3):\n",
    "        yield i ** 2"
   ]
  },
  {
   "cell_type": "code",
   "execution_count": 4,
   "id": "7f48caff",
   "metadata": {},
   "outputs": [
    {
     "data": {
      "text/plain": [
       "<generator object square at 0x00000224AB378D40>"
      ]
     },
     "execution_count": 4,
     "metadata": {},
     "output_type": "execute_result"
    }
   ],
   "source": [
    "square(3)"
   ]
  },
  {
   "cell_type": "code",
   "execution_count": 5,
   "id": "bb61bcbb",
   "metadata": {},
   "outputs": [
    {
     "name": "stdout",
     "output_type": "stream",
     "text": [
      "0\n",
      "1\n",
      "4\n"
     ]
    }
   ],
   "source": [
    "for i in square(3):\n",
    "    print(i)"
   ]
  },
  {
   "cell_type": "code",
   "execution_count": 6,
   "id": "00f056d8",
   "metadata": {},
   "outputs": [],
   "source": [
    "ans = square(3)"
   ]
  },
  {
   "cell_type": "code",
   "execution_count": 7,
   "id": "f28cd1ba",
   "metadata": {},
   "outputs": [
    {
     "data": {
      "text/plain": [
       "0"
      ]
     },
     "execution_count": 7,
     "metadata": {},
     "output_type": "execute_result"
    }
   ],
   "source": [
    "next(ans)"
   ]
  },
  {
   "cell_type": "code",
   "execution_count": 8,
   "id": "533400cb",
   "metadata": {},
   "outputs": [
    {
     "data": {
      "text/plain": [
       "1"
      ]
     },
     "execution_count": 8,
     "metadata": {},
     "output_type": "execute_result"
    }
   ],
   "source": [
    "next(ans)"
   ]
  },
  {
   "cell_type": "code",
   "execution_count": 9,
   "id": "181a1cf0",
   "metadata": {},
   "outputs": [
    {
     "data": {
      "text/plain": [
       "4"
      ]
     },
     "execution_count": 9,
     "metadata": {},
     "output_type": "execute_result"
    }
   ],
   "source": [
    "next(ans)"
   ]
  },
  {
   "cell_type": "code",
   "execution_count": null,
   "id": "8ce336f6",
   "metadata": {},
   "outputs": [
    {
     "ename": "StopIteration",
     "evalue": "",
     "output_type": "error",
     "traceback": [
      "\u001b[31m---------------------------------------------------------------------------\u001b[39m",
      "\u001b[31mStopIteration\u001b[39m                             Traceback (most recent call last)",
      "\u001b[36mCell\u001b[39m\u001b[36m \u001b[39m\u001b[32mIn[10]\u001b[39m\u001b[32m, line 1\u001b[39m\n\u001b[32m----> \u001b[39m\u001b[32m1\u001b[39m \u001b[38;5;28;43mnext\u001b[39;49m\u001b[43m(\u001b[49m\u001b[43mans\u001b[49m\u001b[43m)\u001b[49m\n",
      "\u001b[31mStopIteration\u001b[39m: "
     ]
    }
   ],
   "source": [
    "# next(ans)"
   ]
  },
  {
   "cell_type": "code",
   "execution_count": 11,
   "id": "d7eb4d91",
   "metadata": {},
   "outputs": [],
   "source": [
    "def generator():\n",
    "    yield 1\n",
    "    yield 2\n",
    "    yield 3"
   ]
  },
  {
   "cell_type": "code",
   "execution_count": 13,
   "id": "0796ee6e",
   "metadata": {},
   "outputs": [
    {
     "data": {
      "text/plain": [
       "<generator object generator at 0x00000224AB60B060>"
      ]
     },
     "execution_count": 13,
     "metadata": {},
     "output_type": "execute_result"
    }
   ],
   "source": [
    "gen = generator()\n",
    "gen"
   ]
  },
  {
   "cell_type": "code",
   "execution_count": 14,
   "id": "6ff6bc01",
   "metadata": {},
   "outputs": [
    {
     "data": {
      "text/plain": [
       "1"
      ]
     },
     "execution_count": 14,
     "metadata": {},
     "output_type": "execute_result"
    }
   ],
   "source": [
    "next(gen)"
   ]
  },
  {
   "cell_type": "code",
   "execution_count": 15,
   "id": "c75cc0c6",
   "metadata": {},
   "outputs": [
    {
     "name": "stdout",
     "output_type": "stream",
     "text": [
      "2\n",
      "3\n"
     ]
    }
   ],
   "source": [
    "for val in gen:\n",
    "    print(val)"
   ]
  },
  {
   "cell_type": "markdown",
   "id": "39424424",
   "metadata": {},
   "source": [
    "##### Use case: Reading Large Files\n",
    "They allow to read one line at a time without laoding the entire file into memory"
   ]
  },
  {
   "cell_type": "code",
   "execution_count": 16,
   "id": "59c5728d",
   "metadata": {},
   "outputs": [],
   "source": [
    "def read_file(file_path):\n",
    "    with open(file_path, 'r') as file:\n",
    "        for line in file:\n",
    "            yield line"
   ]
  },
  {
   "cell_type": "code",
   "execution_count": 17,
   "id": "01a0ba8e",
   "metadata": {},
   "outputs": [
    {
     "name": "stdout",
     "output_type": "stream",
     "text": [
      "ï»¿Microservices Introduction\n",
      "\n",
      "\n",
      "It is a different way to build an application. When using monolith, it might have a single or multiple codebase, but is deployed as a single unit. In the case of microservices, itâ€™s broken into subproblems, and we are trying to solve some similar types of problems which are  more generic to all the projects. Like a  load balancer.\n",
      "\n",
      "\n",
      "Patterns - Make microservices work well together\n",
      "\n",
      "\n",
      "Technologies - Libraries and frameworks to solve common problems\n",
      "\n",
      "\n",
      "Web services - Building a service oriented architecture is like building a service for reusability. IP service using SOAP. They are utility services.\n",
      "Microservices - Breaking down applications into simpler smaller services. Its use case is already known unless in the case of service oriented architecture.\n",
      "\n",
      "\n",
      "Using Spring Cloud - building Goodreads\n",
      "\n",
      "\n",
      "\n",
      "\n",
      "Each one of these is a Spring boot project/service.\n",
      "\n",
      "\n",
      "How to make a REST call from code?\n",
      "* Using a REST client library\n",
      "* Spring Boot comes with a client in classpath - RestTemplate\n",
      "\n",
      "\n",
      "Using RestTemplate to connection to call the other service.\n",
      "Marshaling - Java creates an instance, parses the string and populates it one by one, if we don't have an empty constructor, it doesn't have anything to create.\n",
      "In Java, marshaling is the process of transforming the memory representation of an object into a data format suitable for storage or transmission, especially between different runtimes or systems. It's essentially the process of converting Java objects into a format that can be sent over a network or stored in a file.\n",
      "\n",
      "\n",
      "Read - Reactive Programming\n",
      "Using Web client - That is to assign a task and move on with next steps, don't have to wait. This is asynchronous.\n",
      "\n",
      "\n",
      "Service discovery Pattern\n",
      "\n",
      "\n",
      "\n",
      "\n",
      "\n",
      "\n",
      "A microservices-based application typically runs in virtualized or containerized environments. The number of instances of a service and its locations changes dynamically.\n",
      "The Service Discovery mechanism helps us know where each instance is located. In this way, a Service Discovery component acts as a registry in which the addresses of all instances are tracked.\n",
      "\n",
      "\n",
      "Spring Cloud uses Client side service discovery.\n",
      "Is it possible to cache the value for sometime on the client side, which service we need to call. Yes!\n",
      "\n",
      "\n",
      "Technology - Eureka\n",
      "1. Start up a Eureka server\n",
      "2. Have microservices register (publish) using Eureka client\n",
      "3. Have microservices locate (consume) using Eureka client\n",
      "\n",
      "\n",
      "Working on Eureka server\n",
      "\n",
      "\n",
      "\n",
      "\n",
      "@LoadBalanced annotation on client side\n",
      "\n",
      "\n",
      "If there are two instances of a service, say movie-info-service registered to eureka, when the movie catalog  Client asks the ServiceDiscovery for this service, it gets two. Hence the client has to load balance.\n",
      "\n",
      "\n",
      "To do this load balancing programmatically, we can use the DiscoveryClient interface.\n",
      "\n",
      "\n",
      "How Fault Tolerance works?\n",
      "\n",
      "\n",
      "If service2 goes down, when the discovery server gives the address, it doesn't work. Here, heartbeats  come into picture. Service sends heart beats to service registry in certain time implying it is alive!\n",
      "\n",
      "\n",
      "If serviceDiscovery goes down, it uses cache.\n",
      "\n",
      "\n",
      "________________\n",
      "\n",
      "\n",
      "\n",
      "\n",
      "Fault Tolerance and Resiliency\n",
      "\n",
      "\n",
      "Calling an external API - MovieDB/ ImDB\n",
      "\n",
      "\n",
      "\n",
      "\n",
      "\n",
      "\n",
      "\n",
      "\n",
      "Why do we need to make this resilient?\n",
      "\n",
      "\n",
      "Issues with Microservices\n",
      "\n",
      "\n",
      "1. Suppose RatingService goes down.\n",
      "Run multiple instances of this service on different machines/ports.\n",
      "\n",
      "\n",
      "2. A microservice instance is slow (consider external service, imdb is slow).\n",
      "As a result, its dependents become slow.\n",
      "\n",
      "\n",
      "But also other services become slow, like calls to RatingDataService.\n",
      "Because THREADS!\n",
      "\n",
      "\n",
      "How do threads work in a web server?\n",
      "As more requests come in, and it comes more as compared to how efficiently they get consumed/operated, it consumes all the resources and the web server slows down.\n",
      "Solution: setting Timeouts in Rest Template\n",
      "\n",
      "\n",
      "Does it solve the problem?\n",
      "No, partly,, because threads are still there on the web server, since users are sending every second, and timeouts are longer than a second, so it helps but not very eventually we get back to the same problem.\n",
      "\n",
      "\n",
      "Ideal solution: Circuit breaker pattern\n",
      "Detect which of the services is slow, and not send requests to it for a bit.\n",
      "\n",
      "\n",
      "Step1. Detect the problem\n",
      "Step2. Take steps to avoid situation getting worse\n",
      "Step3. Deactivate the problem component so it doesnâ€™t affect downstream components\n",
      "\n",
      "\n",
      "Circuit Breaker parameter\n",
      "\n",
      "\n",
      "When does a circuit trip?\n",
      "* Last n requests to consider for decision, say 5\n",
      "* How many of those are failing? say 3 timeouts happened\n",
      "* Timeout duration to consider it a failure\n",
      "\n",
      "\n",
      "When does a circuit go back to normal?\n",
      "* Sleep window: How long to wait before the circuit breaker tries again?\n",
      "\n",
      "\n",
      "What to do when a circuit break happens?\n",
      "* Define fallbacks\n",
      "* Throw an error\n",
      "* Default response\n",
      "* Save previous responses in a cache and use them when possible\n",
      "\n",
      "\n",
      "Why do we need circuit breakers?\n",
      "To fail-fast rather than failing late, it makes the app resilient\n",
      "Automatic recovery with timeouts\n",
      "\n",
      "\n",
      "When to do circuit break? | What to do when this happens? | When to resume?\n",
      "This is handled by Hystrix Framework!\n",
      "\n",
      "\n",
      "Hystrix is an open source library by Netflix. It implements the circuit breaker pattern. Given the configuration params, it does the work. - deprecated now.\n",
      "\n",
      "\n",
      "Third solution is Bulkhead Pattern\n",
      "Bulkhead pattern is a strategy in microservices, wherein, you compartmentalize your application's resources so that failure of any one of your dependencies is not cascaded into the entire system.\n",
      "\n",
      "\n",
      "Why? What was the problem?\n",
      "It could be understood like this issue with threads of a particular service bringing the whole system down, so instead, now we assign buckets of threads for different services.\n",
      "\n",
      "\n",
      "\n",
      "\n",
      "Different Design pattern - Circuit breaker (Retry), Saga, API Gateway (Zuul), Service registry\n"
     ]
    }
   ],
   "source": [
    "file_path = 'Microservices.txt'\n",
    "for line in read_file(file_path):\n",
    "    print(line.strip())"
   ]
  }
 ],
 "metadata": {
  "kernelspec": {
   "display_name": ".venv",
   "language": "python",
   "name": "python3"
  },
  "language_info": {
   "codemirror_mode": {
    "name": "ipython",
    "version": 3
   },
   "file_extension": ".py",
   "mimetype": "text/x-python",
   "name": "python",
   "nbconvert_exporter": "python",
   "pygments_lexer": "ipython3",
   "version": "3.12.7"
  }
 },
 "nbformat": 4,
 "nbformat_minor": 5
}
