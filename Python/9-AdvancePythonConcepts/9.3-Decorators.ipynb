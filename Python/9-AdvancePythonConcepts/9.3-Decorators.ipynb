{
 "cells": [
  {
   "cell_type": "markdown",
   "id": "bdff6355",
   "metadata": {},
   "source": [
    "### Decorators\n",
    "\n",
    "Decorators are powerful and flexible feature in Python taht allows you to modify the behavior of a function or class method. They are commonly used to add functionality to a method without modifying their actual code."
   ]
  },
  {
   "cell_type": "markdown",
   "id": "bbd9ddda",
   "metadata": {},
   "source": [
    "Function Copy"
   ]
  },
  {
   "cell_type": "code",
   "execution_count": 6,
   "id": "a70ad4a7",
   "metadata": {},
   "outputs": [
    {
     "data": {
      "text/plain": [
       "'Welcome to Advance Python course'"
      ]
     },
     "execution_count": 6,
     "metadata": {},
     "output_type": "execute_result"
    }
   ],
   "source": [
    "# function copy\n",
    "def welcome():\n",
    "    return \"Welcome to Advance Python course\"\n",
    "welcome()"
   ]
  },
  {
   "cell_type": "code",
   "execution_count": 7,
   "id": "06f82c2e",
   "metadata": {},
   "outputs": [
    {
     "data": {
      "text/plain": [
       "<function __main__.welcome()>"
      ]
     },
     "execution_count": 7,
     "metadata": {},
     "output_type": "execute_result"
    }
   ],
   "source": [
    "wel = welcome\n",
    "wel"
   ]
  },
  {
   "cell_type": "code",
   "execution_count": 8,
   "id": "e24532a3",
   "metadata": {},
   "outputs": [
    {
     "name": "stdout",
     "output_type": "stream",
     "text": [
      "Welcome to Advance Python course\n",
      "Welcome to Advance Python course\n"
     ]
    }
   ],
   "source": [
    "print(wel())\n",
    "del welcome\n",
    "print(wel())"
   ]
  },
  {
   "cell_type": "markdown",
   "id": "c87e97d2",
   "metadata": {},
   "source": [
    "Closures"
   ]
  },
  {
   "cell_type": "code",
   "execution_count": 16,
   "id": "373734a3",
   "metadata": {},
   "outputs": [],
   "source": [
    "# closures - function inside a function\n",
    "\n",
    "def main_welcome(msg):\n",
    "    def sub_welcome():\n",
    "        print(msg)\n",
    "        print(\"Please learn the concepts of python course\")\n",
    "    return sub_welcome()"
   ]
  },
  {
   "cell_type": "code",
   "execution_count": 18,
   "id": "84ad0ec3",
   "metadata": {},
   "outputs": [
    {
     "name": "stdout",
     "output_type": "stream",
     "text": [
      "Welcome everyone\n",
      "Please learn the concepts of python course\n"
     ]
    }
   ],
   "source": [
    "main_welcome(\"Welcome everyone\")"
   ]
  },
  {
   "cell_type": "code",
   "execution_count": 32,
   "id": "858dfc89",
   "metadata": {},
   "outputs": [],
   "source": [
    "def perform_list_op(func, list):\n",
    "    def sub_func():\n",
    "        print(func(list))\n",
    "    return sub_func()"
   ]
  },
  {
   "cell_type": "code",
   "execution_count": 33,
   "id": "a3950d55",
   "metadata": {},
   "outputs": [
    {
     "name": "stdout",
     "output_type": "stream",
     "text": [
      "[1, 2, 3, 4]\n",
      "None\n"
     ]
    }
   ],
   "source": [
    "perform_list_op(print, [1, 2, 3, 4])"
   ]
  },
  {
   "cell_type": "code",
   "execution_count": 34,
   "id": "eff54027",
   "metadata": {},
   "outputs": [
    {
     "name": "stdout",
     "output_type": "stream",
     "text": [
      "4\n"
     ]
    }
   ],
   "source": [
    "perform_list_op(len, [1, 2, 3, 4])"
   ]
  },
  {
   "cell_type": "markdown",
   "id": "2dd09614",
   "metadata": {},
   "source": [
    "Decorators"
   ]
  },
  {
   "cell_type": "code",
   "execution_count": 41,
   "id": "4bc0b08c",
   "metadata": {},
   "outputs": [
    {
     "name": "stdout",
     "output_type": "stream",
     "text": [
      "Hey, learning decorators here\n"
     ]
    }
   ],
   "source": [
    "# decorators\n",
    "def decorator_func(func):\n",
    "    def sub_method():\n",
    "        print(\"Welcome to Python course\")\n",
    "        func()\n",
    "    return sub_method()\n",
    "\n",
    "def course_intro():\n",
    "    print(\"Hey, learning decorators here\")\n",
    "\n",
    "course_intro()"
   ]
  },
  {
   "cell_type": "code",
   "execution_count": 42,
   "id": "b17f18c0",
   "metadata": {},
   "outputs": [
    {
     "name": "stdout",
     "output_type": "stream",
     "text": [
      "Welcome to Python course\n",
      "Hey, learning decorators here\n"
     ]
    }
   ],
   "source": [
    "decorator_func(course_intro)"
   ]
  },
  {
   "cell_type": "code",
   "execution_count": 44,
   "id": "cc84fb44",
   "metadata": {},
   "outputs": [
    {
     "name": "stdout",
     "output_type": "stream",
     "text": [
      "Welcome to Python course\n",
      "Hey, learning decorators here\n"
     ]
    }
   ],
   "source": [
    "@decorator_func\n",
    "def course_intro():\n",
    "    print(\"Hey, learning decorators here\")"
   ]
  },
  {
   "cell_type": "markdown",
   "id": "09170e9f",
   "metadata": {},
   "source": [
    "Example:"
   ]
  },
  {
   "cell_type": "code",
   "execution_count": 48,
   "id": "c0d0b41e",
   "metadata": {},
   "outputs": [],
   "source": [
    "def my_decorator(func):\n",
    "    def wrapper():\n",
    "        print(\"Wrapper function\")\n",
    "        func()\n",
    "    return wrapper"
   ]
  },
  {
   "cell_type": "code",
   "execution_count": 49,
   "id": "fa9ab09b",
   "metadata": {},
   "outputs": [],
   "source": [
    "@my_decorator\n",
    "def my_method():\n",
    "    print(\"Hello\")"
   ]
  },
  {
   "cell_type": "code",
   "execution_count": 50,
   "id": "a9cac8dd",
   "metadata": {},
   "outputs": [
    {
     "name": "stdout",
     "output_type": "stream",
     "text": [
      "Wrapper function\n",
      "Hello\n"
     ]
    }
   ],
   "source": [
    "my_method()"
   ]
  },
  {
   "cell_type": "markdown",
   "id": "88dd80a5",
   "metadata": {},
   "source": [
    "#### Decorators with Arguments"
   ]
  },
  {
   "cell_type": "code",
   "execution_count": 54,
   "id": "17064c4f",
   "metadata": {},
   "outputs": [],
   "source": [
    "def repeat(n):\n",
    "    def decorator(func):\n",
    "        def wrapper(*args, **kwargs):\n",
    "            for _ in range(n):\n",
    "                func(*args, **kwargs)\n",
    "        return wrapper\n",
    "    return decorator"
   ]
  },
  {
   "cell_type": "code",
   "execution_count": 55,
   "id": "fa91eae6",
   "metadata": {},
   "outputs": [],
   "source": [
    "@repeat(3)\n",
    "def sayHello():\n",
    "    print(\"Hello\")"
   ]
  },
  {
   "cell_type": "code",
   "execution_count": 56,
   "id": "6220c4d5",
   "metadata": {},
   "outputs": [
    {
     "name": "stdout",
     "output_type": "stream",
     "text": [
      "Hello\n",
      "Hello\n",
      "Hello\n"
     ]
    }
   ],
   "source": [
    "sayHello()"
   ]
  }
 ],
 "metadata": {
  "kernelspec": {
   "display_name": "venv",
   "language": "python",
   "name": "python3"
  },
  "language_info": {
   "codemirror_mode": {
    "name": "ipython",
    "version": 3
   },
   "file_extension": ".py",
   "mimetype": "text/x-python",
   "name": "python",
   "nbconvert_exporter": "python",
   "pygments_lexer": "ipython3",
   "version": "3.12.7"
  }
 },
 "nbformat": 4,
 "nbformat_minor": 5
}
