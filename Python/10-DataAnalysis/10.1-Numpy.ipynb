{
 "cells": [
  {
   "cell_type": "markdown",
   "id": "5c0f57f4",
   "metadata": {},
   "source": [
    "### NumPy\n",
    "\n",
    "NumPy is a fundamental library for scientific computing in python. It provides support of array and matrices, along with collection of mathematic functions to operate on these data structures."
   ]
  },
  {
   "cell_type": "code",
   "execution_count": 1,
   "id": "09797595",
   "metadata": {},
   "outputs": [],
   "source": [
    "import numpy as np\n",
    "\n",
    "# create array using numpy \n",
    "arr = np.array([1, 2, 3])"
   ]
  },
  {
   "cell_type": "code",
   "execution_count": 6,
   "id": "6a1273a0",
   "metadata": {},
   "outputs": [
    {
     "name": "stdout",
     "output_type": "stream",
     "text": [
      "[1 2 3]\n",
      "<class 'numpy.ndarray'>\n",
      "(3,)\n"
     ]
    }
   ],
   "source": [
    "print(arr)\n",
    "print(type(arr))\n",
    "print(arr.shape)"
   ]
  },
  {
   "cell_type": "code",
   "execution_count": 7,
   "id": "029302d1",
   "metadata": {},
   "outputs": [
    {
     "name": "stdout",
     "output_type": "stream",
     "text": [
      "[1 2 3]\n"
     ]
    }
   ],
   "source": [
    "arr_copy = arr\n",
    "print(arr_copy)"
   ]
  },
  {
   "cell_type": "code",
   "execution_count": null,
   "id": "ac392f1e",
   "metadata": {},
   "outputs": [
    {
     "data": {
      "text/plain": [
       "array([[1, 2, 3]])"
      ]
     },
     "execution_count": 9,
     "metadata": {},
     "output_type": "execute_result"
    }
   ],
   "source": [
    "arr_copy.reshape(1, 3) # reshape to [1 row, 5 columns]"
   ]
  },
  {
   "cell_type": "code",
   "execution_count": 10,
   "id": "b50a83b8",
   "metadata": {},
   "outputs": [
    {
     "name": "stdout",
     "output_type": "stream",
     "text": [
      "[1 2 3]\n"
     ]
    }
   ],
   "source": [
    "print(arr_copy)"
   ]
  },
  {
   "cell_type": "code",
   "execution_count": 19,
   "id": "3a9c426d",
   "metadata": {},
   "outputs": [
    {
     "name": "stdout",
     "output_type": "stream",
     "text": [
      "1\n",
      "3\n",
      "int64\n",
      "8\n"
     ]
    }
   ],
   "source": [
    "print(arr_copy.ndim)\n",
    "print(arr_copy.size)\n",
    "print(arr_copy.dtype)\n",
    "print(arr_copy.itemsize) # item size in bytes"
   ]
  },
  {
   "cell_type": "markdown",
   "id": "a4e4be1e",
   "metadata": {},
   "source": [
    "Creating arrays with in-built functions:"
   ]
  },
  {
   "cell_type": "code",
   "execution_count": 12,
   "id": "8be9752e",
   "metadata": {},
   "outputs": [
    {
     "data": {
      "text/plain": [
       "array([[0],\n",
       "       [2],\n",
       "       [4],\n",
       "       [6],\n",
       "       [8]])"
      ]
     },
     "execution_count": 12,
     "metadata": {},
     "output_type": "execute_result"
    }
   ],
   "source": [
    "np.arange(0, 10, 2).reshape(5, 1)"
   ]
  },
  {
   "cell_type": "code",
   "execution_count": 13,
   "id": "1b2004ff",
   "metadata": {},
   "outputs": [
    {
     "data": {
      "text/plain": [
       "array([[1., 1., 1., 1.],\n",
       "       [1., 1., 1., 1.],\n",
       "       [1., 1., 1., 1.]])"
      ]
     },
     "execution_count": 13,
     "metadata": {},
     "output_type": "execute_result"
    }
   ],
   "source": [
    "np.ones((3, 4))"
   ]
  },
  {
   "cell_type": "markdown",
   "id": "f284cbd0",
   "metadata": {},
   "source": [
    "Create a identity matrix:"
   ]
  },
  {
   "cell_type": "code",
   "execution_count": 15,
   "id": "3ca8e4ee",
   "metadata": {},
   "outputs": [
    {
     "data": {
      "text/plain": [
       "array([[1., 0., 0., 0.],\n",
       "       [0., 1., 0., 0.],\n",
       "       [0., 0., 1., 0.],\n",
       "       [0., 0., 0., 1.]])"
      ]
     },
     "execution_count": 15,
     "metadata": {},
     "output_type": "execute_result"
    }
   ],
   "source": [
    "np.eye(4)"
   ]
  },
  {
   "cell_type": "markdown",
   "id": "47d68deb",
   "metadata": {},
   "source": [
    "NumPy Vectorized Operations"
   ]
  },
  {
   "cell_type": "code",
   "execution_count": null,
   "id": "b777d5e8",
   "metadata": {},
   "outputs": [],
   "source": [
    "vector_arr = np.array([1, 2, 3])\n",
    "vector_arr2 = np.array([10, 20, 30])"
   ]
  },
  {
   "cell_type": "code",
   "execution_count": 23,
   "id": "f342afef",
   "metadata": {},
   "outputs": [
    {
     "name": "stdout",
     "output_type": "stream",
     "text": [
      "Addition:  [11 22 33]\n"
     ]
    }
   ],
   "source": [
    "# Element wise addition\n",
    "\n",
    "print(\"Addition: \", vector_arr + vector_arr2)"
   ]
  },
  {
   "cell_type": "code",
   "execution_count": 28,
   "id": "3004f06b",
   "metadata": {},
   "outputs": [
    {
     "name": "stdout",
     "output_type": "stream",
     "text": [
      "Subtraction:  [ 9 18 27]\n"
     ]
    }
   ],
   "source": [
    "# Element wise subtraction\n",
    "\n",
    "print(\"Subtraction: \", vector_arr2 - vector_arr)"
   ]
  },
  {
   "cell_type": "markdown",
   "id": "06f88e9a",
   "metadata": {},
   "source": [
    "NumPy universal functions"
   ]
  },
  {
   "cell_type": "code",
   "execution_count": 30,
   "id": "ec680ad3",
   "metadata": {},
   "outputs": [
    {
     "name": "stdout",
     "output_type": "stream",
     "text": [
      "[ 5.        6.       22.627417]\n"
     ]
    }
   ],
   "source": [
    "arr3 = np.array([25, 36, 512])\n",
    "print(np.sqrt(arr3))"
   ]
  },
  {
   "cell_type": "code",
   "execution_count": 32,
   "id": "b253684b",
   "metadata": {},
   "outputs": [
    {
     "name": "stdout",
     "output_type": "stream",
     "text": [
      "[7.20048993e+010 4.31123155e+015 2.28441359e+222]\n"
     ]
    }
   ],
   "source": [
    "print(np.exp(arr3))"
   ]
  },
  {
   "cell_type": "code",
   "execution_count": 33,
   "id": "42ae42fe",
   "metadata": {},
   "outputs": [
    {
     "name": "stdout",
     "output_type": "stream",
     "text": [
      "[-0.13235175 -0.99177885  0.07951849]\n"
     ]
    }
   ],
   "source": [
    "print(np.sin(arr3))"
   ]
  },
  {
   "cell_type": "code",
   "execution_count": 34,
   "id": "68f85b9b",
   "metadata": {},
   "outputs": [
    {
     "name": "stdout",
     "output_type": "stream",
     "text": [
      "[3.21887582 3.58351894 6.23832463]\n"
     ]
    }
   ],
   "source": [
    "print(np.log(arr3))"
   ]
  },
  {
   "cell_type": "markdown",
   "id": "ff3cb456",
   "metadata": {},
   "source": [
    "Array Slicing and Indexing"
   ]
  },
  {
   "cell_type": "code",
   "execution_count": 36,
   "id": "7f3221ac",
   "metadata": {},
   "outputs": [
    {
     "name": "stdout",
     "output_type": "stream",
     "text": [
      "[[ 1  2  3  4]\n",
      " [ 4  5  6  7]\n",
      " [ 7  8  9 10]]\n"
     ]
    }
   ],
   "source": [
    "arr4 = np.array([[1, 2, 3, 4], [4, 5, 6, 7], [7, 8, 9, 10]])\n",
    "print(arr4)"
   ]
  },
  {
   "cell_type": "code",
   "execution_count": null,
   "id": "a82cd8cb",
   "metadata": {},
   "outputs": [
    {
     "data": {
      "text/plain": [
       "np.int64(1)"
      ]
     },
     "execution_count": 37,
     "metadata": {},
     "output_type": "execute_result"
    }
   ],
   "source": [
    "arr4[0][0]"
   ]
  },
  {
   "cell_type": "code",
   "execution_count": 38,
   "id": "61c0053e",
   "metadata": {},
   "outputs": [
    {
     "name": "stdout",
     "output_type": "stream",
     "text": [
      "1\n"
     ]
    }
   ],
   "source": [
    "print(arr4[0][0])"
   ]
  },
  {
   "cell_type": "code",
   "execution_count": 39,
   "id": "367ffc25",
   "metadata": {},
   "outputs": [
    {
     "name": "stdout",
     "output_type": "stream",
     "text": [
      "[[ 6  7]\n",
      " [ 9 10]]\n"
     ]
    }
   ],
   "source": [
    "print(arr4[1:, 2:])"
   ]
  },
  {
   "cell_type": "code",
   "execution_count": 48,
   "id": "d56ae9c4",
   "metadata": {},
   "outputs": [
    {
     "name": "stdout",
     "output_type": "stream",
     "text": [
      "[[2 3 4]\n",
      " [5 6 7]]\n"
     ]
    }
   ],
   "source": [
    "print(arr4[0:2, 1:])"
   ]
  },
  {
   "cell_type": "markdown",
   "id": "dbfe5380",
   "metadata": {},
   "source": [
    "Modify array elements"
   ]
  },
  {
   "cell_type": "code",
   "execution_count": 49,
   "id": "726ce65a",
   "metadata": {},
   "outputs": [
    {
     "name": "stdout",
     "output_type": "stream",
     "text": [
      "[[100   2   3   4]\n",
      " [  4   5   6   7]\n",
      " [  7   8   9  10]]\n"
     ]
    }
   ],
   "source": [
    "arr4[0][0] = 100\n",
    "print(arr4)"
   ]
  },
  {
   "cell_type": "code",
   "execution_count": 51,
   "id": "eae19f64",
   "metadata": {},
   "outputs": [
    {
     "name": "stdout",
     "output_type": "stream",
     "text": [
      "[[100   2   3   4]\n",
      " [100 100 100 100]\n",
      " [100 100 100 100]]\n"
     ]
    }
   ],
   "source": [
    "arr4[1:] = 100\n",
    "print(arr4)"
   ]
  },
  {
   "cell_type": "markdown",
   "id": "8dc87dd2",
   "metadata": {},
   "source": [
    "Statistical Concepts\n",
    "1. Normalization"
   ]
  },
  {
   "cell_type": "code",
   "execution_count": 53,
   "id": "255bf226",
   "metadata": {},
   "outputs": [],
   "source": [
    "# mean of 0 and standard deviation of 1\n",
    "data = np.array([1, 2, 3, 4, 5, 6])\n",
    "\n",
    "mean = np.mean(data)\n",
    "std_dev = np.std(data)\n",
    "\n",
    "normalized_data = (data - mean) / std_dev"
   ]
  },
  {
   "cell_type": "code",
   "execution_count": 54,
   "id": "268e46be",
   "metadata": {},
   "outputs": [
    {
     "name": "stdout",
     "output_type": "stream",
     "text": [
      "[-1.46385011 -0.87831007 -0.29277002  0.29277002  0.87831007  1.46385011]\n"
     ]
    }
   ],
   "source": [
    "print(normalized_data)"
   ]
  },
  {
   "cell_type": "code",
   "execution_count": 55,
   "id": "f2c09236",
   "metadata": {},
   "outputs": [
    {
     "name": "stdout",
     "output_type": "stream",
     "text": [
      "2.9166666666666665\n"
     ]
    }
   ],
   "source": [
    "variance = np.var(data)\n",
    "print(variance)"
   ]
  }
 ],
 "metadata": {
  "kernelspec": {
   "display_name": "venv",
   "language": "python",
   "name": "python3"
  },
  "language_info": {
   "codemirror_mode": {
    "name": "ipython",
    "version": 3
   },
   "file_extension": ".py",
   "mimetype": "text/x-python",
   "name": "python",
   "nbconvert_exporter": "python",
   "pygments_lexer": "ipython3",
   "version": "3.12.7"
  }
 },
 "nbformat": 4,
 "nbformat_minor": 5
}
