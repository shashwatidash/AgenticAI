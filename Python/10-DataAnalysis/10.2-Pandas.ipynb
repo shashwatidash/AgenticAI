{
 "cells": [
  {
   "cell_type": "markdown",
   "id": "819d4504",
   "metadata": {},
   "source": [
    "### Pandas - DataFrame and Series\n",
    "\n",
    "Pandas is a powerful data manipulation library in Python, used for data analysis and data cleaning. It provides two primary data structures: Series and DataFrame.\n",
    "\n",
    "Series is a one-dimensional array-like object.\n",
    "\n",
    "DataFrame is a two-dimensional, size-mutable, and potentially heterogeneous data structure with labelled axes (rows and columns)."
   ]
  },
  {
   "cell_type": "code",
   "execution_count": 1,
   "id": "1978444b",
   "metadata": {},
   "outputs": [],
   "source": [
    "import  pandas as pd"
   ]
  },
  {
   "cell_type": "markdown",
   "id": "8cc32d0f",
   "metadata": {},
   "source": [
    "Series - It is a 1D array-like object that can hold any data type, similar to a column in a table"
   ]
  },
  {
   "cell_type": "code",
   "execution_count": 4,
   "id": "1caa746a",
   "metadata": {},
   "outputs": [],
   "source": [
    "data = [1, 2, 3, 4, 5]\n",
    "series = pd.Series(data)"
   ]
  },
  {
   "cell_type": "code",
   "execution_count": 6,
   "id": "fb2756d6",
   "metadata": {},
   "outputs": [
    {
     "name": "stdout",
     "output_type": "stream",
     "text": [
      "0    1\n",
      "1    2\n",
      "2    3\n",
      "3    4\n",
      "4    5\n",
      "dtype: int64\n",
      "<class 'pandas.core.series.Series'>\n"
     ]
    }
   ],
   "source": [
    "print(series)\n",
    "print(type(series))"
   ]
  },
  {
   "cell_type": "markdown",
   "id": "5883d619",
   "metadata": {},
   "source": [
    "Create a Series from Dictionary"
   ]
  },
  {
   "cell_type": "code",
   "execution_count": 7,
   "id": "2dc3ac14",
   "metadata": {},
   "outputs": [],
   "source": [
    "dictionary = {'a' : 1, 'b' : 2, 'c' : 3}\n",
    "series_dict = pd.Series(dictionary)"
   ]
  },
  {
   "cell_type": "code",
   "execution_count": 8,
   "id": "74bbd7cd",
   "metadata": {},
   "outputs": [
    {
     "name": "stdout",
     "output_type": "stream",
     "text": [
      "a    1\n",
      "b    2\n",
      "c    3\n",
      "dtype: int64\n"
     ]
    }
   ],
   "source": [
    "print(series_dict)"
   ]
  },
  {
   "cell_type": "code",
   "execution_count": 9,
   "id": "515293ac",
   "metadata": {},
   "outputs": [
    {
     "data": {
      "text/plain": [
       "a    1\n",
       "b    2\n",
       "c    3\n",
       "d    4\n",
       "e    5\n",
       "dtype: int64"
      ]
     },
     "execution_count": 9,
     "metadata": {},
     "output_type": "execute_result"
    }
   ],
   "source": [
    "index = ['a', 'b', 'c', 'd', 'e']\n",
    "pd.Series(data, index = index)"
   ]
  },
  {
   "cell_type": "markdown",
   "id": "57d01c12",
   "metadata": {},
   "source": [
    "DataFrame"
   ]
  },
  {
   "cell_type": "code",
   "execution_count": 10,
   "id": "c058dfc8",
   "metadata": {},
   "outputs": [],
   "source": [
    "dataframe = {\n",
    "    'name' : ['Anna', 'Henry', 'Paul'],\n",
    "    'age' : [25, 20, 45],\n",
    "    'city' : ['Chennai', 'Manila', 'Singapore']\n",
    "}"
   ]
  },
  {
   "cell_type": "code",
   "execution_count": 12,
   "id": "631fa177",
   "metadata": {},
   "outputs": [
    {
     "name": "stdout",
     "output_type": "stream",
     "text": [
      "<class 'pandas.core.frame.DataFrame'>\n"
     ]
    }
   ],
   "source": [
    "df = pd.DataFrame(dataframe)\n",
    "print(type(df))"
   ]
  },
  {
   "cell_type": "code",
   "execution_count": 13,
   "id": "34b0fcf3",
   "metadata": {},
   "outputs": [
    {
     "name": "stdout",
     "output_type": "stream",
     "text": [
      "    name  age       city\n",
      "0   Anna   25    Chennai\n",
      "1  Henry   20     Manila\n",
      "2   Paul   45  Singapore\n"
     ]
    }
   ],
   "source": [
    "print(df)"
   ]
  },
  {
   "cell_type": "code",
   "execution_count": 14,
   "id": "9d76fa57",
   "metadata": {},
   "outputs": [
    {
     "data": {
      "text/plain": [
       "array([['Anna', 25, 'Chennai'],\n",
       "       ['Henry', 20, 'Manila'],\n",
       "       ['Paul', 45, 'Singapore']], dtype=object)"
      ]
     },
     "execution_count": 14,
     "metadata": {},
     "output_type": "execute_result"
    }
   ],
   "source": [
    "import numpy as np\n",
    "np.array(df)"
   ]
  },
  {
   "cell_type": "markdown",
   "id": "d32dc28b",
   "metadata": {},
   "source": [
    "Create a DataFrame from a List of Dictionaries"
   ]
  },
  {
   "cell_type": "code",
   "execution_count": 15,
   "id": "f0d7541d",
   "metadata": {},
   "outputs": [],
   "source": [
    "dict_list = [\n",
    "    {'name' : 'Anna', 'age' : 25, 'city' : 'Chennai'},\n",
    "    {'name' : 'Henry', 'age' : 20, 'city' : 'Manila'},\n",
    "    {'name' : 'Paul', 'age' : 45, 'city' : 'Singapore'}\n",
    "]"
   ]
  },
  {
   "cell_type": "code",
   "execution_count": 16,
   "id": "ceecb82e",
   "metadata": {},
   "outputs": [
    {
     "name": "stdout",
     "output_type": "stream",
     "text": [
      "<class 'pandas.core.frame.DataFrame'>\n",
      "    name  age       city\n",
      "0   Anna   25    Chennai\n",
      "1  Henry   20     Manila\n",
      "2   Paul   45  Singapore\n"
     ]
    }
   ],
   "source": [
    "df_dict_list = pd.DataFrame(dict_list)\n",
    "print(type(df_dict_list))\n",
    "print(df_dict_list)"
   ]
  },
  {
   "cell_type": "markdown",
   "id": "3134abc3",
   "metadata": {},
   "source": [
    "Accessing Data from DataFrame"
   ]
  },
  {
   "cell_type": "code",
   "execution_count": 24,
   "id": "837e02c0",
   "metadata": {},
   "outputs": [
    {
     "data": {
      "text/plain": [
       "0     Anna\n",
       "1    Henry\n",
       "2     Paul\n",
       "Name: name, dtype: object"
      ]
     },
     "execution_count": 24,
     "metadata": {},
     "output_type": "execute_result"
    }
   ],
   "source": [
    "df_dict_list['name']"
   ]
  },
  {
   "cell_type": "code",
   "execution_count": 25,
   "id": "2c368c31",
   "metadata": {},
   "outputs": [
    {
     "data": {
      "text/plain": [
       "name     Henry\n",
       "age         20\n",
       "city    Manila\n",
       "Name: 1, dtype: object"
      ]
     },
     "execution_count": 25,
     "metadata": {},
     "output_type": "execute_result"
    }
   ],
   "source": [
    "df_dict_list.loc[1]"
   ]
  },
  {
   "cell_type": "code",
   "execution_count": 27,
   "id": "0f67ec22",
   "metadata": {},
   "outputs": [
    {
     "data": {
      "text/plain": [
       "name       Anna\n",
       "age          25\n",
       "city    Chennai\n",
       "Name: 0, dtype: object"
      ]
     },
     "execution_count": 27,
     "metadata": {},
     "output_type": "execute_result"
    }
   ],
   "source": [
    "df_dict_list.iloc[0]"
   ]
  },
  {
   "cell_type": "code",
   "execution_count": null,
   "id": "d7e9012c",
   "metadata": {},
   "outputs": [],
   "source": [
    "# load csv data\n",
    "df_csv = pd.read_csv('business.csv')\n"
   ]
  },
  {
   "cell_type": "code",
   "execution_count": 23,
   "id": "c8fc1ffa",
   "metadata": {},
   "outputs": [
    {
     "data": {
      "text/html": [
       "<div>\n",
       "<style scoped>\n",
       "    .dataframe tbody tr th:only-of-type {\n",
       "        vertical-align: middle;\n",
       "    }\n",
       "\n",
       "    .dataframe tbody tr th {\n",
       "        vertical-align: top;\n",
       "    }\n",
       "\n",
       "    .dataframe thead th {\n",
       "        text-align: right;\n",
       "    }\n",
       "</style>\n",
       "<table border=\"1\" class=\"dataframe\">\n",
       "  <thead>\n",
       "    <tr style=\"text-align: right;\">\n",
       "      <th></th>\n",
       "      <th>description</th>\n",
       "      <th>industry</th>\n",
       "      <th>level</th>\n",
       "      <th>size</th>\n",
       "      <th>line_code</th>\n",
       "      <th>value</th>\n",
       "    </tr>\n",
       "  </thead>\n",
       "  <tbody>\n",
       "    <tr>\n",
       "      <th>6622</th>\n",
       "      <td>Number of years business is dealing with main ...</td>\n",
       "      <td>Education &amp; training</td>\n",
       "      <td>1</td>\n",
       "      <td>total</td>\n",
       "      <td>D2100.04</td>\n",
       "      <td>468</td>\n",
       "    </tr>\n",
       "    <tr>\n",
       "      <th>6623</th>\n",
       "      <td>Number of years business is dealing with main ...</td>\n",
       "      <td>Health care &amp; social assistance</td>\n",
       "      <td>1</td>\n",
       "      <td>total</td>\n",
       "      <td>D2100.04</td>\n",
       "      <td>1320</td>\n",
       "    </tr>\n",
       "    <tr>\n",
       "      <th>6624</th>\n",
       "      <td>Number of years business is dealing with main ...</td>\n",
       "      <td>Arts &amp; recreation services</td>\n",
       "      <td>1</td>\n",
       "      <td>total</td>\n",
       "      <td>D2100.04</td>\n",
       "      <td>264</td>\n",
       "    </tr>\n",
       "    <tr>\n",
       "      <th>6625</th>\n",
       "      <td>Number of years business is dealing with main ...</td>\n",
       "      <td>Other services</td>\n",
       "      <td>1</td>\n",
       "      <td>total</td>\n",
       "      <td>D2100.04</td>\n",
       "      <td>936</td>\n",
       "    </tr>\n",
       "    <tr>\n",
       "      <th>6626</th>\n",
       "      <td>Number of years business is dealing with main ...</td>\n",
       "      <td>total</td>\n",
       "      <td>0</td>\n",
       "      <td>total</td>\n",
       "      <td>D2100.04</td>\n",
       "      <td>24012</td>\n",
       "    </tr>\n",
       "  </tbody>\n",
       "</table>\n",
       "</div>"
      ],
      "text/plain": [
       "                                            description  \\\n",
       "6622  Number of years business is dealing with main ...   \n",
       "6623  Number of years business is dealing with main ...   \n",
       "6624  Number of years business is dealing with main ...   \n",
       "6625  Number of years business is dealing with main ...   \n",
       "6626  Number of years business is dealing with main ...   \n",
       "\n",
       "                             industry  level   size line_code  value  \n",
       "6622             Education & training      1  total  D2100.04    468  \n",
       "6623  Health care & social assistance      1  total  D2100.04   1320  \n",
       "6624       Arts & recreation services      1  total  D2100.04    264  \n",
       "6625                   Other services      1  total  D2100.04    936  \n",
       "6626                            total      0  total  D2100.04  24012  "
      ]
     },
     "execution_count": 23,
     "metadata": {},
     "output_type": "execute_result"
    }
   ],
   "source": [
    "df_csv.tail(5)"
   ]
  },
  {
   "cell_type": "code",
   "execution_count": 28,
   "id": "7512ddef",
   "metadata": {},
   "outputs": [
    {
     "data": {
      "text/plain": [
       "description    Type of outstanding debt: bank overdrafts\n",
       "industry                              Commercial fishing\n",
       "level                                                  2\n",
       "size                                               total\n",
       "line_code                                          D0201\n",
       "value                                                 24\n",
       "Name: 6, dtype: object"
      ]
     },
     "execution_count": 28,
     "metadata": {},
     "output_type": "execute_result"
    }
   ],
   "source": [
    "df_csv.iloc[6]"
   ]
  },
  {
   "cell_type": "code",
   "execution_count": 34,
   "id": "4587382f",
   "metadata": {},
   "outputs": [
    {
     "data": {
      "text/plain": [
       "description    Type of outstanding debt: bank overdrafts\n",
       "industry                              Commercial fishing\n",
       "level                                                  2\n",
       "Name: 6, dtype: object"
      ]
     },
     "execution_count": 34,
     "metadata": {},
     "output_type": "execute_result"
    }
   ],
   "source": [
    "df_csv.iloc[6][0:3]"
   ]
  },
  {
   "cell_type": "code",
   "execution_count": 35,
   "id": "9a99cdd4",
   "metadata": {},
   "outputs": [
    {
     "data": {
      "text/plain": [
       "'Commercial fishing'"
      ]
     },
     "execution_count": 35,
     "metadata": {},
     "output_type": "execute_result"
    }
   ],
   "source": [
    "df_csv.at[6, 'industry']"
   ]
  },
  {
   "cell_type": "markdown",
   "id": "dd42a08b",
   "metadata": {},
   "source": [
    "Data Manipulation with DataFrame"
   ]
  },
  {
   "cell_type": "code",
   "execution_count": 39,
   "id": "f386f7ab",
   "metadata": {},
   "outputs": [],
   "source": [
    "df['salary'] = [70000, 73000, 100000]"
   ]
  },
  {
   "cell_type": "code",
   "execution_count": null,
   "id": "0865b73c",
   "metadata": {},
   "outputs": [
    {
     "data": {
      "text/html": [
       "<div>\n",
       "<style scoped>\n",
       "    .dataframe tbody tr th:only-of-type {\n",
       "        vertical-align: middle;\n",
       "    }\n",
       "\n",
       "    .dataframe tbody tr th {\n",
       "        vertical-align: top;\n",
       "    }\n",
       "\n",
       "    .dataframe thead th {\n",
       "        text-align: right;\n",
       "    }\n",
       "</style>\n",
       "<table border=\"1\" class=\"dataframe\">\n",
       "  <thead>\n",
       "    <tr style=\"text-align: right;\">\n",
       "      <th></th>\n",
       "      <th>name</th>\n",
       "      <th>age</th>\n",
       "      <th>city</th>\n",
       "      <th>Salary</th>\n",
       "    </tr>\n",
       "  </thead>\n",
       "  <tbody>\n",
       "    <tr>\n",
       "      <th>0</th>\n",
       "      <td>Anna</td>\n",
       "      <td>25</td>\n",
       "      <td>Chennai</td>\n",
       "      <td>70000</td>\n",
       "    </tr>\n",
       "    <tr>\n",
       "      <th>1</th>\n",
       "      <td>Henry</td>\n",
       "      <td>20</td>\n",
       "      <td>Manila</td>\n",
       "      <td>73000</td>\n",
       "    </tr>\n",
       "    <tr>\n",
       "      <th>2</th>\n",
       "      <td>Paul</td>\n",
       "      <td>45</td>\n",
       "      <td>Singapore</td>\n",
       "      <td>100000</td>\n",
       "    </tr>\n",
       "  </tbody>\n",
       "</table>\n",
       "</div>"
      ],
      "text/plain": [
       "    name  age       city  Salary\n",
       "0   Anna   25    Chennai   70000\n",
       "1  Henry   20     Manila   73000\n",
       "2   Paul   45  Singapore  100000"
      ]
     },
     "execution_count": 37,
     "metadata": {},
     "output_type": "execute_result"
    }
   ],
   "source": [
    "# df.drop('Salary')\n",
    "# KeyError: \"['Salary'] not found in axis\""
   ]
  },
  {
   "cell_type": "code",
   "execution_count": 41,
   "id": "e88d5381",
   "metadata": {},
   "outputs": [
    {
     "data": {
      "text/html": [
       "<div>\n",
       "<style scoped>\n",
       "    .dataframe tbody tr th:only-of-type {\n",
       "        vertical-align: middle;\n",
       "    }\n",
       "\n",
       "    .dataframe tbody tr th {\n",
       "        vertical-align: top;\n",
       "    }\n",
       "\n",
       "    .dataframe thead th {\n",
       "        text-align: right;\n",
       "    }\n",
       "</style>\n",
       "<table border=\"1\" class=\"dataframe\">\n",
       "  <thead>\n",
       "    <tr style=\"text-align: right;\">\n",
       "      <th></th>\n",
       "      <th>name</th>\n",
       "      <th>age</th>\n",
       "      <th>city</th>\n",
       "      <th>salary</th>\n",
       "    </tr>\n",
       "  </thead>\n",
       "  <tbody>\n",
       "    <tr>\n",
       "      <th>0</th>\n",
       "      <td>Anna</td>\n",
       "      <td>25</td>\n",
       "      <td>Chennai</td>\n",
       "      <td>70000</td>\n",
       "    </tr>\n",
       "    <tr>\n",
       "      <th>1</th>\n",
       "      <td>Henry</td>\n",
       "      <td>20</td>\n",
       "      <td>Manila</td>\n",
       "      <td>73000</td>\n",
       "    </tr>\n",
       "    <tr>\n",
       "      <th>2</th>\n",
       "      <td>Paul</td>\n",
       "      <td>45</td>\n",
       "      <td>Singapore</td>\n",
       "      <td>100000</td>\n",
       "    </tr>\n",
       "  </tbody>\n",
       "</table>\n",
       "</div>"
      ],
      "text/plain": [
       "    name  age       city  salary\n",
       "0   Anna   25    Chennai   70000\n",
       "1  Henry   20     Manila   73000\n",
       "2   Paul   45  Singapore  100000"
      ]
     },
     "execution_count": 41,
     "metadata": {},
     "output_type": "execute_result"
    }
   ],
   "source": [
    "df.drop('Salary', axis = 1)"
   ]
  },
  {
   "cell_type": "code",
   "execution_count": 42,
   "id": "0a9310a6",
   "metadata": {},
   "outputs": [
    {
     "data": {
      "text/html": [
       "<div>\n",
       "<style scoped>\n",
       "    .dataframe tbody tr th:only-of-type {\n",
       "        vertical-align: middle;\n",
       "    }\n",
       "\n",
       "    .dataframe tbody tr th {\n",
       "        vertical-align: top;\n",
       "    }\n",
       "\n",
       "    .dataframe thead th {\n",
       "        text-align: right;\n",
       "    }\n",
       "</style>\n",
       "<table border=\"1\" class=\"dataframe\">\n",
       "  <thead>\n",
       "    <tr style=\"text-align: right;\">\n",
       "      <th></th>\n",
       "      <th>name</th>\n",
       "      <th>age</th>\n",
       "      <th>city</th>\n",
       "      <th>Salary</th>\n",
       "      <th>salary</th>\n",
       "    </tr>\n",
       "  </thead>\n",
       "  <tbody>\n",
       "    <tr>\n",
       "      <th>0</th>\n",
       "      <td>Anna</td>\n",
       "      <td>25</td>\n",
       "      <td>Chennai</td>\n",
       "      <td>70000</td>\n",
       "      <td>70000</td>\n",
       "    </tr>\n",
       "    <tr>\n",
       "      <th>1</th>\n",
       "      <td>Henry</td>\n",
       "      <td>20</td>\n",
       "      <td>Manila</td>\n",
       "      <td>73000</td>\n",
       "      <td>73000</td>\n",
       "    </tr>\n",
       "    <tr>\n",
       "      <th>2</th>\n",
       "      <td>Paul</td>\n",
       "      <td>45</td>\n",
       "      <td>Singapore</td>\n",
       "      <td>100000</td>\n",
       "      <td>100000</td>\n",
       "    </tr>\n",
       "  </tbody>\n",
       "</table>\n",
       "</div>"
      ],
      "text/plain": [
       "    name  age       city  Salary  salary\n",
       "0   Anna   25    Chennai   70000   70000\n",
       "1  Henry   20     Manila   73000   73000\n",
       "2   Paul   45  Singapore  100000  100000"
      ]
     },
     "execution_count": 42,
     "metadata": {},
     "output_type": "execute_result"
    }
   ],
   "source": [
    "df"
   ]
  },
  {
   "cell_type": "code",
   "execution_count": 43,
   "id": "367981c0",
   "metadata": {},
   "outputs": [],
   "source": [
    "df.drop('Salary', axis = 1, inplace = True)"
   ]
  },
  {
   "cell_type": "code",
   "execution_count": 44,
   "id": "3eddd528",
   "metadata": {},
   "outputs": [
    {
     "data": {
      "text/html": [
       "<div>\n",
       "<style scoped>\n",
       "    .dataframe tbody tr th:only-of-type {\n",
       "        vertical-align: middle;\n",
       "    }\n",
       "\n",
       "    .dataframe tbody tr th {\n",
       "        vertical-align: top;\n",
       "    }\n",
       "\n",
       "    .dataframe thead th {\n",
       "        text-align: right;\n",
       "    }\n",
       "</style>\n",
       "<table border=\"1\" class=\"dataframe\">\n",
       "  <thead>\n",
       "    <tr style=\"text-align: right;\">\n",
       "      <th></th>\n",
       "      <th>name</th>\n",
       "      <th>age</th>\n",
       "      <th>city</th>\n",
       "      <th>salary</th>\n",
       "    </tr>\n",
       "  </thead>\n",
       "  <tbody>\n",
       "    <tr>\n",
       "      <th>0</th>\n",
       "      <td>Anna</td>\n",
       "      <td>25</td>\n",
       "      <td>Chennai</td>\n",
       "      <td>70000</td>\n",
       "    </tr>\n",
       "    <tr>\n",
       "      <th>1</th>\n",
       "      <td>Henry</td>\n",
       "      <td>20</td>\n",
       "      <td>Manila</td>\n",
       "      <td>73000</td>\n",
       "    </tr>\n",
       "    <tr>\n",
       "      <th>2</th>\n",
       "      <td>Paul</td>\n",
       "      <td>45</td>\n",
       "      <td>Singapore</td>\n",
       "      <td>100000</td>\n",
       "    </tr>\n",
       "  </tbody>\n",
       "</table>\n",
       "</div>"
      ],
      "text/plain": [
       "    name  age       city  salary\n",
       "0   Anna   25    Chennai   70000\n",
       "1  Henry   20     Manila   73000\n",
       "2   Paul   45  Singapore  100000"
      ]
     },
     "execution_count": 44,
     "metadata": {},
     "output_type": "execute_result"
    }
   ],
   "source": [
    "df"
   ]
  },
  {
   "cell_type": "markdown",
   "id": "06ef46fe",
   "metadata": {},
   "source": [
    "Add age to column"
   ]
  },
  {
   "cell_type": "code",
   "execution_count": 45,
   "id": "244bc417",
   "metadata": {},
   "outputs": [],
   "source": [
    "df['age'] = df['age'] + 1"
   ]
  },
  {
   "cell_type": "code",
   "execution_count": 46,
   "id": "b64ec4eb",
   "metadata": {},
   "outputs": [
    {
     "data": {
      "text/html": [
       "<div>\n",
       "<style scoped>\n",
       "    .dataframe tbody tr th:only-of-type {\n",
       "        vertical-align: middle;\n",
       "    }\n",
       "\n",
       "    .dataframe tbody tr th {\n",
       "        vertical-align: top;\n",
       "    }\n",
       "\n",
       "    .dataframe thead th {\n",
       "        text-align: right;\n",
       "    }\n",
       "</style>\n",
       "<table border=\"1\" class=\"dataframe\">\n",
       "  <thead>\n",
       "    <tr style=\"text-align: right;\">\n",
       "      <th></th>\n",
       "      <th>name</th>\n",
       "      <th>age</th>\n",
       "      <th>city</th>\n",
       "      <th>salary</th>\n",
       "    </tr>\n",
       "  </thead>\n",
       "  <tbody>\n",
       "    <tr>\n",
       "      <th>0</th>\n",
       "      <td>Anna</td>\n",
       "      <td>26</td>\n",
       "      <td>Chennai</td>\n",
       "      <td>70000</td>\n",
       "    </tr>\n",
       "    <tr>\n",
       "      <th>1</th>\n",
       "      <td>Henry</td>\n",
       "      <td>21</td>\n",
       "      <td>Manila</td>\n",
       "      <td>73000</td>\n",
       "    </tr>\n",
       "    <tr>\n",
       "      <th>2</th>\n",
       "      <td>Paul</td>\n",
       "      <td>46</td>\n",
       "      <td>Singapore</td>\n",
       "      <td>100000</td>\n",
       "    </tr>\n",
       "  </tbody>\n",
       "</table>\n",
       "</div>"
      ],
      "text/plain": [
       "    name  age       city  salary\n",
       "0   Anna   26    Chennai   70000\n",
       "1  Henry   21     Manila   73000\n",
       "2   Paul   46  Singapore  100000"
      ]
     },
     "execution_count": 46,
     "metadata": {},
     "output_type": "execute_result"
    }
   ],
   "source": [
    "df"
   ]
  },
  {
   "cell_type": "code",
   "execution_count": 47,
   "id": "811dc89e",
   "metadata": {},
   "outputs": [
    {
     "data": {
      "text/plain": [
       "description    object\n",
       "industry       object\n",
       "level           int64\n",
       "size           object\n",
       "line_code      object\n",
       "value           int64\n",
       "dtype: object"
      ]
     },
     "execution_count": 47,
     "metadata": {},
     "output_type": "execute_result"
    }
   ],
   "source": [
    "df_csv.dtypes"
   ]
  },
  {
   "cell_type": "code",
   "execution_count": 56,
   "id": "6d50ff23",
   "metadata": {},
   "outputs": [
    {
     "data": {
      "text/html": [
       "<div>\n",
       "<style scoped>\n",
       "    .dataframe tbody tr th:only-of-type {\n",
       "        vertical-align: middle;\n",
       "    }\n",
       "\n",
       "    .dataframe tbody tr th {\n",
       "        vertical-align: top;\n",
       "    }\n",
       "\n",
       "    .dataframe thead th {\n",
       "        text-align: right;\n",
       "    }\n",
       "</style>\n",
       "<table border=\"1\" class=\"dataframe\">\n",
       "  <thead>\n",
       "    <tr style=\"text-align: right;\">\n",
       "      <th></th>\n",
       "      <th>level</th>\n",
       "      <th>value</th>\n",
       "    </tr>\n",
       "  </thead>\n",
       "  <tbody>\n",
       "    <tr>\n",
       "      <th>count</th>\n",
       "      <td>6627.000000</td>\n",
       "      <td>6627.000000</td>\n",
       "    </tr>\n",
       "    <tr>\n",
       "      <th>mean</th>\n",
       "      <td>1.404255</td>\n",
       "      <td>421.937981</td>\n",
       "    </tr>\n",
       "    <tr>\n",
       "      <th>std</th>\n",
       "      <td>0.673548</td>\n",
       "      <td>2071.697633</td>\n",
       "    </tr>\n",
       "    <tr>\n",
       "      <th>min</th>\n",
       "      <td>0.000000</td>\n",
       "      <td>0.000000</td>\n",
       "    </tr>\n",
       "    <tr>\n",
       "      <th>25%</th>\n",
       "      <td>1.000000</td>\n",
       "      <td>3.000000</td>\n",
       "    </tr>\n",
       "    <tr>\n",
       "      <th>50%</th>\n",
       "      <td>2.000000</td>\n",
       "      <td>27.000000</td>\n",
       "    </tr>\n",
       "    <tr>\n",
       "      <th>75%</th>\n",
       "      <td>2.000000</td>\n",
       "      <td>153.000000</td>\n",
       "    </tr>\n",
       "    <tr>\n",
       "      <th>max</th>\n",
       "      <td>2.000000</td>\n",
       "      <td>42840.000000</td>\n",
       "    </tr>\n",
       "  </tbody>\n",
       "</table>\n",
       "</div>"
      ],
      "text/plain": [
       "             level         value\n",
       "count  6627.000000   6627.000000\n",
       "mean      1.404255    421.937981\n",
       "std       0.673548   2071.697633\n",
       "min       0.000000      0.000000\n",
       "25%       1.000000      3.000000\n",
       "50%       2.000000     27.000000\n",
       "75%       2.000000    153.000000\n",
       "max       2.000000  42840.000000"
      ]
     },
     "execution_count": 56,
     "metadata": {},
     "output_type": "execute_result"
    }
   ],
   "source": [
    "# Stats analysis\n",
    "df_csv.describe()"
   ]
  }
 ],
 "metadata": {
  "kernelspec": {
   "display_name": "venv",
   "language": "python",
   "name": "python3"
  },
  "language_info": {
   "codemirror_mode": {
    "name": "ipython",
    "version": 3
   },
   "file_extension": ".py",
   "mimetype": "text/x-python",
   "name": "python",
   "nbconvert_exporter": "python",
   "pygments_lexer": "ipython3",
   "version": "3.12.7"
  }
 },
 "nbformat": 4,
 "nbformat_minor": 5
}
