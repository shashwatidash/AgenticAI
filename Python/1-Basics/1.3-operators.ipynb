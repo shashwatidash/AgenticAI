{
 "cells": [
  {
   "cell_type": "markdown",
   "id": "1fcd535d",
   "metadata": {},
   "source": [
    "### Overview\n",
    "\n",
    "- Arithmetic Operators\n",
    "- Comparsion Operators\n",
    "- Logical Operators"
   ]
  },
  {
   "cell_type": "code",
   "execution_count": null,
   "id": "2064e195",
   "metadata": {},
   "outputs": [
    {
     "name": "stdout",
     "output_type": "stream",
     "text": [
      "Total Price:  365\n",
      "Difference:  135\n",
      "Price per fruit:  43.0\n",
      "Rate difference:  135\n"
     ]
    }
   ],
   "source": [
    "## Arithmetic\n",
    "\n",
    "fruits = 215\n",
    "veggies = 150\n",
    "price = fruits + veggies\n",
    "print('Total Price: ', price)\n",
    "\n",
    "market_price = 500\n",
    "print('Difference: ', market_price - price)\n",
    "\n",
    "no_of_fruits = 5\n",
    "print('Price per fruit: ', fruits / no_of_fruits)\n",
    "\n",
    "diff = market_price - price\n",
    "print('Rate difference: ', (diff % price))"
   ]
  },
  {
   "cell_type": "code",
   "execution_count": 16,
   "id": "31dc75cc",
   "metadata": {},
   "outputs": [
    {
     "name": "stdout",
     "output_type": "stream",
     "text": [
      "43\n",
      "3125\n"
     ]
    }
   ],
   "source": [
    "floor_div = fruits // no_of_fruits\n",
    "print(floor_div)\n",
    "\n",
    "exponent_res = 5 ** 5\n",
    "print(exponent_res)"
   ]
  },
  {
   "cell_type": "markdown",
   "id": "61f2cfce",
   "metadata": {},
   "source": [
    "more examples - Floor Division"
   ]
  },
  {
   "cell_type": "code",
   "execution_count": 19,
   "id": "90f71447",
   "metadata": {},
   "outputs": [
    {
     "name": "stdout",
     "output_type": "stream",
     "text": [
      "4.2\n",
      "4\n"
     ]
    }
   ],
   "source": [
    "print(21 / 5)\n",
    "print(21 // 5)\n"
   ]
  },
  {
   "cell_type": "code",
   "execution_count": 23,
   "id": "aa473873",
   "metadata": {},
   "outputs": [
    {
     "name": "stdout",
     "output_type": "stream",
     "text": [
      "False\n",
      "True\n",
      "False\n"
     ]
    }
   ],
   "source": [
    "## Comparison\n",
    "\n",
    "print(veggies == market_price)\n",
    "\n",
    "# case sensitive string\n",
    "str = 'John'\n",
    "str2 = 'John'\n",
    "str3 = 'john'\n",
    "\n",
    "print(str == str2)\n",
    "print(str == str3)\n"
   ]
  },
  {
   "cell_type": "code",
   "execution_count": 27,
   "id": "5bf5740c",
   "metadata": {},
   "outputs": [
    {
     "name": "stdout",
     "output_type": "stream",
     "text": [
      "True\n",
      "False\n",
      "False\n",
      "True\n"
     ]
    }
   ],
   "source": [
    "print(veggies != market_price) # not equal to\n",
    "print(veggies > market_price) # greater than\n",
    "print(veggies >= market_price) # greater than equal to\n",
    "print(veggies <= market_price) # less than equal to"
   ]
  },
  {
   "cell_type": "code",
   "execution_count": null,
   "id": "315f536d",
   "metadata": {},
   "outputs": [
    {
     "name": "stdout",
     "output_type": "stream",
     "text": [
      "False\n",
      "True\n",
      "True\n"
     ]
    }
   ],
   "source": [
    "## Logical \n",
    "\n",
    "x = True\n",
    "y = False\n",
    "\n",
    "print(x & y) # AND\n",
    "print(x | y) # OR\n",
    "print(x & (not y)) # NOT"
   ]
  }
 ],
 "metadata": {
  "kernelspec": {
   "display_name": "Python 3",
   "language": "python",
   "name": "python3"
  },
  "language_info": {
   "codemirror_mode": {
    "name": "ipython",
    "version": 3
   },
   "file_extension": ".py",
   "mimetype": "text/x-python",
   "name": "python",
   "nbconvert_exporter": "python",
   "pygments_lexer": "ipython3",
   "version": "3.12.0"
  }
 },
 "nbformat": 4,
 "nbformat_minor": 5
}
