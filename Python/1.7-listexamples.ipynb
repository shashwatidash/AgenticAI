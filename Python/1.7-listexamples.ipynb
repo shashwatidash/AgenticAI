{
 "cells": [
  {
   "cell_type": "markdown",
   "id": "779746c0",
   "metadata": {},
   "source": [
    "### Real World Examples Using Lists in Python\n",
    "\n",
    "Example 1. Manage A To Do List "
   ]
  },
  {
   "cell_type": "code",
   "execution_count": 21,
   "id": "fce52fb0",
   "metadata": {},
   "outputs": [
    {
     "name": "stdout",
     "output_type": "stream",
     "text": [
      "['Buy Grocery', 'Clean house', 'Pay bills', 'Schedule meeting']\n"
     ]
    }
   ],
   "source": [
    "# create a to do to keep track of tasks\n",
    "todo_lst = ['Buy Grocery', 'Clean house', 'Pay bills']\n",
    "# add more\n",
    "todo_lst.append('Schedule meeting')\n",
    "print(todo_lst)"
   ]
  },
  {
   "cell_type": "code",
   "execution_count": null,
   "id": "cdb92531",
   "metadata": {},
   "outputs": [
    {
     "name": "stdout",
     "output_type": "stream",
     "text": [
      "['Buy Grocery', 'Pay bills', 'Schedule meeting']\n"
     ]
    }
   ],
   "source": [
    "# remove a completed task\n",
    "todo_lst.remove('Clean house')\n",
    "print(todo_lst)"
   ]
  },
  {
   "cell_type": "code",
   "execution_count": 12,
   "id": "cda0ad38",
   "metadata": {},
   "outputs": [
    {
     "name": "stdout",
     "output_type": "stream",
     "text": [
      "Don't forget to pay the bill!\n",
      "Remaining tasks :\n",
      "Buy Grocery\n",
      "Pay bills\n",
      "Schedule meeting\n"
     ]
    }
   ],
   "source": [
    "if 'Pay bills' in todo_lst:\n",
    "    print('Don\\'t forget to pay the bill!')\n",
    "\n",
    "print('Remaining tasks :')\n",
    "for task in todo_lst:\n",
    "    print(f'{task}')"
   ]
  },
  {
   "cell_type": "markdown",
   "id": "203a7c1e",
   "metadata": {},
   "source": [
    "Example 2. Organising Student Grades"
   ]
  },
  {
   "cell_type": "code",
   "execution_count": 20,
   "id": "fa6877f5",
   "metadata": {},
   "outputs": [
    {
     "name": "stdout",
     "output_type": "stream",
     "text": [
      "Average Grade: 86.40\n",
      "Highest grade: 99.00\n",
      "Lowest grade: 78.00\n"
     ]
    }
   ],
   "source": [
    "grades = [85, 92, 78, 99]\n",
    "grades.append(78)\n",
    "\n",
    "average = sum(grades) / len(grades)\n",
    "print(f'Average Grade: {average:.2f}')\n",
    "\n",
    "highest = max(grades)\n",
    "lowest = min(grades)\n",
    "print(f'Highest grade: {highest:.2f}')\n",
    "print(f'Lowest grade: {lowest:.2f}')"
   ]
  },
  {
   "cell_type": "markdown",
   "id": "a5e6c25b",
   "metadata": {},
   "source": [
    "Example 3. Managing an Inventory"
   ]
  },
  {
   "cell_type": "code",
   "execution_count": 24,
   "id": "b96bce59",
   "metadata": {},
   "outputs": [
    {
     "name": "stdout",
     "output_type": "stream",
     "text": [
      "['IPhone', 'Ipad', 'Macbook', 'Airpods']\n",
      "IPhone is in stock.\n"
     ]
    }
   ],
   "source": [
    "inventory = ['IPhone', 'Ipad', 'Macbook', 'Airpods']\n",
    "print(inventory)\n",
    "\n",
    "prod = 'IPhone'\n",
    "if prod in inventory:\n",
    "    print(f'{prod} is in stock.')\n",
    "else:\n",
    "    print(f'{prod} is out of stock.')"
   ]
  },
  {
   "cell_type": "code",
   "execution_count": 26,
   "id": "4191369b",
   "metadata": {},
   "outputs": [
    {
     "name": "stdout",
     "output_type": "stream",
     "text": [
      "- IPhone\n",
      "- Ipad\n",
      "- Macbook\n",
      "- Airpods\n"
     ]
    }
   ],
   "source": [
    "for prod in inventory:\n",
    "    print(f'- {prod}')"
   ]
  },
  {
   "cell_type": "markdown",
   "id": "e0098c57",
   "metadata": {},
   "source": [
    "Example 4. Collecting User Feedback"
   ]
  },
  {
   "cell_type": "code",
   "execution_count": 30,
   "id": "cf302b27",
   "metadata": {},
   "outputs": [
    {
     "name": "stdout",
     "output_type": "stream",
     "text": [
      "Positive count: ['Excellent, very happy', 'Happy with purchase']\n"
     ]
    }
   ],
   "source": [
    "# analyze feedback\n",
    "\n",
    "feedback = ['Excellent, very happy', 'Good enough', 'Satisfied', 'Ok', 'Happy with purchase']\n",
    "feedback.append('Awesome experience')\n",
    "\n",
    "positive_feedback_count = [f for f in feedback if 'happy' in f.lower() or 'excellent' in f.lower()]\n",
    "print(f'Positive count: {positive_feedback_count}')"
   ]
  }
 ],
 "metadata": {
  "kernelspec": {
   "display_name": "Python 3",
   "language": "python",
   "name": "python3"
  },
  "language_info": {
   "codemirror_mode": {
    "name": "ipython",
    "version": 3
   },
   "file_extension": ".py",
   "mimetype": "text/x-python",
   "name": "python",
   "nbconvert_exporter": "python",
   "pygments_lexer": "ipython3",
   "version": "3.12.0"
  }
 },
 "nbformat": 4,
 "nbformat_minor": 5
}
