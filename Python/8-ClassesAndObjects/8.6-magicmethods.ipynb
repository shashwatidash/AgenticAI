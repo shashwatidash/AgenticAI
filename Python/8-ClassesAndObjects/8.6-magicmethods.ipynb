{
 "cells": [
  {
   "cell_type": "markdown",
   "id": "3a2e35dd",
   "metadata": {},
   "source": [
    "### Magic Methods\n",
    "\n",
    "Magic methods in Python, also known as dunder methods (double underscore methods), are special methods that start and end with double underscores.\n",
    "These methods enable you to define the behavior of objects for built in operations, such as arithmetic, comparison and more."
   ]
  },
  {
   "cell_type": "markdown",
   "id": "5a65e9bb",
   "metadata": {},
   "source": [
    "Magic methods are predefined methods in Python that you can override to change the behavior of objects. Some of them are:\n",
    "1. __ init__ initialize new instance of class\n",
    "2. __ str__ returns string representation of an object\n",
    "3. __ repr__ returns an official string reprsentation of an object\n",
    "4. __ len__ returns the length of an object\n",
    "5. __ getitem__ gets an item from a container\n",
    "6. __ setitem__ sets an item in a container"
   ]
  },
  {
   "cell_type": "code",
   "execution_count": 1,
   "id": "6c42c371",
   "metadata": {},
   "outputs": [
    {
     "data": {
      "text/plain": [
       "['__class__',\n",
       " '__delattr__',\n",
       " '__dict__',\n",
       " '__dir__',\n",
       " '__doc__',\n",
       " '__eq__',\n",
       " '__format__',\n",
       " '__ge__',\n",
       " '__getattribute__',\n",
       " '__getstate__',\n",
       " '__gt__',\n",
       " '__hash__',\n",
       " '__init__',\n",
       " '__init_subclass__',\n",
       " '__le__',\n",
       " '__lt__',\n",
       " '__module__',\n",
       " '__ne__',\n",
       " '__new__',\n",
       " '__reduce__',\n",
       " '__reduce_ex__',\n",
       " '__repr__',\n",
       " '__setattr__',\n",
       " '__sizeof__',\n",
       " '__str__',\n",
       " '__subclasshook__',\n",
       " '__weakref__']"
      ]
     },
     "execution_count": 1,
     "metadata": {},
     "output_type": "execute_result"
    }
   ],
   "source": [
    "class Person:\n",
    "    pass\n",
    "\n",
    "person = Person()\n",
    "dir(person)"
   ]
  },
  {
   "cell_type": "code",
   "execution_count": 9,
   "id": "e655fd73",
   "metadata": {},
   "outputs": [],
   "source": [
    "class Person:\n",
    "    def __init__(self, name, age):\n",
    "        self.name = name\n",
    "        self.age = age\n",
    "\n",
    "    def __str__(self):\n",
    "        return f'{self.name}, {self.age} years old'\n",
    "\n",
    "    def __repr__(self):\n",
    "        return f'Person has name {self.name}, age {self.age}'\n",
    "\n",
    "person_obj = Person('Shirley', 27)"
   ]
  },
  {
   "cell_type": "code",
   "execution_count": null,
   "id": "2ce7ffbf",
   "metadata": {},
   "outputs": [
    {
     "name": "stdout",
     "output_type": "stream",
     "text": [
      "<__main__.Person object at 0x0000024DEA88E8D0>\n"
     ]
    }
   ],
   "source": [
    "print(person_obj)"
   ]
  },
  {
   "cell_type": "code",
   "execution_count": 7,
   "id": "47068dff",
   "metadata": {},
   "outputs": [
    {
     "name": "stdout",
     "output_type": "stream",
     "text": [
      "Shirley, 27 years old\n"
     ]
    }
   ],
   "source": [
    "print(person_obj)"
   ]
  },
  {
   "cell_type": "code",
   "execution_count": 10,
   "id": "3d686587",
   "metadata": {},
   "outputs": [
    {
     "name": "stdout",
     "output_type": "stream",
     "text": [
      "Person has name Shirley, age 27\n"
     ]
    }
   ],
   "source": [
    "print(repr(person_obj))"
   ]
  }
 ],
 "metadata": {
  "kernelspec": {
   "display_name": "venv",
   "language": "python",
   "name": "python3"
  },
  "language_info": {
   "codemirror_mode": {
    "name": "ipython",
    "version": 3
   },
   "file_extension": ".py",
   "mimetype": "text/x-python",
   "name": "python",
   "nbconvert_exporter": "python",
   "pygments_lexer": "ipython3",
   "version": "3.12.7"
  }
 },
 "nbformat": 4,
 "nbformat_minor": 5
}
