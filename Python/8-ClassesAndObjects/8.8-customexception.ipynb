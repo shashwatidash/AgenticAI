{
 "cells": [
  {
   "cell_type": "markdown",
   "id": "12658db6",
   "metadata": {},
   "source": [
    "### Custom Exception (Raise and Throw)"
   ]
  },
  {
   "cell_type": "code",
   "execution_count": 1,
   "id": "f4598759",
   "metadata": {},
   "outputs": [],
   "source": [
    "class Error(Exception):\n",
    "    pass\n",
    "\n",
    "class dobException(Exception):\n",
    "    pass"
   ]
  },
  {
   "cell_type": "code",
   "execution_count": 2,
   "id": "c812e7f9",
   "metadata": {},
   "outputs": [
    {
     "name": "stdout",
     "output_type": "stream",
     "text": [
      "You're not eligible\n"
     ]
    }
   ],
   "source": [
    "year = int(input(\"Enter dob year\"))\n",
    "age = 2024 - year\n",
    "try:\n",
    "    if age <= 30 and age >= 20:\n",
    "        print('The age is valid, you\\'re eligible to apply')\n",
    "    else:\n",
    "        raise dobException\n",
    "except dobException:\n",
    "    print('You\\'re not eligible')\n"
   ]
  }
 ],
 "metadata": {
  "kernelspec": {
   "display_name": ".venv",
   "language": "python",
   "name": "python3"
  },
  "language_info": {
   "codemirror_mode": {
    "name": "ipython",
    "version": 3
   },
   "file_extension": ".py",
   "mimetype": "text/x-python",
   "name": "python",
   "nbconvert_exporter": "python",
   "pygments_lexer": "ipython3",
   "version": "3.12.7"
  }
 },
 "nbformat": 4,
 "nbformat_minor": 5
}
