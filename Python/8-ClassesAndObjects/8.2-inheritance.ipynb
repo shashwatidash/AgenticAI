{
 "cells": [
  {
   "cell_type": "markdown",
   "id": "9c8070db",
   "metadata": {},
   "source": [
    "### Inheritance in Python\n",
    "Inheritance is a fundamental concept in OOP that allows to inherit attributes and methods from another class.\n",
    "\n",
    "1. Single Inheritance\n",
    "2. Multiple Inheritance\n"
   ]
  },
  {
   "cell_type": "code",
   "execution_count": null,
   "id": "7d4cb58c",
   "metadata": {},
   "outputs": [
    {
     "name": "stdout",
     "output_type": "stream",
     "text": [
      "The person will drive the Petrol car\n"
     ]
    }
   ],
   "source": [
    "# Parent class\n",
    "class Car:\n",
    "    def __init__(self, engine_type, seats):\n",
    "        self.engine_type = engine_type\n",
    "        self.seats = seats\n",
    "    \n",
    "    def drive(self):\n",
    "        print(f'The person will drive the {self.engine_type} car')\n",
    "\n",
    "car = Car('Petrol', 4)\n",
    "car.drive()"
   ]
  },
  {
   "cell_type": "code",
   "execution_count": 2,
   "id": "c60a890d",
   "metadata": {},
   "outputs": [],
   "source": [
    "# Child class\n",
    "class Tesla(Car):\n",
    "    def __init__(self, engine_type, seats, has_self_drive):\n",
    "        super().__init__(engine_type, seats)\n",
    "        self.has_self_drive = has_self_drive\n",
    "\n",
    "    def self_drive(self):\n",
    "        if (self.has_self_drive):\n",
    "            print('This Tesla supports self driving')\n",
    "        else:\n",
    "            print('This Tesla does not supports self driving')"
   ]
  },
  {
   "cell_type": "code",
   "execution_count": 4,
   "id": "a006889c",
   "metadata": {},
   "outputs": [
    {
     "name": "stdout",
     "output_type": "stream",
     "text": [
      "This Tesla supports self driving\n",
      "The person will drive the Petrol car\n"
     ]
    }
   ],
   "source": [
    "tesla = Tesla('Petrol', 2, True)\n",
    "tesla.self_drive()\n",
    "tesla.drive()"
   ]
  },
  {
   "cell_type": "markdown",
   "id": "f6b90f89",
   "metadata": {},
   "source": [
    "### Multiple Inheritance\n",
    "When a class inherits from more than one base class."
   ]
  },
  {
   "cell_type": "code",
   "execution_count": 5,
   "id": "d97cb587",
   "metadata": {},
   "outputs": [],
   "source": [
    "class Animal:\n",
    "    def __init__(self, name):\n",
    "        self.name = name\n",
    "    def speak(self):\n",
    "        print('subclasses should implement this method')\n",
    "\n",
    "class Pet:\n",
    "    def __init__(self, owner):\n",
    "        self.owner = owner\n",
    "\n",
    "class Cat(Animal, Pet):\n",
    "    def __init__(self, name, owner):\n",
    "        # mutliple base class - super call syntax\n",
    "\n",
    "        Animal.__init__(self, name)\n",
    "        Pet.__init__(self, owner)\n",
    "\n",
    "    def speak(self):\n",
    "        print(f'{self.name} says Meow!')"
   ]
  },
  {
   "cell_type": "code",
   "execution_count": 7,
   "id": "ce96ad25",
   "metadata": {},
   "outputs": [
    {
     "name": "stdout",
     "output_type": "stream",
     "text": [
      "Emma says Hie!\n",
      "Kristen says Meow!\n"
     ]
    }
   ],
   "source": [
    "cat = Cat('Kristen', 'Emma')\n",
    "print(f'{cat.owner} says Hie!')\n",
    "cat.speak()"
   ]
  }
 ],
 "metadata": {
  "kernelspec": {
   "display_name": "venv",
   "language": "python",
   "name": "python3"
  },
  "language_info": {
   "codemirror_mode": {
    "name": "ipython",
    "version": 3
   },
   "file_extension": ".py",
   "mimetype": "text/x-python",
   "name": "python",
   "nbconvert_exporter": "python",
   "pygments_lexer": "ipython3",
   "version": "3.12.7"
  }
 },
 "nbformat": 4,
 "nbformat_minor": 5
}
