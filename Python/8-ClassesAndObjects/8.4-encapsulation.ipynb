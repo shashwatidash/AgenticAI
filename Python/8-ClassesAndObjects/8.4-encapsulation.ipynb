{
 "cells": [
  {
   "cell_type": "markdown",
   "id": "4e96bae5",
   "metadata": {},
   "source": [
    "### Encapsulation\n",
    "\n",
    "It involves bundling data (variables) and methods (functions) together as a single unit. It restricts direct access to some of the object's components, which means interference and misuse of data.\n",
    "Uses Private, Protected and Public variables.\n",
    "\n",
    "### Abstraction\n",
    "\n",
    "This refers to hiding comples implementation details and exposing only necessary features."
   ]
  },
  {
   "cell_type": "code",
   "execution_count": 1,
   "id": "2f2cd7f8",
   "metadata": {},
   "outputs": [],
   "source": [
    "# Getter and Setter methods\n",
    "\n",
    "class Person:\n",
    "    def __init__(self, name, age):\n",
    "        self.name = name    # public variable\n",
    "        self.age = age\n",
    "\n",
    "person = Person('Kristen', 25)"
   ]
  },
  {
   "cell_type": "code",
   "execution_count": 2,
   "id": "d774e4d9",
   "metadata": {},
   "outputs": [
    {
     "name": "stdout",
     "output_type": "stream",
     "text": [
      "25\n"
     ]
    }
   ],
   "source": [
    "print(person.age)"
   ]
  },
  {
   "cell_type": "code",
   "execution_count": 3,
   "id": "5912d905",
   "metadata": {},
   "outputs": [
    {
     "data": {
      "text/plain": [
       "['__class__',\n",
       " '__delattr__',\n",
       " '__dict__',\n",
       " '__dir__',\n",
       " '__doc__',\n",
       " '__eq__',\n",
       " '__format__',\n",
       " '__ge__',\n",
       " '__getattribute__',\n",
       " '__getstate__',\n",
       " '__gt__',\n",
       " '__hash__',\n",
       " '__init__',\n",
       " '__init_subclass__',\n",
       " '__le__',\n",
       " '__lt__',\n",
       " '__module__',\n",
       " '__ne__',\n",
       " '__new__',\n",
       " '__reduce__',\n",
       " '__reduce_ex__',\n",
       " '__repr__',\n",
       " '__setattr__',\n",
       " '__sizeof__',\n",
       " '__str__',\n",
       " '__subclasshook__',\n",
       " '__weakref__',\n",
       " 'age',\n",
       " 'name']"
      ]
     },
     "execution_count": 3,
     "metadata": {},
     "output_type": "execute_result"
    }
   ],
   "source": [
    "dir(person)"
   ]
  },
  {
   "cell_type": "code",
   "execution_count": 16,
   "id": "9ac3254b",
   "metadata": {},
   "outputs": [
    {
     "name": "stdout",
     "output_type": "stream",
     "text": [
      "Kristen\n"
     ]
    }
   ],
   "source": [
    "def get_name(person):\n",
    "    return person.name\n",
    "print(get_name(person))"
   ]
  },
  {
   "cell_type": "code",
   "execution_count": 29,
   "id": "360b4cd5",
   "metadata": {},
   "outputs": [],
   "source": [
    "class Human:\n",
    "    def __init__(self, name, age, gender):\n",
    "        self._name = name    # protected variable\n",
    "        self.__age = age      # private variable\n",
    "        self.gender = gender\n",
    "\n",
    "    def set_name(self, name):\n",
    "        self._name = name"
   ]
  },
  {
   "cell_type": "code",
   "execution_count": 30,
   "id": "7c7eec1d",
   "metadata": {},
   "outputs": [],
   "source": [
    "human = Human('Daniel', 40, 'M')"
   ]
  },
  {
   "cell_type": "code",
   "execution_count": 15,
   "id": "13b19c2e",
   "metadata": {},
   "outputs": [
    {
     "data": {
      "text/plain": [
       "['_Human__age',\n",
       " '__class__',\n",
       " '__delattr__',\n",
       " '__dict__',\n",
       " '__dir__',\n",
       " '__doc__',\n",
       " '__eq__',\n",
       " '__format__',\n",
       " '__ge__',\n",
       " '__getattribute__',\n",
       " '__getstate__',\n",
       " '__gt__',\n",
       " '__hash__',\n",
       " '__init__',\n",
       " '__init_subclass__',\n",
       " '__le__',\n",
       " '__lt__',\n",
       " '__module__',\n",
       " '__ne__',\n",
       " '__new__',\n",
       " '__reduce__',\n",
       " '__reduce_ex__',\n",
       " '__repr__',\n",
       " '__setattr__',\n",
       " '__sizeof__',\n",
       " '__str__',\n",
       " '__subclasshook__',\n",
       " '__weakref__',\n",
       " '_name',\n",
       " 'gender']"
      ]
     },
     "execution_count": 15,
     "metadata": {},
     "output_type": "execute_result"
    }
   ],
   "source": [
    "dir(human)"
   ]
  },
  {
   "cell_type": "code",
   "execution_count": 17,
   "id": "503a7a57",
   "metadata": {},
   "outputs": [],
   "source": [
    "def get_age(human):\n",
    "    return human.__age\n",
    "\n",
    "# AttributeError: 'Human' object has no attribute '__age'\n",
    "# get_age(human)"
   ]
  },
  {
   "cell_type": "code",
   "execution_count": 27,
   "id": "ca67c725",
   "metadata": {},
   "outputs": [],
   "source": [
    "class Employee(Human):\n",
    "    def __init__(self, name, age, gender, emp_id):\n",
    "        super().__init__(name, age, gender)\n",
    "        self.__emp_id = emp_id\n",
    "\n",
    "    def get_empid(self):\n",
    "        return self.__emp_id\n",
    "        \n",
    "employee = Employee('Rick', 35, 'M', 52001)\n"
   ]
  },
  {
   "cell_type": "code",
   "execution_count": null,
   "id": "5e372abf",
   "metadata": {},
   "outputs": [
    {
     "name": "stdout",
     "output_type": "stream",
     "text": [
      "Rick\n",
      "52001\n"
     ]
    }
   ],
   "source": [
    "print(employee._name)\n",
    "print(employee.get_empid())"
   ]
  },
  {
   "cell_type": "code",
   "execution_count": 31,
   "id": "962bef12",
   "metadata": {},
   "outputs": [
    {
     "name": "stdout",
     "output_type": "stream",
     "text": [
      "Garry\n"
     ]
    }
   ],
   "source": [
    "human.set_name('Garry')\n",
    "print(human._name)"
   ]
  },
  {
   "cell_type": "code",
   "execution_count": null,
   "id": "56d5f7c2",
   "metadata": {},
   "outputs": [],
   "source": []
  }
 ],
 "metadata": {
  "kernelspec": {
   "display_name": "venv",
   "language": "python",
   "name": "python3"
  },
  "language_info": {
   "codemirror_mode": {
    "name": "ipython",
    "version": 3
   },
   "file_extension": ".py",
   "mimetype": "text/x-python",
   "name": "python",
   "nbconvert_exporter": "python",
   "pygments_lexer": "ipython3",
   "version": "3.12.7"
  }
 },
 "nbformat": 4,
 "nbformat_minor": 5
}
