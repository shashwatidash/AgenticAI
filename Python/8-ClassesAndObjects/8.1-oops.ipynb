{
 "cells": [
  {
   "cell_type": "markdown",
   "id": "16456334",
   "metadata": {},
   "source": [
    "### Classes and Objects\n",
    "\n",
    "Object Oriented Programming (OOP) is a programming paradigm that uses objects to design applications and programs. OOP allows for modelling real-world scenarios using classes and objects\n",
    "### Overview\n",
    "1. Classes and objects\n",
    "2. Instance variables and methods."
   ]
  },
  {
   "cell_type": "markdown",
   "id": "14a31331",
   "metadata": {},
   "source": [
    "Class is a blueprint for creating objects with attributes and methods."
   ]
  },
  {
   "cell_type": "code",
   "execution_count": 1,
   "id": "1de275a1",
   "metadata": {},
   "outputs": [
    {
     "name": "stdout",
     "output_type": "stream",
     "text": [
      "<class '__main__.Car'>\n"
     ]
    }
   ],
   "source": [
    "class Car:\n",
    "    pass\n",
    "\n",
    "benz = Car()\n",
    "bmw = Car()\n",
    "\n",
    "print(type(bmw))"
   ]
  },
  {
   "cell_type": "code",
   "execution_count": 2,
   "id": "0c3b4ad8",
   "metadata": {},
   "outputs": [
    {
     "name": "stdout",
     "output_type": "stream",
     "text": [
      "<__main__.Car object at 0x0000017123B9BEF0>\n"
     ]
    }
   ],
   "source": [
    "print(bmw)"
   ]
  },
  {
   "cell_type": "code",
   "execution_count": null,
   "id": "af56538c",
   "metadata": {},
   "outputs": [
    {
     "name": "stdout",
     "output_type": "stream",
     "text": [
      "Charlie\n",
      "25\n"
     ]
    }
   ],
   "source": [
    "# instance variables\n",
    "class Human:\n",
    "    # constructor\n",
    "    def __init__(self, name, age):\n",
    "        self.name = name\n",
    "        self.age = age\n",
    "\n",
    "# create object\n",
    "human_obj = Human('Charlie', 25)\n",
    "print(human_obj.name)\n",
    "print(human_obj.age)"
   ]
  },
  {
   "cell_type": "code",
   "execution_count": 10,
   "id": "9e4fd1f7",
   "metadata": {},
   "outputs": [
    {
     "name": "stdout",
     "output_type": "stream",
     "text": [
      "Shashwati wishes you Good Luck!\n"
     ]
    }
   ],
   "source": [
    "# class with instance methods\n",
    "\n",
    "class Human:\n",
    "    def __init__(self, name, age=25):\n",
    "        self.name = name\n",
    "        self.age = age\n",
    "    \n",
    "    def greet(self):\n",
    "        print(f'{self.name} wishes you Good Luck!')\n",
    "\n",
    "human_object = Human('Shashwati')\n",
    "human_object.greet()"
   ]
  },
  {
   "cell_type": "code",
   "execution_count": 11,
   "id": "21a00208",
   "metadata": {},
   "outputs": [],
   "source": [
    "# Modelling a Bank Account Class\n",
    "class BankAccount:\n",
    "    def __init__(self, owner, balance=0.0):\n",
    "        self.owner = owner\n",
    "        self.balance = balance\n",
    "    \n",
    "    def deposit(self, amount):\n",
    "        self.balance += amount\n",
    "        print(f'Amount is deposited successfully. New balance is {self.balance}')\n",
    "\n",
    "    def withdraw(self, amount):\n",
    "        if amount > self.balance:\n",
    "            print('Insufficient funds.')\n",
    "        else:\n",
    "            self.balance -= amount\n",
    "            print(f'Amount is withdrawn successfully. New balance is {self.balance}')\n",
    "    \n",
    "    def getBalance(self):\n",
    "        return self.balance"
   ]
  },
  {
   "cell_type": "code",
   "execution_count": 13,
   "id": "71398ecf",
   "metadata": {},
   "outputs": [
    {
     "name": "stdout",
     "output_type": "stream",
     "text": [
      "Initial Balance - 15000\n",
      "Amount is deposited successfully. New balance is 40000\n"
     ]
    }
   ],
   "source": [
    "# create an account\n",
    "bank_acc = BankAccount('Daniel', 15000)\n",
    "print(f'Initial Balance - {bank_acc.getBalance()}')\n",
    "\n",
    "bank_acc.deposit(25000)\n"
   ]
  },
  {
   "cell_type": "code",
   "execution_count": 14,
   "id": "f34cdf15",
   "metadata": {},
   "outputs": [
    {
     "name": "stdout",
     "output_type": "stream",
     "text": [
      "Amount is withdrawn successfully. New balance is 15000\n"
     ]
    }
   ],
   "source": [
    "bank_acc.withdraw(25000)"
   ]
  }
 ],
 "metadata": {
  "kernelspec": {
   "display_name": "venv",
   "language": "python",
   "name": "python3"
  },
  "language_info": {
   "codemirror_mode": {
    "name": "ipython",
    "version": 3
   },
   "file_extension": ".py",
   "mimetype": "text/x-python",
   "name": "python",
   "nbconvert_exporter": "python",
   "pygments_lexer": "ipython3",
   "version": "3.12.7"
  }
 },
 "nbformat": 4,
 "nbformat_minor": 5
}
