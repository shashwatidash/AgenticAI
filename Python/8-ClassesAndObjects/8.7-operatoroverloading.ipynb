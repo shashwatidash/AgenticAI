{
 "cells": [
  {
   "cell_type": "markdown",
   "id": "f099f519",
   "metadata": {},
   "source": [
    "### Operator Overloading\n",
    "\n",
    "Allows you to define the behavior of operators (+, -, *, etc.) for custom objects. This can be achived by overriding specific magic methods in your methods in your class."
   ]
  },
  {
   "cell_type": "code",
   "execution_count": 1,
   "id": "1934e0a1",
   "metadata": {},
   "outputs": [
    {
     "data": {
      "text/plain": [
       "'\\n__add__ (self, other)\\n__sub__ (self, other)\\n__mul__ (self, other)\\n__truediv__ (self, other)\\n__eq__ (self, other)\\n__lt__ (self, other)\\n'"
      ]
     },
     "execution_count": 1,
     "metadata": {},
     "output_type": "execute_result"
    }
   ],
   "source": [
    "# Common operator overloading magic methods\n",
    "'''\n",
    "__add__ (self, other)\n",
    "__sub__ (self, other)\n",
    "__mul__ (self, other)\n",
    "__truediv__ (self, other)\n",
    "__eq__ (self, other)\n",
    "__lt__ (self, other)\n",
    "'''"
   ]
  },
  {
   "cell_type": "code",
   "execution_count": 2,
   "id": "c457efe2",
   "metadata": {},
   "outputs": [],
   "source": [
    "class Vector:\n",
    "    def __init__(self, x, y):\n",
    "        self.x = x\n",
    "        self.y = y\n",
    "\n",
    "    def __add__(self, other):\n",
    "        return Vector(self.x + other.x, self.y + other.y)\n",
    "    def __sub__(self, other):\n",
    "        return Vector(self.x - other.x, self.y - other.y)\n",
    "    def __mul__(self, other):\n",
    "        return Vector(self.x * other.x, self.y * other.y)\n",
    "    def __eq__(self, other):\n",
    "        return Vector(self.x == other.x, self.y == other.y)\n",
    "    \n",
    "    def __repr__(self):\n",
    "        return f\"Vector ({self.x}, {self.y})\""
   ]
  },
  {
   "cell_type": "code",
   "execution_count": 3,
   "id": "f93c422d",
   "metadata": {},
   "outputs": [],
   "source": [
    "v1 = Vector(2, 3)\n",
    "v2 = Vector(4, 5)"
   ]
  },
  {
   "cell_type": "code",
   "execution_count": 4,
   "id": "74a29c60",
   "metadata": {},
   "outputs": [
    {
     "name": "stdout",
     "output_type": "stream",
     "text": [
      "Vector (6, 8)\n"
     ]
    }
   ],
   "source": [
    "print(v1 + v2)"
   ]
  },
  {
   "cell_type": "code",
   "execution_count": 5,
   "id": "f36c014d",
   "metadata": {},
   "outputs": [
    {
     "name": "stdout",
     "output_type": "stream",
     "text": [
      "Vector (8, 15)\n"
     ]
    }
   ],
   "source": [
    "print(v1 * v2)"
   ]
  },
  {
   "cell_type": "code",
   "execution_count": 9,
   "id": "b82e1ee7",
   "metadata": {},
   "outputs": [],
   "source": [
    "class ComplexNumber:\n",
    "    def __init__(self, real, imag):\n",
    "        self.real = real\n",
    "        self.imag = imag\n",
    "    def __add__(self, other):\n",
    "        return ComplexNumber(self.real + other.real, self.imag + other.imag)\n",
    "    \n",
    "    def __sub__(self, other):\n",
    "        return ComplexNumber(self.real - other.real, self.imag - other.imag)\n",
    "    \n",
    "    def __mul__(self, other):\n",
    "        real_part = self.real * other.real - self.imag * other.imag\n",
    "        imag_part = self.real * other.real + self.imag * other.imag\n",
    "        return ComplexNumber(real_part, imag_part)\n",
    "    \n",
    "    def __truediv__(self, other):\n",
    "        denominator = other.real ** 2 + other.imag ** 2\n",
    "        real_part = (self.real * other.real + self.imag * other.imag) / denominator\n",
    "        imag_part = (self.real * other.real - self.imag * other.imag) / denominator\n",
    "        return ComplexNumber(real_part, imag_part)\n",
    "    \n",
    "    def __eq__(self, other):\n",
    "        return self.real == other.real and self.imag == other.imag\n",
    "    \n",
    "    def __repr__(self):\n",
    "        return f\"{self.real} + {self.imag}i\""
   ]
  },
  {
   "cell_type": "code",
   "execution_count": 10,
   "id": "2ad72296",
   "metadata": {},
   "outputs": [],
   "source": [
    "c1 = ComplexNumber(2, 3)\n",
    "c2 = ComplexNumber(4, 5)"
   ]
  },
  {
   "cell_type": "code",
   "execution_count": 12,
   "id": "9e4d6499",
   "metadata": {},
   "outputs": [
    {
     "name": "stdout",
     "output_type": "stream",
     "text": [
      "Addition result : 6 + 8i\n",
      "Subtraction result : -2 + -2i\n",
      "Multiplication result : -7 + 23i\n",
      "Division result : 0.5609756097560976 + -0.17073170731707318i\n",
      "Equality result : False\n"
     ]
    }
   ],
   "source": [
    "print(f'Addition result : {c1 + c2}')\n",
    "print(f'Subtraction result : {c1 - c2}')\n",
    "print(f'Multiplication result : {c1 * c2}')\n",
    "print(f'Division result : {c1 / c2}')\n",
    "print(f'Equality result : {c1 == c2}')"
   ]
  }
 ],
 "metadata": {
  "kernelspec": {
   "display_name": "venv",
   "language": "python",
   "name": "python3"
  },
  "language_info": {
   "codemirror_mode": {
    "name": "ipython",
    "version": 3
   },
   "file_extension": ".py",
   "mimetype": "text/x-python",
   "name": "python",
   "nbconvert_exporter": "python",
   "pygments_lexer": "ipython3",
   "version": "3.12.7"
  }
 },
 "nbformat": 4,
 "nbformat_minor": 5
}
