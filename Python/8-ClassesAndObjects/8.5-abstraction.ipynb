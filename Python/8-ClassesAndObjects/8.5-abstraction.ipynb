{
 "cells": [
  {
   "cell_type": "markdown",
   "id": "4957e361",
   "metadata": {},
   "source": [
    "### Abstraction\n",
    "\n",
    "It is the concept of hiding complex implementation details, and showing onlt the necessary features of an object."
   ]
  },
  {
   "cell_type": "code",
   "execution_count": 1,
   "id": "5d4fdca2",
   "metadata": {},
   "outputs": [
    {
     "name": "stdout",
     "output_type": "stream",
     "text": [
      "Car engine has started\n",
      "Drive method in Vehicle class\n"
     ]
    }
   ],
   "source": [
    "from abc import ABC, abstractmethod\n",
    "\n",
    "# abstract base class\n",
    "class Vehicle(ABC):\n",
    "    def drive(self):\n",
    "        print('Drive method in Vehicle class')\n",
    "    \n",
    "    @abstractmethod\n",
    "    def start_engine(self):\n",
    "        pass\n",
    "\n",
    "class Car(Vehicle):\n",
    "    def start_engine(self):\n",
    "        print('Car engine has started')\n",
    "\n",
    "def operate_vehicle(vehicle):\n",
    "    vehicle.start_engine()\n",
    "    vehicle.drive()\n",
    "\n",
    "car = Car()\n",
    "operate_vehicle(car)"
   ]
  }
 ],
 "metadata": {
  "kernelspec": {
   "display_name": "venv",
   "language": "python",
   "name": "python3"
  },
  "language_info": {
   "codemirror_mode": {
    "name": "ipython",
    "version": 3
   },
   "file_extension": ".py",
   "mimetype": "text/x-python",
   "name": "python",
   "nbconvert_exporter": "python",
   "pygments_lexer": "ipython3",
   "version": "3.12.7"
  }
 },
 "nbformat": 4,
 "nbformat_minor": 5
}
