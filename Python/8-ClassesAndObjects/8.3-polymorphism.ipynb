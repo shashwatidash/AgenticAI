{
 "cells": [
  {
   "cell_type": "markdown",
   "id": "200c7618",
   "metadata": {},
   "source": [
    "### Polymorphism\n",
    "\n",
    "Polymorphism allows objects of different classes to be treated as objects of a common class. It refers to the ability of performing single action in many forms.\n",
    "This is achieved by method overriding and interfaces, providing extensbility and maintenance. "
   ]
  },
  {
   "cell_type": "markdown",
   "id": "bdebb337",
   "metadata": {},
   "source": [
    "#### Method Overriding\n",
    "Allows a child to provide a specific implementation of a method that is already present in the base class or parent class."
   ]
  },
  {
   "cell_type": "code",
   "execution_count": 21,
   "id": "4be71177",
   "metadata": {},
   "outputs": [],
   "source": [
    "class Animal:\n",
    "    def __init__(self, name):\n",
    "        self.name = name\n",
    "    def speak(self):\n",
    "        print(f'{self.name} makes noise!')\n",
    "\n",
    "class Cat(Animal):\n",
    "    def ___init___(self, name):\n",
    "        super().__init__(name)\n",
    "\n",
    "    def speak(self):\n",
    "        print(f'{self.name} says Meeeowwww!')\n",
    "\n",
    "class Lion(Animal):\n",
    "    def ___init___(self, name):\n",
    "        super().__init__(name)\n",
    "\n",
    "    def speak(self):\n",
    "        print(f'{self.name} says Grraaauuuu!')"
   ]
  },
  {
   "cell_type": "code",
   "execution_count": 22,
   "id": "771ca3ad",
   "metadata": {},
   "outputs": [
    {
     "name": "stdout",
     "output_type": "stream",
     "text": [
      "Kristen says Meeeowwww!\n",
      "Buddy says Grraaauuuu!\n"
     ]
    }
   ],
   "source": [
    "cat = Cat('Kristen')\n",
    "lion = Lion('Buddy')\n",
    "cat.speak()\n",
    "lion.speak()"
   ]
  },
  {
   "cell_type": "markdown",
   "id": "a98fd8fc",
   "metadata": {},
   "source": [
    "Polymorphism using Function and Methods"
   ]
  },
  {
   "cell_type": "code",
   "execution_count": 38,
   "id": "5bceb65f",
   "metadata": {},
   "outputs": [],
   "source": [
    "# use same function names but pass different child objects as parameter\n",
    "class Order:\n",
    "    def __init__(self, prod_list):\n",
    "        self.prod_list = prod_list\n",
    "\n",
    "    def total(self, prod_list):\n",
    "        return sum(prod_list)\n",
    "\n",
    "class NykaaOrder(Order):\n",
    "    def __init__(self, prod_list, qty):\n",
    "        super().__init__(prod_list)\n",
    "        self.qty = qty\n",
    "    \n",
    "    def get_summary(self):\n",
    "        print(f'Nykaa product list has {self.qty} items with total price of {self.total(self.prod_list)}')\n",
    "\n",
    "class MyntraOrder(Order):\n",
    "    def __init__(self, prod_list, qty):\n",
    "        super().__init__(prod_list)\n",
    "        self.qty = qty\n",
    "    \n",
    "    def get_summary(self):\n",
    "        print(f'Myntra product list has {self.qty} items with total price of {self.total(self.prod_list)}')\n",
    "\n",
    "def print_summary(order):\n",
    "    order.get_summary()\n",
    "            "
   ]
  },
  {
   "cell_type": "code",
   "execution_count": 40,
   "id": "3d0691c8",
   "metadata": {},
   "outputs": [
    {
     "name": "stdout",
     "output_type": "stream",
     "text": [
      "Myntra product list has 2 items with total price of 7999\n",
      "Nykaa product list has 4 items with total price of 3397\n"
     ]
    }
   ],
   "source": [
    "m_order = MyntraOrder([5999, 2000], 2)\n",
    "n_order = NykaaOrder([599, 699, 899, 1200], 4)\n",
    "\n",
    "print_summary(m_order)\n",
    "print_summary(n_order)"
   ]
  },
  {
   "cell_type": "markdown",
   "id": "c73689e8",
   "metadata": {},
   "source": [
    "### Abstract Base Class - Interfaces\n",
    "\n",
    "Used to define common method for a group of related objects. Abstract base class can enforce that derived classes implement particular methods, promoting consistency across different implementations."
   ]
  },
  {
   "cell_type": "code",
   "execution_count": 41,
   "id": "c90501d0",
   "metadata": {},
   "outputs": [],
   "source": [
    "from abc import ABC, abstractmethod"
   ]
  },
  {
   "cell_type": "code",
   "execution_count": 42,
   "id": "80605593",
   "metadata": {},
   "outputs": [],
   "source": [
    "class DeliveryPartner(ABC):\n",
    "    @abstractmethod \n",
    "    def deliver_order(self):\n",
    "        pass"
   ]
  },
  {
   "cell_type": "code",
   "execution_count": 43,
   "id": "6810d0cc",
   "metadata": {},
   "outputs": [],
   "source": [
    "class Zomato(DeliveryPartner):\n",
    "    def deliver_order(self):\n",
    "        return 'Your Delivery Partner is Zomato'\n",
    "\n",
    "class Swiggy(DeliveryPartner):\n",
    "    def deliver_order(self):\n",
    "        return 'Your Delivery Partner is Swiggy'"
   ]
  },
  {
   "cell_type": "code",
   "execution_count": 45,
   "id": "3ea73530",
   "metadata": {},
   "outputs": [
    {
     "name": "stdout",
     "output_type": "stream",
     "text": [
      "Your Delivery Partner is Zomato\n"
     ]
    }
   ],
   "source": [
    "def manage_delivery(delivery_partner):\n",
    "    print(delivery_partner.deliver_order())\n",
    "\n",
    "zomato = Zomato()\n",
    "swiggy = Swiggy()\n",
    "\n",
    "manage_delivery(zomato)"
   ]
  }
 ],
 "metadata": {
  "kernelspec": {
   "display_name": "venv",
   "language": "python",
   "name": "python3"
  },
  "language_info": {
   "codemirror_mode": {
    "name": "ipython",
    "version": 3
   },
   "file_extension": ".py",
   "mimetype": "text/x-python",
   "name": "python",
   "nbconvert_exporter": "python",
   "pygments_lexer": "ipython3",
   "version": "3.12.7"
  }
 },
 "nbformat": 4,
 "nbformat_minor": 5
}
