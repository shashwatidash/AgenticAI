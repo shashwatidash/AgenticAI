{
 "cells": [
  {
   "cell_type": "markdown",
   "id": "b1fc55f0",
   "metadata": {},
   "source": [
    "### Logging with Multiple Loggers"
   ]
  },
  {
   "cell_type": "code",
   "execution_count": 1,
   "id": "e9274179",
   "metadata": {},
   "outputs": [],
   "source": [
    "import logging"
   ]
  },
  {
   "cell_type": "code",
   "execution_count": 2,
   "id": "05b827e7",
   "metadata": {},
   "outputs": [],
   "source": [
    "logger1 = logging.getLogger('module1')\n",
    "logger1.setLevel(logging.DEBUG)\n",
    "\n",
    "logger2 = logging.getLogger('module2')\n",
    "logger2.setLevel(logging.WARNING)\n",
    "\n",
    "logging.basicConfig(\n",
    "    level = logging.DEBUG,\n",
    "    format = '%(asctime)s-%(name)s-%(levelname)s-%(message)s',\n",
    "    datefmt = '%Y-%m-%d %H:%M:%S'\n",
    ")"
   ]
  },
  {
   "cell_type": "code",
   "execution_count": 3,
   "id": "1354d261",
   "metadata": {},
   "outputs": [
    {
     "name": "stderr",
     "output_type": "stream",
     "text": [
      "2025-07-17 22:34:23-module1-DEBUG-In DEBUG mode\n"
     ]
    }
   ],
   "source": [
    "logger1.debug(\"In DEBUG mode\")"
   ]
  },
  {
   "cell_type": "code",
   "execution_count": 4,
   "id": "e0a18719",
   "metadata": {},
   "outputs": [
    {
     "name": "stderr",
     "output_type": "stream",
     "text": [
      "2025-07-17 22:34:52-module2-WARNING-In WARNING mode\n"
     ]
    }
   ],
   "source": [
    "logger2.warning(\"In WARNING mode\")"
   ]
  },
  {
   "cell_type": "code",
   "execution_count": 5,
   "id": "8125b77a",
   "metadata": {},
   "outputs": [
    {
     "name": "stderr",
     "output_type": "stream",
     "text": [
      "2025-07-17 22:35:13-module2-ERROR-In ERROR mode\n"
     ]
    }
   ],
   "source": [
    "logger2.error(\"In ERROR mode\")"
   ]
  }
 ],
 "metadata": {
  "kernelspec": {
   "display_name": "venv",
   "language": "python",
   "name": "python3"
  },
  "language_info": {
   "codemirror_mode": {
    "name": "ipython",
    "version": 3
   },
   "file_extension": ".py",
   "mimetype": "text/x-python",
   "name": "python",
   "nbconvert_exporter": "python",
   "pygments_lexer": "ipython3",
   "version": "3.12.7"
  }
 },
 "nbformat": 4,
 "nbformat_minor": 5
}
