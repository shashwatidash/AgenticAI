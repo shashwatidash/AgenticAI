{
 "cells": [
  {
   "cell_type": "markdown",
   "id": "66cbb53d",
   "metadata": {},
   "source": [
    "### Logging In Python\n",
    "\n",
    "Built-in logging module for emitting log messages in Python"
   ]
  },
  {
   "cell_type": "code",
   "execution_count": 1,
   "id": "d3e88ff3",
   "metadata": {},
   "outputs": [],
   "source": [
    "import logging"
   ]
  },
  {
   "cell_type": "markdown",
   "id": "fc2c1b00",
   "metadata": {},
   "source": [
    "Configure the basic Logging Settings"
   ]
  },
  {
   "cell_type": "code",
   "execution_count": null,
   "id": "4d2b900e",
   "metadata": {},
   "outputs": [],
   "source": [
    "logging.basicConfig(level = logging.INFO)"
   ]
  },
  {
   "cell_type": "code",
   "execution_count": 4,
   "id": "51ec3af9",
   "metadata": {},
   "outputs": [
    {
     "name": "stderr",
     "output_type": "stream",
     "text": [
      "INFO:root:This is INFO message\n"
     ]
    }
   ],
   "source": [
    "logging.info(\"This is INFO message\")\n",
    "logging.debug(\"This is DEBUG message\")"
   ]
  },
  {
   "cell_type": "code",
   "execution_count": 5,
   "id": "87cd0bcb",
   "metadata": {},
   "outputs": [
    {
     "name": "stderr",
     "output_type": "stream",
     "text": [
      "WARNING:root:This is WARNING message\n"
     ]
    }
   ],
   "source": [
    "logging.warning(\"This is WARNING message\")"
   ]
  },
  {
   "cell_type": "code",
   "execution_count": 6,
   "id": "b2bae4ef",
   "metadata": {},
   "outputs": [
    {
     "name": "stderr",
     "output_type": "stream",
     "text": [
      "ERROR:root:This is ERROR message\n"
     ]
    }
   ],
   "source": [
    "logging.error(\"This is ERROR message\")"
   ]
  },
  {
   "cell_type": "code",
   "execution_count": 7,
   "id": "e4fd1b55",
   "metadata": {},
   "outputs": [
    {
     "name": "stderr",
     "output_type": "stream",
     "text": [
      "CRITICAL:root:This is CRITICAL message\n"
     ]
    }
   ],
   "source": [
    "logging.critical(\"This is CRITICAL message\")"
   ]
  },
  {
   "cell_type": "markdown",
   "id": "7c43243c",
   "metadata": {},
   "source": [
    "### Log Levels\n",
    "\n",
    "Log levels indicates the severity of events. The default events are:\n",
    "1. DEBUG\n",
    "2. INFO\n",
    "3. ERROR\n",
    "4. WARNING\n",
    "5. CRITICAL"
   ]
  },
  {
   "cell_type": "code",
   "execution_count": 2,
   "id": "fba6d066",
   "metadata": {},
   "outputs": [],
   "source": [
    "logging.basicConfig(\n",
    "    level = logging.DEBUG,\n",
    "    filename = 'app.log',\n",
    "    filemode = 'w',\n",
    "    format = '%(asctime)s-%(name)s-%(levelname)s-%(message)s',\n",
    "    datefmt = '%Y-%m-%d %H:%M:%S'\n",
    ")\n"
   ]
  },
  {
   "cell_type": "code",
   "execution_count": 3,
   "id": "2e90e7bf",
   "metadata": {},
   "outputs": [],
   "source": [
    "logging.debug(\"This is DEBUG message\")"
   ]
  },
  {
   "cell_type": "code",
   "execution_count": 4,
   "id": "1f69d7f9",
   "metadata": {},
   "outputs": [],
   "source": [
    "logging.info(\"This is INFO message\")"
   ]
  },
  {
   "cell_type": "code",
   "execution_count": 5,
   "id": "ed12b7f4",
   "metadata": {},
   "outputs": [],
   "source": [
    "logging.critical(\"This is CRITICAL message\")"
   ]
  },
  {
   "cell_type": "code",
   "execution_count": 6,
   "id": "68b262bc",
   "metadata": {},
   "outputs": [],
   "source": [
    "logging.error(\"This is ERROR message\")"
   ]
  }
 ],
 "metadata": {
  "kernelspec": {
   "display_name": "venv",
   "language": "python",
   "name": "python3"
  },
  "language_info": {
   "codemirror_mode": {
    "name": "ipython",
    "version": 3
   },
   "file_extension": ".py",
   "mimetype": "text/x-python",
   "name": "python",
   "nbconvert_exporter": "python",
   "pygments_lexer": "ipython3",
   "version": "3.12.7"
  }
 },
 "nbformat": 4,
 "nbformat_minor": 5
}
