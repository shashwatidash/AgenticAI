{
 "cells": [
  {
   "cell_type": "markdown",
   "id": "881a56d0",
   "metadata": {},
   "source": [
    "### Overview\n",
    "- Single line comments and multi line comments\n",
    "- Definition of Syntax and Semantics\n",
    "- Basic syntax rules in Python\n",
    "\n",
    "Syntax basically refers to the set of rules that define correct arrangement of words and symbol in the code.\n",
    "Semantics refers to meaning or interpretation of the symbols, characters or commands in a language. It is about what the code is supposed to do when it runs."
   ]
  },
  {
   "cell_type": "code",
   "execution_count": 1,
   "id": "a5b800f3",
   "metadata": {},
   "outputs": [
    {
     "name": "stdout",
     "output_type": "stream",
     "text": [
      "John\n",
      "Doe\n"
     ]
    }
   ],
   "source": [
    "## case sensitivity\n",
    "name = \"John\"\n",
    "Name = \"Doe\"\n",
    "\n",
    "print(name)\n",
    "print(Name)"
   ]
  },
  {
   "cell_type": "code",
   "execution_count": 2,
   "id": "c3a765ee",
   "metadata": {},
   "outputs": [
    {
     "name": "stdout",
     "output_type": "stream",
     "text": [
      "You're eligible for promotion!\n"
     ]
    }
   ],
   "source": [
    "## identitation - define blocks of code (Usually 4 spaces or tab)\n",
    "\n",
    "age = 32\n",
    "if age > 50:\n",
    "    print(\"You're old\")\n",
    "else:\n",
    "    print(\"You're eligible for promotion!\")"
   ]
  },
  {
   "cell_type": "code",
   "execution_count": 4,
   "id": "a2b7f057",
   "metadata": {},
   "outputs": [
    {
     "name": "stdout",
     "output_type": "stream",
     "text": [
      "21\n"
     ]
    }
   ],
   "source": [
    "## line continuation\n",
    "\n",
    "total = 1 + 2 + 3\\\n",
    "+ 4 + 5 + 6\n",
    "print(total)"
   ]
  },
  {
   "cell_type": "code",
   "execution_count": 5,
   "id": "131f934b",
   "metadata": {},
   "outputs": [
    {
     "name": "stdout",
     "output_type": "stream",
     "text": [
      "10\n"
     ]
    }
   ],
   "source": [
    "## multiple statements in single line\n",
    "x = 5; y = 5; print(x + y)"
   ]
  },
  {
   "cell_type": "markdown",
   "id": "243a10a7",
   "metadata": {},
   "source": [
    "Understanding Semantics "
   ]
  },
  {
   "cell_type": "code",
   "execution_count": 9,
   "id": "68b10c50",
   "metadata": {},
   "outputs": [
    {
     "data": {
      "text/plain": [
       "int"
      ]
     },
     "execution_count": 9,
     "metadata": {},
     "output_type": "execute_result"
    }
   ],
   "source": [
    "## variable assignment\n",
    "\n",
    "age = 32\n",
    "name = \"John Doe\"\n",
    "\n",
    "type(age)"
   ]
  },
  {
   "cell_type": "code",
   "execution_count": 13,
   "id": "84e45282",
   "metadata": {},
   "outputs": [
    {
     "name": "stdout",
     "output_type": "stream",
     "text": [
      "<class 'str'>\n",
      "<class 'int'>\n"
     ]
    }
   ],
   "source": [
    "## type inferencing\n",
    "\n",
    "print(type(name))\n",
    "\n",
    "name = 5400\n",
    "print(type(name))"
   ]
  }
 ],
 "metadata": {
  "kernelspec": {
   "display_name": "Python 3",
   "language": "python",
   "name": "python3"
  },
  "language_info": {
   "codemirror_mode": {
    "name": "ipython",
    "version": 3
   },
   "file_extension": ".py",
   "mimetype": "text/x-python",
   "name": "python",
   "nbconvert_exporter": "python",
   "pygments_lexer": "ipython3",
   "version": "3.12.0"
  }
 },
 "nbformat": 4,
 "nbformat_minor": 5
}
