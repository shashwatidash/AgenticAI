{
 "cells": [
  {
   "cell_type": "markdown",
   "id": "efff6b51",
   "metadata": {},
   "source": [
    "### Overview\n",
    "\n",
    "- Importance of Data Types in Programming\n",
    "- Basic Data types\n",
    "    - Integer\n",
    "    - Floating-point number\n",
    "    - String\n",
    "    - Boolean\n",
    "- Advance Data types\n",
    "    - List\n",
    "    - Tuple\n",
    "    - Set\n",
    "    - Dictionary\n",
    "- Type Conversion\n",
    "\n",
    "#### Definition \n",
    "Data types are classification of data which tell the compiler how the programmer intends to use the data.\n",
    "It determines type of operations that can be performed on the data, the values it can take, and the amount of memory needed to store the data.\n",
    "\n",
    "#### Importance of Data Types\n",
    "- It ensures that data is stored in an efficient way\n",
    "- It helps in performing correct operations on the data"
   ]
  },
  {
   "cell_type": "code",
   "execution_count": 1,
   "id": "a6521edf",
   "metadata": {},
   "outputs": [
    {
     "name": "stdout",
     "output_type": "stream",
     "text": [
      "<class 'int'>\n",
      "<class 'float'>\n"
     ]
    }
   ],
   "source": [
    "## Integer\n",
    "age = 15\n",
    "print(type(age))\n",
    "\n",
    "## Floating point number\n",
    "height = 155.5\n",
    "print(type(height))\n"
   ]
  },
  {
   "cell_type": "code",
   "execution_count": 2,
   "id": "683d7812",
   "metadata": {},
   "outputs": [
    {
     "name": "stdout",
     "output_type": "stream",
     "text": [
      "<class 'str'>\n"
     ]
    }
   ],
   "source": [
    "## String \n",
    "name = 'John Doe'\n",
    "print(type(name))"
   ]
  },
  {
   "cell_type": "code",
   "execution_count": null,
   "id": "ecb5ce7d",
   "metadata": {},
   "outputs": [
    {
     "name": "stdout",
     "output_type": "stream",
     "text": [
      "<class 'bool'>\n",
      "1\n"
     ]
    }
   ],
   "source": [
    "## Boolean \n",
    "target = True\n",
    "print(type(target))\n",
    "print(int(target))"
   ]
  },
  {
   "cell_type": "code",
   "execution_count": 7,
   "id": "e9201c20",
   "metadata": {},
   "outputs": [
    {
     "name": "stdout",
     "output_type": "stream",
     "text": [
      "False\n"
     ]
    },
    {
     "data": {
      "text/plain": [
       "bool"
      ]
     },
     "execution_count": 7,
     "metadata": {},
     "output_type": "execute_result"
    }
   ],
   "source": [
    "a = 10\n",
    "b = 20\n",
    "print(a == b)\n",
    "type(a == b)"
   ]
  },
  {
   "cell_type": "code",
   "execution_count": 12,
   "id": "ba98435a",
   "metadata": {},
   "outputs": [],
   "source": [
    "## Common errors\n",
    "# result = 'Hello' + 5\n",
    "result = 'Hello' + str(5)"
   ]
  },
  {
   "cell_type": "markdown",
   "id": "6dd0b473",
   "metadata": {},
   "source": [
    "TypeError: can only concatenate str (not \"int\") to str"
   ]
  }
 ],
 "metadata": {
  "kernelspec": {
   "display_name": "Python 3",
   "language": "python",
   "name": "python3"
  },
  "language_info": {
   "codemirror_mode": {
    "name": "ipython",
    "version": 3
   },
   "file_extension": ".py",
   "mimetype": "text/x-python",
   "name": "python",
   "nbconvert_exporter": "python",
   "pygments_lexer": "ipython3",
   "version": "3.12.0"
  }
 },
 "nbformat": 4,
 "nbformat_minor": 5
}
