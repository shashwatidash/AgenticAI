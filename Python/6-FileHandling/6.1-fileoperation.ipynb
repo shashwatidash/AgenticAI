{
 "cells": [
  {
   "cell_type": "markdown",
   "id": "90c07a48",
   "metadata": {},
   "source": [
    "### File Operation - Read and Write File\n",
    "\n",
    "Python provides build in functions to read from and write to files, both text and binary."
   ]
  },
  {
   "cell_type": "code",
   "execution_count": 1,
   "id": "63efe1de",
   "metadata": {},
   "outputs": [
    {
     "name": "stdout",
     "output_type": "stream",
     "text": [
      "Agentic AI operates through a complex network of autonomous software components known as \"agents\" that draw from massive amounts of data and learn from user behavior to improve over time. \n",
      "Each agent is designed with specific goals and abilities, working in harmony to tackle complex tasks. \n",
      "This innovative approach to agentic AI relies on a blend of advanced technologies such as machine learning, NLP, and knowledge representation that helps agents learn, communicate, and reason effectively.\n"
     ]
    }
   ],
   "source": [
    "# Read a file\n",
    "\n",
    "with open('example.txt', 'r') as file:\n",
    "    content = file.read()\n",
    "    print(content)"
   ]
  },
  {
   "cell_type": "code",
   "execution_count": 2,
   "id": "716eb779",
   "metadata": {},
   "outputs": [
    {
     "name": "stdout",
     "output_type": "stream",
     "text": [
      "Agentic AI operates through a complex network of autonomous software components known as \"agents\" that draw from massive amounts of data and learn from user behavior to improve over time. \n",
      "\n",
      "Each agent is designed with specific goals and abilities, working in harmony to tackle complex tasks. \n",
      "\n",
      "This innovative approach to agentic AI relies on a blend of advanced technologies such as machine learning, NLP, and knowledge representation that helps agents learn, communicate, and reason effectively.\n"
     ]
    }
   ],
   "source": [
    "# Read a file line by line\n",
    "\n",
    "with open('example.txt', 'r') as file:\n",
    "    for line in file:\n",
    "        print(line)"
   ]
  },
  {
   "cell_type": "code",
   "execution_count": 4,
   "id": "2e520aaf",
   "metadata": {},
   "outputs": [],
   "source": [
    "# Writing to a file (overwrite)\n",
    "\n",
    "with open('example.txt', 'w') as file:\n",
    "    file.write('Agentic AI uses self-contained agents - AI models that autonomously complete tasks and manage workflows using machine learning, algorithms, and predictive analytics to make real-time decisions.')"
   ]
  },
  {
   "cell_type": "code",
   "execution_count": null,
   "id": "11da131b",
   "metadata": {},
   "outputs": [],
   "source": [
    "# Writing to a file (without overwrite)\n",
    "with open('example.txt', 'a') as file:\n",
    "    file.write('Agentic AI uses self-contained agents - AI models that autonomously complete tasks and manage workflows using machine learning, algorithms, and predictive analytics to make real-time decisions.\\n')"
   ]
  },
  {
   "cell_type": "code",
   "execution_count": 7,
   "id": "fc864c12",
   "metadata": {},
   "outputs": [],
   "source": [
    "# Writing multiple lines to a file (without overwrite)\n",
    "lines = ['It follows a five-step process to solve complex problems:\\n 1. Perceive\\n 2. Reason\\n 3. Act\\n 4. Learn\\n 5. Collaborate']\n",
    "with open('example.txt', 'a') as file:\n",
    "    file.writelines(lines)\n"
   ]
  },
  {
   "cell_type": "markdown",
   "id": "4153c739",
   "metadata": {},
   "source": [
    "Working with Binary Files"
   ]
  },
  {
   "cell_type": "code",
   "execution_count": 10,
   "id": "f8744af3",
   "metadata": {},
   "outputs": [],
   "source": [
    "# Writing to a binary file\n",
    "\n",
    "data = b'Hello, binary world!'\n",
    "with open('example.bin', 'wb') as file:\n",
    "    file.write(data)"
   ]
  },
  {
   "cell_type": "code",
   "execution_count": 12,
   "id": "b06fb4d3",
   "metadata": {},
   "outputs": [
    {
     "name": "stdout",
     "output_type": "stream",
     "text": [
      "b'Hello, binary world!'\n"
     ]
    }
   ],
   "source": [
    "with open('example.bin', 'rb') as file:\n",
    "    print(file.read())"
   ]
  },
  {
   "cell_type": "code",
   "execution_count": 13,
   "id": "5d84061d",
   "metadata": {},
   "outputs": [],
   "source": [
    "# Read from a .txt file source and write it to another .txt file\n",
    "\n",
    "with open('source.txt', 'r') as source_file:\n",
    "    content = source_file.read()\n",
    "\n",
    "with open('dest.txt', 'w') as dest_file:\n",
    "    dest_file.write(content)\n"
   ]
  },
  {
   "cell_type": "markdown",
   "id": "4b41a97c",
   "metadata": {},
   "source": [
    "The w+ mode in Python is used to open a file for both reading and writing. If file does not exist, i is created, if it exists, it is truncated (i.e., overwritten)."
   ]
  },
  {
   "cell_type": "code",
   "execution_count": 14,
   "id": "3a35eaa8",
   "metadata": {},
   "outputs": [
    {
     "name": "stdout",
     "output_type": "stream",
     "text": [
      "Hi, testing the w+ mode of file.\n"
     ]
    }
   ],
   "source": [
    "# Writing and then reading a file\n",
    "\n",
    "with open('dest.txt', 'w+') as file:\n",
    "    file.write('Hi, testing the w+ mode of file.')\n",
    "    # move cursor to beginning to read it next\n",
    "    file.seek(0)\n",
    "    file_content = file.read()\n",
    "    print(file_content)\n"
   ]
  }
 ],
 "metadata": {
  "kernelspec": {
   "display_name": "venv",
   "language": "python",
   "name": "python3"
  },
  "language_info": {
   "codemirror_mode": {
    "name": "ipython",
    "version": 3
   },
   "file_extension": ".py",
   "mimetype": "text/x-python",
   "name": "python",
   "nbconvert_exporter": "python",
   "pygments_lexer": "ipython3",
   "version": "3.12.7"
  }
 },
 "nbformat": 4,
 "nbformat_minor": 5
}
