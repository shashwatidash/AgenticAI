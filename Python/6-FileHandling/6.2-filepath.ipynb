{
 "cells": [
  {
   "cell_type": "code",
   "execution_count": 1,
   "id": "b09e9710",
   "metadata": {},
   "outputs": [
    {
     "name": "stdout",
     "output_type": "stream",
     "text": [
      "Current working directory is c:\\Users\\Shaswati\\Work\\Tutorials\\Udemy Agentic AI Bootcamp\\AgenticAI\\Python\\6-FileHandling\n"
     ]
    }
   ],
   "source": [
    "import os\n",
    "\n",
    "cwd = os.getcwd()\n",
    "print(f'Current working directory is {cwd}')"
   ]
  },
  {
   "cell_type": "code",
   "execution_count": 2,
   "id": "b36fec36",
   "metadata": {},
   "outputs": [
    {
     "name": "stdout",
     "output_type": "stream",
     "text": [
      "Directory package created\n"
     ]
    }
   ],
   "source": [
    "# create a new directory\n",
    "\n",
    "new_directory = 'package'\n",
    "os.mkdir(new_directory)\n",
    "\n",
    "print(f'Directory {new_directory} created')"
   ]
  },
  {
   "cell_type": "code",
   "execution_count": 3,
   "id": "af50fb6e",
   "metadata": {},
   "outputs": [
    {
     "name": "stdout",
     "output_type": "stream",
     "text": [
      "['6.1-fileoperation.ipynb', '6.2-filepath.ipynb', 'dest.txt', 'example.bin', 'example.txt', 'package', 'source.txt']\n"
     ]
    }
   ],
   "source": [
    "# List Files and Directory \n",
    "\n",
    "items = os.listdir('.')\n",
    "print(items)"
   ]
  },
  {
   "cell_type": "code",
   "execution_count": 13,
   "id": "f4c63e4a",
   "metadata": {},
   "outputs": [
    {
     "name": "stdout",
     "output_type": "stream",
     "text": [
      "folder\\file.txt\n",
      "c:\\Users\\Shaswati\\Work\\Tutorials\\Udemy Agentic AI Bootcamp\\AgenticAI\\Python\\6-FileHandling\\example.txt\n"
     ]
    }
   ],
   "source": [
    "# Joining path\n",
    "\n",
    "dir_name = 'folder'\n",
    "file_name = 'file.txt'\n",
    "\n",
    "full_path = os.path.join(dir_name, file_name)\n",
    "\n",
    "# abspath\n",
    "absolute_path = os.path.abspath('example.txt')\n",
    "print(full_path)\n",
    "print(absolute_path)"
   ]
  },
  {
   "cell_type": "code",
   "execution_count": 5,
   "id": "19f4d0ca",
   "metadata": {},
   "outputs": [
    {
     "name": "stdout",
     "output_type": "stream",
     "text": [
      "c:\\Users\\Shaswati\\Work\\Tutorials\\Udemy Agentic AI Bootcamp\\AgenticAI\\Python\\6-FileHandling\\folder\\file.txt\n"
     ]
    }
   ],
   "source": [
    "dir_name = 'folder'\n",
    "file_name = 'file.txt'\n",
    "\n",
    "full_path = os.path.join(os.getcwd(), dir_name, file_name)\n",
    "print(full_path)"
   ]
  },
  {
   "cell_type": "markdown",
   "id": "c8497668",
   "metadata": {},
   "source": [
    "Check if File or Directory exists:"
   ]
  },
  {
   "cell_type": "code",
   "execution_count": 7,
   "id": "cbdd7a4f",
   "metadata": {},
   "outputs": [
    {
     "name": "stdout",
     "output_type": "stream",
     "text": [
      "The path example.txt is present\n"
     ]
    }
   ],
   "source": [
    "path = 'example.txt'\n",
    "if os.path.exists(path):\n",
    "    print(f'The path {path} is present')"
   ]
  },
  {
   "cell_type": "code",
   "execution_count": 11,
   "id": "3c905a05",
   "metadata": {},
   "outputs": [
    {
     "name": "stdout",
     "output_type": "stream",
     "text": [
      "file with name `example.txt` exists\n",
      "directory with name `package` exists\n"
     ]
    }
   ],
   "source": [
    "if os.path.isfile(path):\n",
    "    print(f'file with name `{path}` exists')\n",
    "dir = 'package'\n",
    "if os.path.isdir(dir):\n",
    "    print(f'directory with name `{dir}` exists')"
   ]
  }
 ],
 "metadata": {
  "kernelspec": {
   "display_name": "venv",
   "language": "python",
   "name": "python3"
  },
  "language_info": {
   "codemirror_mode": {
    "name": "ipython",
    "version": 3
   },
   "file_extension": ".py",
   "mimetype": "text/x-python",
   "name": "python",
   "nbconvert_exporter": "python",
   "pygments_lexer": "ipython3",
   "version": "3.12.7"
  }
 },
 "nbformat": 4,
 "nbformat_minor": 5
}
