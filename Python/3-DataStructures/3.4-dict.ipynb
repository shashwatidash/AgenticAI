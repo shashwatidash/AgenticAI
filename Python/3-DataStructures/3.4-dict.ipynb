{
 "cells": [
  {
   "cell_type": "markdown",
   "id": "29ff415f",
   "metadata": {},
   "source": [
    "### Overview\n",
    "- Creating Dictionaries\n",
    "- Accessing\n",
    "- Modifying Elements\n",
    "- Methods\n",
    "- Iterating over Dictionaries\n",
    "- Nested Dictionaries\n",
    "- Comprehensions\n",
    "- Common Errors and Examples\n",
    "\n",
    "### Dictionaries\n",
    "Unordered collection of items.\n",
    "Store data as key-value pairs.\n",
    "Keys must be unique and immutable (e.g., strings, numbers, tuples).\n",
    "Values can be of any type."
   ]
  },
  {
   "cell_type": "code",
   "execution_count": 28,
   "id": "deb5f5bf",
   "metadata": {},
   "outputs": [
    {
     "data": {
      "text/plain": [
       "dict"
      ]
     },
     "execution_count": 28,
     "metadata": {},
     "output_type": "execute_result"
    }
   ],
   "source": [
    "# create\n",
    "empty_dict = {}\n",
    "type(empty_dict)"
   ]
  },
  {
   "cell_type": "code",
   "execution_count": 2,
   "id": "c5d16c5e",
   "metadata": {},
   "outputs": [
    {
     "data": {
      "text/plain": [
       "dict"
      ]
     },
     "execution_count": 2,
     "metadata": {},
     "output_type": "execute_result"
    }
   ],
   "source": [
    "empty_dict = dict()\n",
    "type(empty_dict)"
   ]
  },
  {
   "cell_type": "code",
   "execution_count": 29,
   "id": "6d8a7890",
   "metadata": {},
   "outputs": [
    {
     "name": "stdout",
     "output_type": "stream",
     "text": [
      "{'name': 'John Doe', 'age': 30, 'grade': 'A'}\n"
     ]
    }
   ],
   "source": [
    "student = {'name':'John Doe', 'age': 30, 'grade':'A'}\n",
    "print(student)"
   ]
  },
  {
   "cell_type": "code",
   "execution_count": 7,
   "id": "982fa3b1",
   "metadata": {},
   "outputs": [
    {
     "name": "stdout",
     "output_type": "stream",
     "text": [
      "30\n"
     ]
    }
   ],
   "source": [
    "# access value\n",
    "print(student['age'])"
   ]
  },
  {
   "cell_type": "code",
   "execution_count": 9,
   "id": "28289a1d",
   "metadata": {},
   "outputs": [
    {
     "name": "stdout",
     "output_type": "stream",
     "text": [
      "John Doe\n"
     ]
    }
   ],
   "source": [
    "# get method\n",
    "print(student.get('name'))"
   ]
  },
  {
   "cell_type": "code",
   "execution_count": 11,
   "id": "9a71b1cc",
   "metadata": {},
   "outputs": [
    {
     "name": "stdout",
     "output_type": "stream",
     "text": [
      "None\n",
      "Not Available\n"
     ]
    }
   ],
   "source": [
    "# undefined key\n",
    "print(student.get('key'))\n",
    "\n",
    "# default value\n",
    "print(student.get('key', 'Not Available'))"
   ]
  },
  {
   "cell_type": "code",
   "execution_count": 30,
   "id": "b9785339",
   "metadata": {},
   "outputs": [
    {
     "name": "stdout",
     "output_type": "stream",
     "text": [
      "{'name': 'John Doe', 'age': 30, 'grade': 'A'}\n",
      "{'name': 'John Doe', 'age': 32, 'grade': 'A', 'adddress': 'California'}\n"
     ]
    }
   ],
   "source": [
    "# modify dict elements\n",
    "print(student)\n",
    "student['age'] = 32\n",
    "student['adddress'] = 'California'\n",
    "print(student)"
   ]
  },
  {
   "cell_type": "code",
   "execution_count": 31,
   "id": "9dde533c",
   "metadata": {},
   "outputs": [
    {
     "name": "stdout",
     "output_type": "stream",
     "text": [
      "{'name': 'John Doe', 'age': 32, 'adddress': 'California'}\n"
     ]
    }
   ],
   "source": [
    "del student['grade']\n",
    "print(student)"
   ]
  },
  {
   "cell_type": "code",
   "execution_count": 32,
   "id": "0c5c58ed",
   "metadata": {},
   "outputs": [
    {
     "name": "stdout",
     "output_type": "stream",
     "text": [
      "dict_keys(['name', 'age', 'adddress'])\n",
      "dict_values(['John Doe', 32, 'California'])\n"
     ]
    }
   ],
   "source": [
    "# dicionary methods\n",
    "\n",
    "keys = student.keys()\n",
    "print(keys)\n",
    "\n",
    "values = student.values()\n",
    "print(values)"
   ]
  },
  {
   "cell_type": "code",
   "execution_count": 33,
   "id": "e7902500",
   "metadata": {},
   "outputs": [
    {
     "name": "stdout",
     "output_type": "stream",
     "text": [
      "dict_items([('name', 'John Doe'), ('age', 32), ('adddress', 'California')])\n"
     ]
    }
   ],
   "source": [
    "# get key value pairs - list of tuples\n",
    "items = student.items()\n",
    "print(items)"
   ]
  },
  {
   "cell_type": "markdown",
   "id": "83916745",
   "metadata": {},
   "source": [
    "Shallow Copy"
   ]
  },
  {
   "cell_type": "code",
   "execution_count": 34,
   "id": "9a85397d",
   "metadata": {},
   "outputs": [
    {
     "name": "stdout",
     "output_type": "stream",
     "text": [
      "{'name': 'John Doe', 'age': 32, 'adddress': 'California'}\n",
      "{'name': 'John Doe', 'age': 32, 'adddress': 'California'}\n"
     ]
    }
   ],
   "source": [
    "student_copy = student\n",
    "print(student)\n",
    "print(student_copy)"
   ]
  },
  {
   "cell_type": "code",
   "execution_count": 35,
   "id": "3334576b",
   "metadata": {},
   "outputs": [
    {
     "name": "stdout",
     "output_type": "stream",
     "text": [
      "{'name': 'Sarah Jones', 'age': 32, 'adddress': 'California'}\n",
      "{'name': 'Sarah Jones', 'age': 32, 'adddress': 'California'}\n"
     ]
    }
   ],
   "source": [
    "student['name'] = 'Sarah Jones'\n",
    "print(student)\n",
    "print(student_copy)"
   ]
  },
  {
   "cell_type": "code",
   "execution_count": 36,
   "id": "b5cb45d4",
   "metadata": {},
   "outputs": [
    {
     "name": "stdout",
     "output_type": "stream",
     "text": [
      "{'name': 'Andrew', 'age': 32, 'adddress': 'California'}\n",
      "{'name': 'Sarah Jones', 'age': 32, 'adddress': 'California'}\n"
     ]
    }
   ],
   "source": [
    "student_copy1 = student.copy() # shallow copy\n",
    "student['name'] = 'Andrew'\n",
    "print(student)\n",
    "print(student_copy1)\n"
   ]
  },
  {
   "cell_type": "code",
   "execution_count": 39,
   "id": "e49bdc24",
   "metadata": {},
   "outputs": [
    {
     "name": "stdout",
     "output_type": "stream",
     "text": [
      "name\n",
      "age\n",
      "adddress\n",
      "Andrew\n",
      "32\n",
      "California\n"
     ]
    }
   ],
   "source": [
    "# Iterate over dictionaries (key, values or items)\n",
    "\n",
    "for key in student.keys():\n",
    "    print(key)\n",
    "\n",
    "for val in student.values():\n",
    "    print(val)\n"
   ]
  },
  {
   "cell_type": "code",
   "execution_count": 40,
   "id": "bc9a12f2",
   "metadata": {},
   "outputs": [
    {
     "name": "stdout",
     "output_type": "stream",
     "text": [
      "('name', 'Andrew')\n",
      "('age', 32)\n",
      "('adddress', 'California')\n"
     ]
    }
   ],
   "source": [
    "for item in student.items():\n",
    "    print(item)"
   ]
  },
  {
   "cell_type": "code",
   "execution_count": 41,
   "id": "752e3a1c",
   "metadata": {},
   "outputs": [
    {
     "name": "stdout",
     "output_type": "stream",
     "text": [
      "name - Andrew\n",
      "age - 32\n",
      "adddress - California\n"
     ]
    }
   ],
   "source": [
    "for k, v in student.items():\n",
    "    print(f'{k} - {v}')"
   ]
  },
  {
   "cell_type": "code",
   "execution_count": 44,
   "id": "b3b817fd",
   "metadata": {},
   "outputs": [
    {
     "name": "stdout",
     "output_type": "stream",
     "text": [
      "{'student1': {'id': 1, 'name': 'Andrew'}, 'student2': {'id': 2, 'name': 'Sarah'}, 'student3': {'id': 3, 'name': 'John'}}\n"
     ]
    }
   ],
   "source": [
    "# Nested Dict\n",
    "nested_students = {\n",
    "    'student1': {'id': 1, 'name': 'Andrew'},\n",
    "    'student2': {'id': 2, 'name': 'Sarah'},\n",
    "    'student3': {'id': 3, 'name': 'John'}\n",
    "}\n",
    "\n",
    "print(nested_students)\n",
    " "
   ]
  },
  {
   "cell_type": "code",
   "execution_count": 56,
   "id": "add3c5c4",
   "metadata": {},
   "outputs": [
    {
     "name": "stdout",
     "output_type": "stream",
     "text": [
      "id - 1\n",
      "name - Andrew\n",
      "id - 2\n",
      "name - Sarah\n",
      "id - 3\n",
      "name - John\n"
     ]
    }
   ],
   "source": [
    "for k, v in nested_students.items():\n",
    "    for key, value in v.items():\n",
    "        print(f'{key} - {value}')"
   ]
  },
  {
   "cell_type": "code",
   "execution_count": 58,
   "id": "dbc6abb2",
   "metadata": {},
   "outputs": [
    {
     "name": "stdout",
     "output_type": "stream",
     "text": [
      "Andrew\n"
     ]
    }
   ],
   "source": [
    "print(nested_students['student1']['name'])"
   ]
  },
  {
   "cell_type": "code",
   "execution_count": 59,
   "id": "1f7f18b5",
   "metadata": {},
   "outputs": [
    {
     "name": "stdout",
     "output_type": "stream",
     "text": [
      "{0: 0, 1: 1, 2: 4, 3: 9, 4: 16}\n"
     ]
    }
   ],
   "source": [
    "# dictionary comprehension\n",
    "\n",
    "squares = {\n",
    "    x: x ** 2 for x in range(5)\n",
    "}\n",
    "print(squares)"
   ]
  },
  {
   "cell_type": "code",
   "execution_count": 61,
   "id": "d9f45447",
   "metadata": {},
   "outputs": [
    {
     "name": "stdout",
     "output_type": "stream",
     "text": [
      "{0: 0, 2: 4, 4: 16, 6: 36, 8: 64}\n"
     ]
    }
   ],
   "source": [
    "# conditional dictionary comprehesion\n",
    "\n",
    "evens = {\n",
    "    x: x ** 2 for x in range(10) if x % 2 == 0\n",
    "}\n",
    "print(evens)"
   ]
  },
  {
   "cell_type": "code",
   "execution_count": 67,
   "id": "c74e6880",
   "metadata": {},
   "outputs": [
    {
     "name": "stdout",
     "output_type": "stream",
     "text": [
      "{1: 1, 2: 2, 3: 4, 4: 3}\n"
     ]
    }
   ],
   "source": [
    "# Use a Dictionary to count the frequency of elements in a list\n",
    "numbers = [1, 2, 2, 3, 3, 3, 3, 4, 4, 4]\n",
    "map_num = {}\n",
    "for x in numbers:\n",
    "    if x in map_num:\n",
    "        map_num[x] = map_num.get(x) + 1\n",
    "    else:\n",
    "        map_num[x] = 1\n",
    "\n",
    "\n",
    "print(map_num)"
   ]
  },
  {
   "cell_type": "code",
   "execution_count": 68,
   "id": "921a8e57",
   "metadata": {},
   "outputs": [
    {
     "name": "stdout",
     "output_type": "stream",
     "text": [
      "{'a': 1, 'b': 4, 'c': 3}\n"
     ]
    }
   ],
   "source": [
    "# merge two dict into one\n",
    "\n",
    "dict1 = {'a': 1, 'b': 2}\n",
    "dict2 = {'c': 3, 'b': 4}\n",
    "\n",
    "merge_dict = {**dict1, **dict2}\n",
    "print(merge_dict)"
   ]
  }
 ],
 "metadata": {
  "kernelspec": {
   "display_name": "Python 3",
   "language": "python",
   "name": "python3"
  },
  "language_info": {
   "codemirror_mode": {
    "name": "ipython",
    "version": 3
   },
   "file_extension": ".py",
   "mimetype": "text/x-python",
   "name": "python",
   "nbconvert_exporter": "python",
   "pygments_lexer": "ipython3",
   "version": "3.12.0"
  }
 },
 "nbformat": 4,
 "nbformat_minor": 5
}
