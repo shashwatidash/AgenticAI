{
 "cells": [
  {
   "cell_type": "markdown",
   "id": "cb3fa4c5",
   "metadata": {},
   "source": [
    "### Sets\n",
    "Sets are built-in data type in Python used to store collection of unique items.\n",
    "- unordered (do not follow a specific order)\n",
    "- do not allow duplicate elements\n",
    "\n",
    "Useful for membership tests, eliminating duplicate entries and performing mathematic operations like union, intersection, difference and symmetric difference."
   ]
  },
  {
   "cell_type": "code",
   "execution_count": 1,
   "id": "87c6ee57",
   "metadata": {},
   "outputs": [
    {
     "name": "stdout",
     "output_type": "stream",
     "text": [
      "<class 'set'>\n",
      "{1, 2, 3, 4, 5}\n"
     ]
    }
   ],
   "source": [
    "# create\n",
    "entry = {1, 2, 3, 4, 5}\n",
    "print(type(entry))\n",
    "print(entry)\n"
   ]
  },
  {
   "cell_type": "code",
   "execution_count": 9,
   "id": "12dc8bac",
   "metadata": {},
   "outputs": [
    {
     "name": "stdout",
     "output_type": "stream",
     "text": [
      "<class 'set'>\n",
      "{1, 2, 3, 4, 5}\n"
     ]
    }
   ],
   "source": [
    "# reuse pre-defined\n",
    "new_set = set(entry)\n",
    "print(type(new_set))\n",
    "print(new_set)"
   ]
  },
  {
   "cell_type": "code",
   "execution_count": 10,
   "id": "e8be2a88",
   "metadata": {},
   "outputs": [
    {
     "name": "stdout",
     "output_type": "stream",
     "text": [
      "{1, 2, 3, 4, 5}\n"
     ]
    }
   ],
   "source": [
    "# add duplicate\n",
    "new_set.add(5)\n",
    "print(new_set)"
   ]
  },
  {
   "cell_type": "code",
   "execution_count": null,
   "id": "d6ed3c5c",
   "metadata": {},
   "outputs": [
    {
     "name": "stdout",
     "output_type": "stream",
     "text": [
      "{1, 3, 4, 5}\n"
     ]
    }
   ],
   "source": [
    "# remove an element\n",
    "new_set.remove(2) # new_set.discard(2)\n",
    "print(new_set)"
   ]
  },
  {
   "cell_type": "markdown",
   "id": "1e1b1f0a",
   "metadata": {},
   "source": [
    "Remove an element not present gives error:\n",
    "KeyError: x"
   ]
  },
  {
   "cell_type": "code",
   "execution_count": 13,
   "id": "75984a52",
   "metadata": {},
   "outputs": [],
   "source": [
    "# new_set.remove(2)"
   ]
  },
  {
   "cell_type": "code",
   "execution_count": 14,
   "id": "60a3ad94",
   "metadata": {},
   "outputs": [
    {
     "name": "stdout",
     "output_type": "stream",
     "text": [
      "1\n",
      "{3, 4, 5}\n"
     ]
    }
   ],
   "source": [
    "# pop\n",
    "removed_ele = new_set.pop()\n",
    "print(removed_ele)\n",
    "print(new_set)"
   ]
  },
  {
   "cell_type": "code",
   "execution_count": 15,
   "id": "350cc8a1",
   "metadata": {},
   "outputs": [],
   "source": [
    "# clear all elements\n",
    "new_set.clear()"
   ]
  },
  {
   "cell_type": "code",
   "execution_count": 17,
   "id": "25e8f610",
   "metadata": {},
   "outputs": [
    {
     "name": "stdout",
     "output_type": "stream",
     "text": [
      "set()\n"
     ]
    }
   ],
   "source": [
    "print(new_set)"
   ]
  },
  {
   "cell_type": "markdown",
   "id": "f09749cb",
   "metadata": {},
   "source": [
    "Membership Test"
   ]
  },
  {
   "cell_type": "code",
   "execution_count": 18,
   "id": "2f9bbccc",
   "metadata": {},
   "outputs": [
    {
     "name": "stdout",
     "output_type": "stream",
     "text": [
      "True\n",
      "False\n"
     ]
    }
   ],
   "source": [
    "print(3 in entry)\n",
    "print(10 in entry)"
   ]
  },
  {
   "cell_type": "markdown",
   "id": "8fdb0c32",
   "metadata": {},
   "source": [
    "Operations \n",
    "- union \n",
    "- intersection\n",
    "- intersection_update\n",
    "- difference\n",
    "- difference_update\n",
    "- symmetric_update\n"
   ]
  },
  {
   "cell_type": "code",
   "execution_count": 24,
   "id": "3cc20614",
   "metadata": {},
   "outputs": [
    {
     "name": "stdout",
     "output_type": "stream",
     "text": [
      "{1, 2, 3, 4, 5, 8, 9}\n",
      "{1, 2, 3}\n",
      "set1 before update: {1, 2, 3, 4, 5}\n",
      "set1 after update: {1, 2, 3}\n"
     ]
    }
   ],
   "source": [
    "set1 = {1, 2, 3, 4, 5}\n",
    "set2 = {1, 2, 3, 8, 9}\n",
    "\n",
    "union_set = set1.union(set2)\n",
    "print(union_set)\n",
    "\n",
    "intersect_set = set1.intersection(set2)\n",
    "print(intersect_set)\n",
    "\n",
    "print(f'set1 before update: {set1}')\n",
    "set1.intersection_update(set2)\n",
    "print(f'set1 after update: {set1}')\n"
   ]
  },
  {
   "cell_type": "code",
   "execution_count": 28,
   "id": "2ad26916",
   "metadata": {},
   "outputs": [
    {
     "name": "stdout",
     "output_type": "stream",
     "text": [
      "{4, 5}\n",
      "{1, 2, 3, 4, 5}\n"
     ]
    }
   ],
   "source": [
    "set1 = {1, 2, 3, 4, 5}\n",
    "set2 = {1, 2, 3, 8, 9}\n",
    "\n",
    "\n",
    "print(set1.difference(set2))\n",
    "print(set1)"
   ]
  },
  {
   "cell_type": "code",
   "execution_count": 29,
   "id": "1705f105",
   "metadata": {},
   "outputs": [
    {
     "name": "stdout",
     "output_type": "stream",
     "text": [
      "{1, 2, 3, 4, 5}\n",
      "{4, 5}\n"
     ]
    }
   ],
   "source": [
    "print(set1)\n",
    "set1.difference_update(set2)\n",
    "print(set1)"
   ]
  },
  {
   "cell_type": "code",
   "execution_count": 30,
   "id": "e44d2b8d",
   "metadata": {},
   "outputs": [
    {
     "name": "stdout",
     "output_type": "stream",
     "text": [
      "{4, 5, 8, 9}\n"
     ]
    }
   ],
   "source": [
    "set1 = {1, 2, 3, 4, 5}\n",
    "set2 = {1, 2, 3, 8, 9}\n",
    "print(set1.symmetric_difference(set2))"
   ]
  },
  {
   "cell_type": "markdown",
   "id": "fd95f6b9",
   "metadata": {},
   "source": [
    "Set Methods"
   ]
  },
  {
   "cell_type": "code",
   "execution_count": null,
   "id": "71bb8796",
   "metadata": {},
   "outputs": [
    {
     "name": "stdout",
     "output_type": "stream",
     "text": [
      "False\n",
      "True\n"
     ]
    }
   ],
   "source": [
    "set1 = {1, 2, 3, 4, 5}\n",
    "set2 = {5, 6, 7, 8, 9}\n",
    "set3 = {1, 2, 3, 4, 5, 6, 7, 8, 9}\n",
    "# is subset\n",
    "print(set1.issubset(set2))\n",
    "\n",
    "# superset\n",
    "print(set3.issuperset(set2))"
   ]
  },
  {
   "cell_type": "code",
   "execution_count": 38,
   "id": "8e2434c8",
   "metadata": {},
   "outputs": [
    {
     "name": "stdout",
     "output_type": "stream",
     "text": [
      "{1, 2, 3, 4, 5}\n"
     ]
    }
   ],
   "source": [
    "numbers = [1, 2, 2, 4, 4, 5, 3]\n",
    "print(set(numbers))"
   ]
  },
  {
   "cell_type": "code",
   "execution_count": 40,
   "id": "c3cdd1bf",
   "metadata": {},
   "outputs": [
    {
     "name": "stdout",
     "output_type": "stream",
     "text": [
      "{'this', 'sets', 'discussing', 'We', 'are', 'tutorial', 'about', 'in'}\n",
      "8\n"
     ]
    }
   ],
   "source": [
    "# count unique words in the text\n",
    "text = \" We are discussing about sets in this tutorial\"\n",
    "words = text.split()\n",
    "\n",
    "# convert list of words to set to get unique\n",
    "unique = set(words)\n",
    "print(unique)\n",
    "print(len(unique))"
   ]
  }
 ],
 "metadata": {
  "kernelspec": {
   "display_name": "Python 3",
   "language": "python",
   "name": "python3"
  },
  "language_info": {
   "codemirror_mode": {
    "name": "ipython",
    "version": 3
   },
   "file_extension": ".py",
   "mimetype": "text/x-python",
   "name": "python",
   "nbconvert_exporter": "python",
   "pygments_lexer": "ipython3",
   "version": "3.12.0"
  }
 },
 "nbformat": 4,
 "nbformat_minor": 5
}
