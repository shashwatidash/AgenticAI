{
 "cells": [
  {
   "cell_type": "markdown",
   "id": "71736f78",
   "metadata": {},
   "source": [
    "### Overview\n",
    "- Creating Tuples\n",
    "- Accessing elements\n",
    "- Operations\n",
    "- Immutable nature\n",
    "- Methods\n",
    "- Packing and Unpacking Tuples\n",
    "- Nested Tuples\n",
    "- Examples and Common Errors\n",
    "\n",
    "### Tuples\n",
    "Ordered collection of items that are immutable. They are similar to lists, but their immutability makes them different"
   ]
  },
  {
   "cell_type": "code",
   "execution_count": 1,
   "id": "7e45f8af",
   "metadata": {},
   "outputs": [
    {
     "name": "stdout",
     "output_type": "stream",
     "text": [
      "<class 'tuple'>\n"
     ]
    }
   ],
   "source": [
    "empty_tuple = ()\n",
    "print(type(empty_tuple))"
   ]
  },
  {
   "cell_type": "code",
   "execution_count": 2,
   "id": "e15eb9ee",
   "metadata": {},
   "outputs": [
    {
     "name": "stdout",
     "output_type": "stream",
     "text": [
      "<class 'list'>\n",
      "<class 'tuple'>\n"
     ]
    }
   ],
   "source": [
    "lst = list()\n",
    "print(type(lst))\n",
    "\n",
    "tpl = tuple()\n",
    "print(type(tpl))"
   ]
  },
  {
   "cell_type": "code",
   "execution_count": 3,
   "id": "bfb4a393",
   "metadata": {},
   "outputs": [
    {
     "data": {
      "text/plain": [
       "(1, 2, 3, 4, 5)"
      ]
     },
     "execution_count": 3,
     "metadata": {},
     "output_type": "execute_result"
    }
   ],
   "source": [
    "number = tuple([1, 2, 3, 4, 5])\n",
    "number"
   ]
  },
  {
   "cell_type": "code",
   "execution_count": 4,
   "id": "ee212d8f",
   "metadata": {},
   "outputs": [
    {
     "data": {
      "text/plain": [
       "[1, 2, 3, 4, 5]"
      ]
     },
     "execution_count": 4,
     "metadata": {},
     "output_type": "execute_result"
    }
   ],
   "source": [
    "list(number)"
   ]
  },
  {
   "cell_type": "code",
   "execution_count": 5,
   "id": "a6ba1955",
   "metadata": {},
   "outputs": [
    {
     "data": {
      "text/plain": [
       "1"
      ]
     },
     "execution_count": 5,
     "metadata": {},
     "output_type": "execute_result"
    }
   ],
   "source": [
    "number[0]"
   ]
  },
  {
   "cell_type": "code",
   "execution_count": 6,
   "id": "91e0f9f0",
   "metadata": {},
   "outputs": [
    {
     "data": {
      "text/plain": [
       "4"
      ]
     },
     "execution_count": 6,
     "metadata": {},
     "output_type": "execute_result"
    }
   ],
   "source": [
    "number[-2]"
   ]
  },
  {
   "cell_type": "code",
   "execution_count": 7,
   "id": "2da308c2",
   "metadata": {},
   "outputs": [
    {
     "data": {
      "text/plain": [
       "(1, 2, 3, 4)"
      ]
     },
     "execution_count": 7,
     "metadata": {},
     "output_type": "execute_result"
    }
   ],
   "source": [
    "number[0:4]"
   ]
  },
  {
   "cell_type": "code",
   "execution_count": 8,
   "id": "9d6648b7",
   "metadata": {},
   "outputs": [
    {
     "data": {
      "text/plain": [
       "(5, 4, 3, 2, 1)"
      ]
     },
     "execution_count": 8,
     "metadata": {},
     "output_type": "execute_result"
    }
   ],
   "source": [
    "number[::-1]"
   ]
  },
  {
   "cell_type": "code",
   "execution_count": 9,
   "id": "c46cb010",
   "metadata": {},
   "outputs": [],
   "source": [
    "mixed = ('Hello', 1)"
   ]
  },
  {
   "cell_type": "code",
   "execution_count": 10,
   "id": "3885fe59",
   "metadata": {},
   "outputs": [
    {
     "data": {
      "text/plain": [
       "('Hello', 1, 1, 2, 3, 4, 5)"
      ]
     },
     "execution_count": 10,
     "metadata": {},
     "output_type": "execute_result"
    }
   ],
   "source": [
    "mixed + number"
   ]
  },
  {
   "cell_type": "code",
   "execution_count": 16,
   "id": "c0ea2615",
   "metadata": {},
   "outputs": [],
   "source": [
    "number = number * 2"
   ]
  },
  {
   "cell_type": "markdown",
   "id": "241f9d95",
   "metadata": {},
   "source": [
    "TypeError: 'tuple' object does not support item assignment"
   ]
  },
  {
   "cell_type": "code",
   "execution_count": 13,
   "id": "06e67650",
   "metadata": {},
   "outputs": [],
   "source": [
    "# number[1] = 5 "
   ]
  },
  {
   "cell_type": "code",
   "execution_count": 17,
   "id": "8c462b4d",
   "metadata": {},
   "outputs": [
    {
     "name": "stdout",
     "output_type": "stream",
     "text": [
      "2\n"
     ]
    }
   ],
   "source": [
    "print(number.count(3))"
   ]
  },
  {
   "cell_type": "code",
   "execution_count": 18,
   "id": "b17ab791",
   "metadata": {},
   "outputs": [
    {
     "data": {
      "text/plain": [
       "2"
      ]
     },
     "execution_count": 18,
     "metadata": {},
     "output_type": "execute_result"
    }
   ],
   "source": [
    "number.index(3)"
   ]
  },
  {
   "cell_type": "markdown",
   "id": "9250f9db",
   "metadata": {},
   "source": [
    "Packing and Unpacking"
   ]
  },
  {
   "cell_type": "code",
   "execution_count": 19,
   "id": "2d2d5902",
   "metadata": {},
   "outputs": [
    {
     "name": "stdout",
     "output_type": "stream",
     "text": [
      "(1, 2, 4)\n"
     ]
    }
   ],
   "source": [
    "packed = 1, 2, 4\n",
    "print(packed)"
   ]
  },
  {
   "cell_type": "code",
   "execution_count": 20,
   "id": "201f1024",
   "metadata": {},
   "outputs": [],
   "source": [
    "a, b, c = packed"
   ]
  },
  {
   "cell_type": "code",
   "execution_count": 21,
   "id": "642ef1c0",
   "metadata": {},
   "outputs": [
    {
     "name": "stdout",
     "output_type": "stream",
     "text": [
      "1\n"
     ]
    }
   ],
   "source": [
    "print(a)"
   ]
  },
  {
   "cell_type": "code",
   "execution_count": 22,
   "id": "699f508c",
   "metadata": {},
   "outputs": [
    {
     "name": "stdout",
     "output_type": "stream",
     "text": [
      "2\n"
     ]
    }
   ],
   "source": [
    "print(b)"
   ]
  },
  {
   "cell_type": "code",
   "execution_count": 23,
   "id": "86d76c61",
   "metadata": {},
   "outputs": [
    {
     "name": "stdout",
     "output_type": "stream",
     "text": [
      "1\n",
      "[2, 3, 4, 5, 6, 7]\n",
      "9\n"
     ]
    }
   ],
   "source": [
    "# Unpacking with *\n",
    "numbers = (1, 2, 3, 4, 5, 6, 7, 9)\n",
    "first, *middle, last = numbers\n",
    "print(first)\n",
    "print(middle)\n",
    "print(last)"
   ]
  },
  {
   "cell_type": "code",
   "execution_count": 29,
   "id": "587ea5d8",
   "metadata": {},
   "outputs": [
    {
     "name": "stdout",
     "output_type": "stream",
     "text": [
      "('Harry', 'Potter')\n"
     ]
    }
   ],
   "source": [
    "nested = ((1, 2, 3), ('Hello', 'Harry', 'Potter'), (True, False))\n",
    "print(nested[1][1:3])"
   ]
  },
  {
   "cell_type": "code",
   "execution_count": 32,
   "id": "cb365c74",
   "metadata": {},
   "outputs": [
    {
     "name": "stdout",
     "output_type": "stream",
     "text": [
      "1 2 3 \n",
      "Hello Harry Potter \n",
      "True False \n"
     ]
    }
   ],
   "source": [
    "for sub_tuple in nested:\n",
    "    for item in sub_tuple:\n",
    "        print(item, end=\" \")\n",
    "    print()"
   ]
  }
 ],
 "metadata": {
  "kernelspec": {
   "display_name": "base",
   "language": "python",
   "name": "python3"
  },
  "language_info": {
   "codemirror_mode": {
    "name": "ipython",
    "version": 3
   },
   "file_extension": ".py",
   "mimetype": "text/x-python",
   "name": "python",
   "nbconvert_exporter": "python",
   "pygments_lexer": "ipython3",
   "version": "3.12.7"
  }
 },
 "nbformat": 4,
 "nbformat_minor": 5
}
