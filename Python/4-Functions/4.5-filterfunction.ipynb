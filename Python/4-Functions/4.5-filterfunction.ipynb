{
 "cells": [
  {
   "cell_type": "markdown",
   "id": "c7d1e8da",
   "metadata": {},
   "source": [
    "### The filter() Function\n",
    "The filter() function constructs an iterator from the elements of an iterable for which a function returns true. It is used to filter out items from a list (or any other iterable) based on a condition."
   ]
  },
  {
   "cell_type": "code",
   "execution_count": 1,
   "id": "35c93a2b",
   "metadata": {},
   "outputs": [],
   "source": [
    "def even(num):\n",
    "    if num % 2 == 0:\n",
    "        return True"
   ]
  },
  {
   "cell_type": "code",
   "execution_count": 2,
   "id": "eafb7634",
   "metadata": {},
   "outputs": [
    {
     "data": {
      "text/plain": [
       "True"
      ]
     },
     "execution_count": 2,
     "metadata": {},
     "output_type": "execute_result"
    }
   ],
   "source": [
    "even(2)"
   ]
  },
  {
   "cell_type": "code",
   "execution_count": 4,
   "id": "50edad52",
   "metadata": {},
   "outputs": [
    {
     "data": {
      "text/plain": [
       "[2, 4]"
      ]
     },
     "execution_count": 4,
     "metadata": {},
     "output_type": "execute_result"
    }
   ],
   "source": [
    "nums = [1, 2, 3, 4, 5]\n",
    "list(filter(even, nums))"
   ]
  },
  {
   "cell_type": "markdown",
   "id": "d9ce277a",
   "metadata": {},
   "source": [
    "Filter with Lambda Function"
   ]
  },
  {
   "cell_type": "code",
   "execution_count": 5,
   "id": "90c7ea36",
   "metadata": {},
   "outputs": [
    {
     "name": "stdout",
     "output_type": "stream",
     "text": [
      "[9, 10, 12, 7]\n"
     ]
    }
   ],
   "source": [
    "numbers = [1, 3, 9, 10, 12, 4, 7]\n",
    "greater_than_five = list(filter(lambda x: x > 5, numbers))\n",
    "print(greater_than_five)"
   ]
  },
  {
   "cell_type": "markdown",
   "id": "b916af93",
   "metadata": {},
   "source": [
    "Filter with Lambda Function (Multiple Condition)"
   ]
  },
  {
   "cell_type": "code",
   "execution_count": 6,
   "id": "9231cfda",
   "metadata": {},
   "outputs": [
    {
     "name": "stdout",
     "output_type": "stream",
     "text": [
      "[10, 12]\n"
     ]
    }
   ],
   "source": [
    "lst = [1, 2, 3, 4, 5, 10, 9, 8, 7]\n",
    "even_and_greater_than_five = list(filter(lambda x: x > 5 and x % 2 == 0, numbers))\n",
    "print(even_and_greater_than_five)"
   ]
  },
  {
   "cell_type": "markdown",
   "id": "741e6fc6",
   "metadata": {},
   "source": [
    "Filter on Dictionary"
   ]
  },
  {
   "cell_type": "code",
   "execution_count": 8,
   "id": "8e8422e5",
   "metadata": {},
   "outputs": [
    {
     "data": {
      "text/plain": [
       "[{'name': 'Peter', 'age': 30},\n",
       " {'name': 'Emma', 'age': 35},\n",
       " {'name': 'Selena', 'age': 40}]"
      ]
     },
     "execution_count": 8,
     "metadata": {},
     "output_type": "execute_result"
    }
   ],
   "source": [
    "# Check age > 25\n",
    "\n",
    "data = [\n",
    "    {'name': 'Harry', 'age': 25},\n",
    "    {'name': 'Peter', 'age': 30},\n",
    "    {'name': 'Emma', 'age': 35},\n",
    "    {'name': 'Selena', 'age': 40}\n",
    "]\n",
    "\n",
    "def age_greater_than_twentyfive(person):\n",
    "    return person['age'] > 25\n",
    "\n",
    "list(filter(age_greater_than_twentyfive, data))"
   ]
  },
  {
   "cell_type": "markdown",
   "id": "d25833cb",
   "metadata": {},
   "source": [
    "#### The filter() Function is a tool for creating iterators that filter items out of iterable based on a function. It is used for data cleaning & filtering out elements from a list."
   ]
  }
 ],
 "metadata": {
  "kernelspec": {
   "display_name": "base",
   "language": "python",
   "name": "python3"
  },
  "language_info": {
   "codemirror_mode": {
    "name": "ipython",
    "version": 3
   },
   "file_extension": ".py",
   "mimetype": "text/x-python",
   "name": "python",
   "nbconvert_exporter": "python",
   "pygments_lexer": "ipython3",
   "version": "3.12.7"
  }
 },
 "nbformat": 4,
 "nbformat_minor": 5
}
