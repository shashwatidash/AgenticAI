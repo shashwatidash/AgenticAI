{
 "cells": [
  {
   "cell_type": "markdown",
   "id": "c410ee93",
   "metadata": {},
   "source": [
    "### The map() Function\n",
    "\n",
    "The map() applies a given function to all items in an input list (or any other iterable) and return a map object (an iterator).\n",
    "This is useful for transforming data to a list."
   ]
  },
  {
   "cell_type": "code",
   "execution_count": 1,
   "id": "6f2ba80d",
   "metadata": {},
   "outputs": [
    {
     "data": {
      "text/plain": [
       "16"
      ]
     },
     "execution_count": 1,
     "metadata": {},
     "output_type": "execute_result"
    }
   ],
   "source": [
    "def square(num):\n",
    "    return num ** 2\n",
    "\n",
    "square(4)"
   ]
  },
  {
   "cell_type": "markdown",
   "id": "b0a1ce57",
   "metadata": {},
   "source": [
    "To do this operation on a list of numbers:"
   ]
  },
  {
   "cell_type": "code",
   "execution_count": 2,
   "id": "71e236b7",
   "metadata": {},
   "outputs": [
    {
     "data": {
      "text/plain": [
       "[1, 4, 9, 16, 25, 36, 49, 64, 81]"
      ]
     },
     "execution_count": 2,
     "metadata": {},
     "output_type": "execute_result"
    }
   ],
   "source": [
    "numbers = [1, 2, 3, 4, 5, 6, 7, 8, 9]\n",
    "list(map(square, numbers))"
   ]
  },
  {
   "cell_type": "code",
   "execution_count": 3,
   "id": "52096a31",
   "metadata": {},
   "outputs": [
    {
     "data": {
      "text/plain": [
       "[1, 4, 9, 16, 25, 36, 49, 64, 81]"
      ]
     },
     "execution_count": 3,
     "metadata": {},
     "output_type": "execute_result"
    }
   ],
   "source": [
    "# Lambda function with Map\n",
    "\n",
    "list(map(lambda x: x * x, numbers))"
   ]
  },
  {
   "cell_type": "code",
   "execution_count": 7,
   "id": "97b9b316",
   "metadata": {},
   "outputs": [
    {
     "name": "stdout",
     "output_type": "stream",
     "text": [
      "[5, 7, 9, 11]\n"
     ]
    }
   ],
   "source": [
    "# Map multiple iterable\n",
    "\n",
    "nums1 = [1, 2, 3, 4]\n",
    "nums2 = [4, 5, 6, 7]\n",
    "\n",
    "idx_addition = list(map(lambda x, y: x + y, nums1, nums2))\n",
    "print(idx_addition)"
   ]
  },
  {
   "cell_type": "markdown",
   "id": "1c696711",
   "metadata": {},
   "source": [
    "Convert list of string numbers to integers:"
   ]
  },
  {
   "cell_type": "code",
   "execution_count": 8,
   "id": "31d4b08a",
   "metadata": {},
   "outputs": [
    {
     "data": {
      "text/plain": [
       "[1, 2, 3, 4]"
      ]
     },
     "execution_count": 8,
     "metadata": {},
     "output_type": "execute_result"
    }
   ],
   "source": [
    "str_nums = ['1', '2', '3', '4']\n",
    "list(map(int, str_nums))"
   ]
  },
  {
   "cell_type": "markdown",
   "id": "335dbc05",
   "metadata": {},
   "source": [
    "Convert list of strings to uppercase:"
   ]
  },
  {
   "cell_type": "code",
   "execution_count": 10,
   "id": "19e8979f",
   "metadata": {},
   "outputs": [
    {
     "name": "stdout",
     "output_type": "stream",
     "text": [
      "['APPLE', 'BANANA', 'CHERRY']\n"
     ]
    }
   ],
   "source": [
    "words = ['apple', 'banana', 'cherry']\n",
    "upper_word =  list(map(str.upper, words))\n",
    "print(upper_word)"
   ]
  },
  {
   "cell_type": "code",
   "execution_count": 12,
   "id": "fc6f4fdc",
   "metadata": {},
   "outputs": [
    {
     "data": {
      "text/plain": [
       "['Kristen', 'Harry']"
      ]
     },
     "execution_count": 12,
     "metadata": {},
     "output_type": "execute_result"
    }
   ],
   "source": [
    "def get_name(person):\n",
    "    return person['name']\n",
    "\n",
    "people = [\n",
    "    {'name' : 'Kristen', 'age' : 30},\n",
    "    {'name' : 'Harry', 'age' : 24}\n",
    "]\n",
    "\n",
    "list(map(get_name, people))"
   ]
  },
  {
   "cell_type": "markdown",
   "id": "11a8ec36",
   "metadata": {},
   "source": [
    "#### The map() function is a tool for applying transformation to iterable data structures. It can be used with regular functions, lambda functions, and even multiple iterables."
   ]
  }
 ],
 "metadata": {
  "kernelspec": {
   "display_name": "base",
   "language": "python",
   "name": "python3"
  },
  "language_info": {
   "codemirror_mode": {
    "name": "ipython",
    "version": 3
   },
   "file_extension": ".py",
   "mimetype": "text/x-python",
   "name": "python",
   "nbconvert_exporter": "python",
   "pygments_lexer": "ipython3",
   "version": "3.12.7"
  }
 },
 "nbformat": 4,
 "nbformat_minor": 5
}
