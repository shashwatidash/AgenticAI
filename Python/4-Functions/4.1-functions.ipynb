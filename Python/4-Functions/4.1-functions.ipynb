{
 "cells": [
  {
   "cell_type": "markdown",
   "id": "759bf3f6",
   "metadata": {},
   "source": [
    "### Overview\n",
    "\n",
    "- Defining Functions\n",
    "- Calling Functions\n",
    "- Function parameters\n",
    "- Default parameters\n",
    "- Variable Length Arguments\n",
    "- Return statement\n",
    "\n",
    "### Function\n",
    "A function is a block of code that performs a specific task. "
   ]
  },
  {
   "cell_type": "code",
   "execution_count": 1,
   "id": "2f2aef7e",
   "metadata": {},
   "outputs": [],
   "source": [
    "# Syntax\n",
    "def function_name(parameters):\n",
    "    \"\"\"Docstring\"\"\"\n",
    "    # Function body\n",
    "    return expression"
   ]
  },
  {
   "cell_type": "code",
   "execution_count": 2,
   "id": "e3c4f5a3",
   "metadata": {},
   "outputs": [
    {
     "name": "stdout",
     "output_type": "stream",
     "text": [
      "The number is even\n"
     ]
    }
   ],
   "source": [
    "num = 24\n",
    "if num % 2 == 0:\n",
    "    print(\"The number is even\")\n",
    "else:\n",
    "    print(\"The number is odd\")"
   ]
  },
  {
   "cell_type": "code",
   "execution_count": 3,
   "id": "46e84955",
   "metadata": {},
   "outputs": [],
   "source": [
    "def check_odd_even(num):\n",
    "    if num % 2 == 0:\n",
    "        print(\"The number is even\")\n",
    "    else:\n",
    "        print(\"The number is odd\")"
   ]
  },
  {
   "cell_type": "code",
   "execution_count": 4,
   "id": "42ff611c",
   "metadata": {},
   "outputs": [
    {
     "name": "stdout",
     "output_type": "stream",
     "text": [
      "The number is odd\n"
     ]
    }
   ],
   "source": [
    "check_odd_even(23)"
   ]
  },
  {
   "cell_type": "code",
   "execution_count": 5,
   "id": "3cff3b98",
   "metadata": {},
   "outputs": [
    {
     "name": "stdout",
     "output_type": "stream",
     "text": [
      "The number is even\n"
     ]
    }
   ],
   "source": [
    "check_odd_even(100)"
   ]
  },
  {
   "cell_type": "code",
   "execution_count": 6,
   "id": "ae68e1a8",
   "metadata": {},
   "outputs": [],
   "source": [
    "def add(num1, num2):\n",
    "    return num1 + num2"
   ]
  },
  {
   "cell_type": "code",
   "execution_count": 8,
   "id": "25fb8a64",
   "metadata": {},
   "outputs": [
    {
     "data": {
      "text/plain": [
       "1999999"
      ]
     },
     "execution_count": 8,
     "metadata": {},
     "output_type": "execute_result"
    }
   ],
   "source": [
    "add(1000000, 999999)"
   ]
  },
  {
   "cell_type": "code",
   "execution_count": 10,
   "id": "8d0be15d",
   "metadata": {},
   "outputs": [
    {
     "name": "stdout",
     "output_type": "stream",
     "text": [
      "Hello Kristen\n"
     ]
    }
   ],
   "source": [
    "def greet(name = 'Human'):\n",
    "    print(f'Hello {name}')\n",
    "\n",
    "greet('Kristen')"
   ]
  },
  {
   "cell_type": "code",
   "execution_count": 11,
   "id": "6535860b",
   "metadata": {},
   "outputs": [
    {
     "name": "stdout",
     "output_type": "stream",
     "text": [
      "Hello Human\n"
     ]
    }
   ],
   "source": [
    "greet()"
   ]
  },
  {
   "cell_type": "markdown",
   "id": "2e512811",
   "metadata": {},
   "source": [
    "Positional Argument"
   ]
  },
  {
   "cell_type": "code",
   "execution_count": 14,
   "id": "0348884a",
   "metadata": {},
   "outputs": [
    {
     "name": "stdout",
     "output_type": "stream",
     "text": [
      "1\n",
      "2\n",
      "3\n"
     ]
    }
   ],
   "source": [
    "# Variable Length Argument\n",
    "# Positional and Keyword\n",
    "\n",
    "def print_numbers(*args):\n",
    "    for i in args:\n",
    "        print(i)\n",
    "\n",
    "print_numbers(1, 2, 3)\n"
   ]
  },
  {
   "cell_type": "code",
   "execution_count": 13,
   "id": "f96f74b8",
   "metadata": {},
   "outputs": [
    {
     "name": "stdout",
     "output_type": "stream",
     "text": [
      "Hey\n",
      "Hope\n",
      "you\n",
      "are\n",
      "doing\n",
      "good\n"
     ]
    }
   ],
   "source": [
    "print_numbers('Hey', 'Hope', 'you', 'are', 'doing', 'good')"
   ]
  },
  {
   "cell_type": "markdown",
   "id": "0d171215",
   "metadata": {},
   "source": [
    "Keyword Argument"
   ]
  },
  {
   "cell_type": "code",
   "execution_count": null,
   "id": "a52376f0",
   "metadata": {},
   "outputs": [],
   "source": [
    "def print_details(**kwargs):\n",
    "    for k, v in kwargs.items():\n",
    "        print(f'{k} - {v}')"
   ]
  },
  {
   "cell_type": "code",
   "execution_count": 19,
   "id": "4ec87fcc",
   "metadata": {},
   "outputs": [
    {
     "name": "stdout",
     "output_type": "stream",
     "text": [
      "item - Cetaphil Sunscreen\n",
      "price - 699\n"
     ]
    }
   ],
   "source": [
    "print_details(item = 'Cetaphil Sunscreen', price = 699)"
   ]
  },
  {
   "cell_type": "code",
   "execution_count": 22,
   "id": "b9aae9b3",
   "metadata": {},
   "outputs": [],
   "source": [
    "def print_info(*args, **kwargs):\n",
    "    for v in args:\n",
    "        print(f'Postional argument : {v}')\n",
    "    print(f'Keyword arguments : ')\n",
    "    for k, v in kwargs.items():\n",
    "        print(f'{k} - {v}')"
   ]
  },
  {
   "cell_type": "code",
   "execution_count": 23,
   "id": "84c21570",
   "metadata": {},
   "outputs": [
    {
     "name": "stdout",
     "output_type": "stream",
     "text": [
      "Postional argument : 1\n",
      "Postional argument : 2\n",
      "Postional argument : 3\n",
      "Postional argument : 4\n",
      "Postional argument : 5\n",
      "Keyword arguments : \n",
      "info - numbers\n"
     ]
    }
   ],
   "source": [
    "# Positional arguments should come before Keyword arguments\n",
    "print_info(1, 2, 3, 4, 5, info = 'numbers')"
   ]
  },
  {
   "cell_type": "code",
   "execution_count": 24,
   "id": "b803ea6a",
   "metadata": {},
   "outputs": [
    {
     "data": {
      "text/plain": [
       "False"
      ]
     },
     "execution_count": 24,
     "metadata": {},
     "output_type": "execute_result"
    }
   ],
   "source": [
    "# Return statement\n",
    "\n",
    "def check_ret(a, b):\n",
    "    return a == b\n",
    "check_ret(200, \"200\")"
   ]
  }
 ],
 "metadata": {
  "kernelspec": {
   "display_name": "base",
   "language": "python",
   "name": "python3"
  },
  "language_info": {
   "codemirror_mode": {
    "name": "ipython",
    "version": 3
   },
   "file_extension": ".py",
   "mimetype": "text/x-python",
   "name": "python",
   "nbconvert_exporter": "python",
   "pygments_lexer": "ipython3",
   "version": "3.12.7"
  }
 },
 "nbformat": 4,
 "nbformat_minor": 5
}
