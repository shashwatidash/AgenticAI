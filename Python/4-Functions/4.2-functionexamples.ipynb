{
 "cells": [
  {
   "cell_type": "markdown",
   "id": "d2095934",
   "metadata": {},
   "source": [
    "### Function Examples"
   ]
  },
  {
   "cell_type": "markdown",
   "id": "b2ac7591",
   "metadata": {},
   "source": [
    "Temperature Conversion"
   ]
  },
  {
   "cell_type": "code",
   "execution_count": 1,
   "id": "f30f2ce6",
   "metadata": {},
   "outputs": [],
   "source": [
    "def convert_temperature(temp, unit):\n",
    "    '''This function converts temp between Celsius and Fahrenhiet'''\n",
    "    if unit.lower() == 'c':\n",
    "        return temp * (9 / 5) + 32\n",
    "    elif unit.lower() == 'f':\n",
    "        return (temp - 32) * (5 / 9)\n",
    "    else:\n",
    "        return None"
   ]
  },
  {
   "cell_type": "code",
   "execution_count": 2,
   "id": "824e7bed",
   "metadata": {},
   "outputs": [
    {
     "data": {
      "text/plain": [
       "77.0"
      ]
     },
     "execution_count": 2,
     "metadata": {},
     "output_type": "execute_result"
    }
   ],
   "source": [
    "convert_temperature(25, 'C')"
   ]
  },
  {
   "cell_type": "code",
   "execution_count": 3,
   "id": "78d99b4b",
   "metadata": {},
   "outputs": [
    {
     "data": {
      "text/plain": [
       "25.0"
      ]
     },
     "execution_count": 3,
     "metadata": {},
     "output_type": "execute_result"
    }
   ],
   "source": [
    "convert_temperature(77, 'f')"
   ]
  },
  {
   "cell_type": "markdown",
   "id": "313e59b6",
   "metadata": {},
   "source": [
    "Password Strength Checker"
   ]
  },
  {
   "cell_type": "code",
   "execution_count": null,
   "id": "ba4b617e",
   "metadata": {},
   "outputs": [],
   "source": [
    "def checkStrength(password):\n",
    "    '''This function checks if there is a lower, an upper, a digit and a special character to be a strong one'''\n",
    "\n",
    "    if len(password) < 8:\n",
    "        return False\n",
    "    if not any(ch.isdigit() for ch in password):\n",
    "        return False\n",
    "    if not any(ch.islower() for ch in password):\n",
    "        return False\n",
    "    if not any(ch.isupper() for ch in password):\n",
    "        return False\n",
    "    if not any(ch in '!@#$%^&*()_+' for ch in password):\n",
    "        return False\n",
    "    \n",
    "    return True"
   ]
  },
  {
   "cell_type": "code",
   "execution_count": 5,
   "id": "9e7553f7",
   "metadata": {},
   "outputs": [
    {
     "data": {
      "text/plain": [
       "False"
      ]
     },
     "execution_count": 5,
     "metadata": {},
     "output_type": "execute_result"
    }
   ],
   "source": [
    "checkStrength('weakPwd')"
   ]
  },
  {
   "cell_type": "code",
   "execution_count": 6,
   "id": "9a16cbab",
   "metadata": {},
   "outputs": [
    {
     "data": {
      "text/plain": [
       "False"
      ]
     },
     "execution_count": 6,
     "metadata": {},
     "output_type": "execute_result"
    }
   ],
   "source": [
    "checkStrength('weak1Pwd')"
   ]
  },
  {
   "cell_type": "code",
   "execution_count": 7,
   "id": "22bce1b3",
   "metadata": {},
   "outputs": [
    {
     "data": {
      "text/plain": [
       "True"
      ]
     },
     "execution_count": 7,
     "metadata": {},
     "output_type": "execute_result"
    }
   ],
   "source": [
    "checkStrength('weakPwd123#')"
   ]
  },
  {
   "cell_type": "markdown",
   "id": "937240d8",
   "metadata": {},
   "source": [
    "Total Cost of Items in a Shopping Cart"
   ]
  },
  {
   "cell_type": "code",
   "execution_count": 8,
   "id": "af038916",
   "metadata": {},
   "outputs": [
    {
     "data": {
      "text/plain": [
       "1094000"
      ]
     },
     "execution_count": 8,
     "metadata": {},
     "output_type": "execute_result"
    }
   ],
   "source": [
    "# Cart data\n",
    "cart = [\n",
    "    { 'prod_id' : 1001, 'prod_name' : 'XBox', 'prod_price' : 59000, 'qty' : 15 },\n",
    "    { 'prod_id' : 1002, 'prod_name' : 'Dyson Hairwrap', 'prod_price' : 60000, 'qty' : 2 },\n",
    "    { 'prod_id' : 1003, 'prod_name' : 'Victus Laptop', 'prod_price' : 89000, 'qty' : 1 },\n",
    "]\n",
    "\n",
    "def calculate_total_cost():\n",
    "    total_cost = 0\n",
    "    for item in cart:\n",
    "        total_cost += item['prod_price'] * item['qty']\n",
    "    return total_cost\n",
    "\n",
    "calculate_total_cost()\n"
   ]
  },
  {
   "cell_type": "markdown",
   "id": "a32c6c57",
   "metadata": {},
   "source": [
    "Check Palindrome String"
   ]
  },
  {
   "cell_type": "code",
   "execution_count": 10,
   "id": "a74d3cf2",
   "metadata": {},
   "outputs": [
    {
     "data": {
      "text/plain": [
       "True"
      ]
     },
     "execution_count": 10,
     "metadata": {},
     "output_type": "execute_result"
    }
   ],
   "source": [
    "def check_palindrome(s):\n",
    "    s = s.lower().replace(\" \", \"\")\n",
    "    return s == s[::-1]\n",
    "\n",
    "check_palindrome('Sar as')\n"
   ]
  },
  {
   "cell_type": "markdown",
   "id": "95027eed",
   "metadata": {},
   "source": [
    "Factorial"
   ]
  },
  {
   "cell_type": "code",
   "execution_count": 14,
   "id": "6a44f16e",
   "metadata": {},
   "outputs": [
    {
     "data": {
      "text/plain": [
       "479001600"
      ]
     },
     "execution_count": 14,
     "metadata": {},
     "output_type": "execute_result"
    }
   ],
   "source": [
    "def factorial(n):\n",
    "    if n == 1:\n",
    "        return 1\n",
    "    return n * factorial(n - 1)\n",
    "\n",
    "factorial(12)"
   ]
  },
  {
   "cell_type": "markdown",
   "id": "8a865983",
   "metadata": {},
   "source": [
    "Read a File and count frequency of each word"
   ]
  },
  {
   "cell_type": "code",
   "execution_count": 3,
   "id": "637dc581",
   "metadata": {},
   "outputs": [],
   "source": [
    "def count_freq(file_path):\n",
    "    \n",
    "    # declare dictionary\n",
    "    word_count = {}\n",
    "\n",
    "    with open(file_path, 'r') as file:\n",
    "        for line in file:\n",
    "            words = line.split()\n",
    "            for word in words:\n",
    "                word = word.lower().strip('.,/;:\"\\'!?')\n",
    "                word_count[word] = word_count.get(word, 0) + 1\n",
    "    return word_count\n",
    "\n",
    "file_path = 'sample.txt'"
   ]
  },
  {
   "cell_type": "code",
   "execution_count": 4,
   "id": "00327454",
   "metadata": {},
   "outputs": [
    {
     "data": {
      "text/plain": [
       "{'hie': 1,\n",
       " '': 1,\n",
       " 'all': 2,\n",
       " 'i': 1,\n",
       " 'can': 1,\n",
       " 'see': 1,\n",
       " 'is': 1,\n",
       " 'a': 1,\n",
       " 'sea': 2,\n",
       " 'full': 1,\n",
       " 'of': 1,\n",
       " 'the': 1,\n",
       " 'shells': 1,\n",
       " 'floating': 1}"
      ]
     },
     "execution_count": 4,
     "metadata": {},
     "output_type": "execute_result"
    }
   ],
   "source": [
    "count_freq(file_path)"
   ]
  }
 ],
 "metadata": {
  "kernelspec": {
   "display_name": "base",
   "language": "python",
   "name": "python3"
  },
  "language_info": {
   "codemirror_mode": {
    "name": "ipython",
    "version": 3
   },
   "file_extension": ".py",
   "mimetype": "text/x-python",
   "name": "python",
   "nbconvert_exporter": "python",
   "pygments_lexer": "ipython3",
   "version": "3.12.7"
  }
 },
 "nbformat": 4,
 "nbformat_minor": 5
}
