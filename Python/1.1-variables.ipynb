{
 "cells": [
  {
   "cell_type": "markdown",
   "id": "353d4ec5",
   "metadata": {},
   "source": [
    "### Overview\n",
    "\n",
    "- Declaring and Assigning variables\n",
    "- Naming Conventions\n",
    "- Understanding Variables Types\n",
    "- Type checking and conversion\n",
    "- Dynamic typing"
   ]
  },
  {
   "cell_type": "code",
   "execution_count": 1,
   "id": "0d3e6255",
   "metadata": {},
   "outputs": [
    {
     "name": "stdout",
     "output_type": "stream",
     "text": [
      "Age :  78\n",
      "Height :  6.2\n",
      "Name :  John Doe\n"
     ]
    }
   ],
   "source": [
    "## declaring and assinging variables\n",
    "\n",
    "name = \"John Doe\"\n",
    "age = 78\n",
    "height = 6.2\n",
    "is_student = False\n",
    "\n",
    "print(\"Age : \", age)\n",
    "print(\"Height : \", height)\n",
    "print(\"Name : \", name)"
   ]
  },
  {
   "cell_type": "code",
   "execution_count": 5,
   "id": "24f8aa70",
   "metadata": {},
   "outputs": [
    {
     "name": "stdout",
     "output_type": "stream",
     "text": [
      "Doe\n",
      "John\n"
     ]
    }
   ],
   "source": [
    "## naming convention\n",
    "## variable names should be descriptive \n",
    "## must always start with a letter or underscore, and can contain letter, numbers and underscores in between\n",
    "## variables names are case sensitive\n",
    "\n",
    "# valid\n",
    "first_name = \"John\"\n",
    "_lastname = \"Doe\"\n",
    "\n",
    "print(_lastname)\n",
    "\n",
    "\n",
    "# invalid\n",
    "# first-name = \"John\"\n",
    "\n",
    "print(first_name)"
   ]
  },
  {
   "cell_type": "code",
   "execution_count": 6,
   "id": "e604f4ac",
   "metadata": {},
   "outputs": [
    {
     "data": {
      "text/plain": [
       "bool"
      ]
     },
     "execution_count": 6,
     "metadata": {},
     "output_type": "execute_result"
    }
   ],
   "source": [
    "## variable types\n",
    "## Python is dynamically typed; type is determined at runtime\n",
    "\n",
    "age = 78\n",
    "height = 6.2\n",
    "name = \"John Doe\"\n",
    "is_student = False\n",
    "type(is_student)"
   ]
  },
  {
   "cell_type": "code",
   "execution_count": 9,
   "id": "e69a5335",
   "metadata": {},
   "outputs": [
    {
     "name": "stdout",
     "output_type": "stream",
     "text": [
      "<class 'int'>\n",
      "78\n",
      "<class 'str'>\n"
     ]
    }
   ],
   "source": [
    "## type checking and conversion\n",
    "\n",
    "print(type(age))\n",
    "\n",
    "age_str = str(age)\n",
    "print(age_str)\n",
    "print(type(age_str))"
   ]
  },
  {
   "cell_type": "code",
   "execution_count": 11,
   "id": "e2e0a051",
   "metadata": {},
   "outputs": [
    {
     "name": "stdout",
     "output_type": "stream",
     "text": [
      "<class 'str'>\n",
      "<class 'int'>\n"
     ]
    }
   ],
   "source": [
    "age = '25'\n",
    "print(type(age))\n",
    "print(type(int(age)))"
   ]
  },
  {
   "cell_type": "code",
   "execution_count": null,
   "id": "7014c761",
   "metadata": {},
   "outputs": [],
   "source": [
    "## invalid conversion\n",
    "\n",
    "# int(name)"
   ]
  },
  {
   "cell_type": "markdown",
   "id": "b9abbced",
   "metadata": {},
   "source": [
    "invalid literal for int() with base 10: 'John Doe'"
   ]
  },
  {
   "cell_type": "code",
   "execution_count": 16,
   "id": "17ef23da",
   "metadata": {},
   "outputs": [
    {
     "name": "stdout",
     "output_type": "stream",
     "text": [
      "<class 'float'>\n",
      "6.2\n",
      "<class 'int'>\n",
      "6\n"
     ]
    }
   ],
   "source": [
    "print(type(height))\n",
    "print(height)\n",
    "\n",
    "print(type(int(height)))\n",
    "print(int(height))"
   ]
  },
  {
   "cell_type": "code",
   "execution_count": 19,
   "id": "0f146f83",
   "metadata": {},
   "outputs": [
    {
     "name": "stdout",
     "output_type": "stream",
     "text": [
      "10 <class 'int'>\n",
      "Hello <class 'str'>\n",
      "3.14 <class 'float'>\n"
     ]
    }
   ],
   "source": [
    "## dynamic typing \n",
    "## Python allows the type of the variable to change as the program executes\n",
    "\n",
    "var = 10\n",
    "print(var, type(var))\n",
    "\n",
    "var = \"Hello\"\n",
    "print(var, type(var))\n",
    "\n",
    "var = 3.14\n",
    "print(var, type(var))"
   ]
  },
  {
   "cell_type": "code",
   "execution_count": 22,
   "id": "6b2f4cf9",
   "metadata": {},
   "outputs": [
    {
     "name": "stdout",
     "output_type": "stream",
     "text": [
      "25 <class 'int'>\n"
     ]
    }
   ],
   "source": [
    "## input\n",
    "\n",
    "age = int(input(\"What is the age?\"))\n",
    "print(age, type(age))"
   ]
  },
  {
   "cell_type": "markdown",
   "id": "4cd23ca0",
   "metadata": {},
   "source": [
    "Simple calculator"
   ]
  },
  {
   "cell_type": "code",
   "execution_count": 25,
   "id": "a953e1e4",
   "metadata": {},
   "outputs": [
    {
     "name": "stdout",
     "output_type": "stream",
     "text": [
      "Sum:  45.0\n",
      "Difference:  15.0\n",
      "Product:  450.0\n",
      "Quotient:  2.0\n"
     ]
    }
   ],
   "source": [
    "num1 = float(input(\"Enter first number: \"))\n",
    "num2 = float(input(\"Enter second number: \"))\n",
    "\n",
    "sum = num1 + num2\n",
    "difference = num1 - num2\n",
    "product = num1 * num2\n",
    "quotient = num1 / num2\n",
    "\n",
    "print(\"Sum: \", sum)\n",
    "print(\"Difference: \", difference)\n",
    "print(\"Product: \", product)\n",
    "print(\"Quotient: \", quotient)"
   ]
  }
 ],
 "metadata": {
  "kernelspec": {
   "display_name": "Python 3",
   "language": "python",
   "name": "python3"
  },
  "language_info": {
   "codemirror_mode": {
    "name": "ipython",
    "version": 3
   },
   "file_extension": ".py",
   "mimetype": "text/x-python",
   "name": "python",
   "nbconvert_exporter": "python",
   "pygments_lexer": "ipython3",
   "version": "3.12.0"
  }
 },
 "nbformat": 4,
 "nbformat_minor": 5
}
